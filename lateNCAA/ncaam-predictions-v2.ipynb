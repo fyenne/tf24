{
 "cells": [
  {
   "cell_type": "markdown",
   "metadata": {
    "papermill": {
     "duration": 0.007269,
     "end_time": "2021-03-14T20:34:10.011914",
     "exception": false,
     "start_time": "2021-03-14T20:34:10.004645",
     "status": "completed"
    },
    "tags": []
   },
   "source": [
    "# NCAAM Predictions\n",
    "---\n",
    "# If you fork, do leave an upvote!"
   ]
  },
  {
   "cell_type": "code",
   "execution_count": 5,
   "metadata": {
    "_cell_guid": "b1076dfc-b9ad-4769-8c92-a6c4dae69d19",
    "_uuid": "8f2839f25d086af736a60e9eeb907d3b93b6e0e5",
    "execution": {
     "iopub.execute_input": "2021-03-14T20:34:10.062066Z",
     "iopub.status.busy": "2021-03-14T20:34:10.061331Z",
     "iopub.status.idle": "2021-03-14T22:02:20.732538Z",
     "shell.execute_reply": "2021-03-14T22:02:20.733998Z"
    },
    "papermill": {
     "duration": 5290.716466,
     "end_time": "2021-03-14T22:02:20.734838",
     "exception": false,
     "start_time": "2021-03-14T20:34:10.018372",
     "status": "completed"
    },
    "tags": []
   },
   "outputs": [],
   "source": [
    "import pandas as pd\n",
    "import numpy as np\n",
    "from sklearn.linear_model import LogisticRegression\n",
    "import matplotlib.pyplot as plt\n",
    "from sklearn.utils import shuffle\n",
    "from sklearn.model_selection import GridSearchCV"
   ]
  },
  {
   "cell_type": "code",
   "execution_count": 6,
   "outputs": [],
   "source": [
    "path ='/Users/fyenne/Downloads/booooks/semester5/R_ML/Mar_NCAA/ncaam-march-mania-2021'"
   ],
   "metadata": {
    "collapsed": false,
    "pycharm": {
     "name": "#%%\n"
    }
   }
  },
  {
   "cell_type": "code",
   "execution_count": 4,
   "outputs": [
    {
     "data": {
      "text/plain": "'/Users/fyenne/Downloads/booooks/semester5/R_ML/Mar_NCAA/ncaam-march-mania-2021asd'"
     },
     "execution_count": 4,
     "metadata": {},
     "output_type": "execute_result"
    }
   ],
   "source": [],
   "metadata": {
    "collapsed": false,
    "pycharm": {
     "name": "#%%\n"
    }
   }
  },
  {
   "cell_type": "code",
   "execution_count": 7,
   "outputs": [],
   "source": [
    "tourney_result = pd.read_csv(path+'/MNCAATourneyCompactResults.csv')\n",
    "tourney_seed = pd.read_csv(path+'/MNCAATourneySeeds.csv')"
   ],
   "metadata": {
    "collapsed": false,
    "pycharm": {
     "name": "#%%\n"
    }
   }
  },
  {
   "cell_type": "code",
   "execution_count": 8,
   "outputs": [
    {
     "data": {
      "text/plain": "      Season  WTeamID  LTeamID WSeed LSeed\n0       1985     1116     1234   X09   X08\n1       1985     1120     1345   Z11   Z06\n2       1985     1207     1250   W01   W16\n3       1985     1229     1425   Y09   Y08\n4       1985     1242     1325   Z03   Z14\n...      ...      ...      ...   ...   ...\n2246    2019     1120     1246   Y05   Y02\n2247    2019     1277     1181   W02   W01\n2248    2019     1403     1277   X03   W02\n2249    2019     1438     1120   Z01   Y05\n2250    2019     1438     1403   Z01   X03\n\n[2251 rows x 5 columns]",
      "text/html": "<div>\n<style scoped>\n    .dataframe tbody tr th:only-of-type {\n        vertical-align: middle;\n    }\n\n    .dataframe tbody tr th {\n        vertical-align: top;\n    }\n\n    .dataframe thead th {\n        text-align: right;\n    }\n</style>\n<table border=\"1\" class=\"dataframe\">\n  <thead>\n    <tr style=\"text-align: right;\">\n      <th></th>\n      <th>Season</th>\n      <th>WTeamID</th>\n      <th>LTeamID</th>\n      <th>WSeed</th>\n      <th>LSeed</th>\n    </tr>\n  </thead>\n  <tbody>\n    <tr>\n      <th>0</th>\n      <td>1985</td>\n      <td>1116</td>\n      <td>1234</td>\n      <td>X09</td>\n      <td>X08</td>\n    </tr>\n    <tr>\n      <th>1</th>\n      <td>1985</td>\n      <td>1120</td>\n      <td>1345</td>\n      <td>Z11</td>\n      <td>Z06</td>\n    </tr>\n    <tr>\n      <th>2</th>\n      <td>1985</td>\n      <td>1207</td>\n      <td>1250</td>\n      <td>W01</td>\n      <td>W16</td>\n    </tr>\n    <tr>\n      <th>3</th>\n      <td>1985</td>\n      <td>1229</td>\n      <td>1425</td>\n      <td>Y09</td>\n      <td>Y08</td>\n    </tr>\n    <tr>\n      <th>4</th>\n      <td>1985</td>\n      <td>1242</td>\n      <td>1325</td>\n      <td>Z03</td>\n      <td>Z14</td>\n    </tr>\n    <tr>\n      <th>...</th>\n      <td>...</td>\n      <td>...</td>\n      <td>...</td>\n      <td>...</td>\n      <td>...</td>\n    </tr>\n    <tr>\n      <th>2246</th>\n      <td>2019</td>\n      <td>1120</td>\n      <td>1246</td>\n      <td>Y05</td>\n      <td>Y02</td>\n    </tr>\n    <tr>\n      <th>2247</th>\n      <td>2019</td>\n      <td>1277</td>\n      <td>1181</td>\n      <td>W02</td>\n      <td>W01</td>\n    </tr>\n    <tr>\n      <th>2248</th>\n      <td>2019</td>\n      <td>1403</td>\n      <td>1277</td>\n      <td>X03</td>\n      <td>W02</td>\n    </tr>\n    <tr>\n      <th>2249</th>\n      <td>2019</td>\n      <td>1438</td>\n      <td>1120</td>\n      <td>Z01</td>\n      <td>Y05</td>\n    </tr>\n    <tr>\n      <th>2250</th>\n      <td>2019</td>\n      <td>1438</td>\n      <td>1403</td>\n      <td>Z01</td>\n      <td>X03</td>\n    </tr>\n  </tbody>\n</table>\n<p>2251 rows × 5 columns</p>\n</div>"
     },
     "execution_count": 8,
     "metadata": {},
     "output_type": "execute_result"
    }
   ],
   "source": [
    "# deleting unnecessary columns\n",
    "tourney_result = tourney_result.drop(['DayNum', 'WScore', 'LScore', 'WLoc', 'NumOT'], axis=1)\n",
    "tourney_result = pd.merge(tourney_result, tourney_seed, left_on=['Season', 'WTeamID'],\n",
    "                          right_on=['Season', 'TeamID'], how='left')\n",
    "tourney_result.rename(columns={'Seed':'WSeed'}, inplace=True)\n",
    "tourney_result = tourney_result.drop('TeamID', axis=1)\n",
    "tourney_result = pd.merge(tourney_result, tourney_seed, left_on=['Season', 'LTeamID'],\n",
    "                          right_on=['Season', 'TeamID'], how='left')\n",
    "tourney_result.rename(columns={'Seed':'LSeed'}, inplace=True)\n",
    "tourney_result = tourney_result.drop('TeamID', axis=1)\n",
    "tourney_result"
   ],
   "metadata": {
    "collapsed": false,
    "pycharm": {
     "name": "#%%\n"
    }
   }
  },
  {
   "cell_type": "code",
   "execution_count": 9,
   "outputs": [
    {
     "name": "stderr",
     "output_type": "stream",
     "text": [
      "/Users/fyenne/miniforge3/envs/siming/lib/python3.8/site-packages/pandas/core/frame.py:4441: SettingWithCopyWarning: \n",
      "A value is trying to be set on a copy of a slice from a DataFrame\n",
      "\n",
      "See the caveats in the documentation: https://pandas.pydata.org/pandas-docs/stable/user_guide/indexing.html#returning-a-view-versus-a-copy\n",
      "  return super().rename(\n"
     ]
    }
   ],
   "source": [
    "def get_seed(x):\n",
    "    return int(x[1:3])\n",
    "\n",
    "tourney_result['WSeed'] = tourney_result['WSeed'].map(lambda x: get_seed(x))\n",
    "tourney_result['LSeed'] = tourney_result['LSeed'].map(lambda x: get_seed(x))\n",
    "tourney_result\n",
    "season_result = pd.read_csv(path+'/MRegularSeasonCompactResults.csv')\n",
    "season_win_result = season_result[['Season', 'WTeamID', 'WScore']]\n",
    "season_lose_result = season_result[['Season', 'LTeamID', 'LScore']]\n",
    "season_win_result.rename(columns={'WTeamID':'TeamID', 'WScore':'Score'}, inplace=True)\n",
    "season_lose_result.rename(columns={'LTeamID':'TeamID', 'LScore':'Score'}, inplace=True)\n",
    "season_result = pd.concat((season_win_result, season_lose_result)).reset_index(drop=True)\n",
    "season_score = season_result.groupby(['Season', 'TeamID'])['Score'].sum().reset_index()\n",
    "tourney_result = pd.merge(tourney_result, season_score, left_on=['Season', 'WTeamID'], right_on=['Season', 'TeamID'], how='left')\n",
    "tourney_result.rename(columns={'Score':'WScoreT'}, inplace=True)\n",
    "tourney_result = tourney_result.drop('TeamID', axis=1)\n",
    "tourney_result = pd.merge(tourney_result, season_score, left_on=['Season', 'LTeamID'], right_on=['Season', 'TeamID'], how='left')\n",
    "tourney_result.rename(columns={'Score':'LScoreT'}, inplace=True)\n",
    "tourney_result = tourney_result.drop('TeamID', axis=1)\n",
    "tourney_win_result = tourney_result.drop(['Season', 'WTeamID', 'LTeamID'], axis=1)\n",
    "tourney_win_result.rename(columns={'WSeed':'Seed1', 'LSeed':'Seed2', 'WScoreT':'ScoreT1', 'LScoreT':'ScoreT2'}, inplace=True)"
   ],
   "metadata": {
    "collapsed": false,
    "pycharm": {
     "name": "#%%\n"
    }
   }
  },
  {
   "cell_type": "code",
   "execution_count": 10,
   "outputs": [],
   "source": [
    "tourney_lose_result = tourney_win_result.copy()\n",
    "tourney_lose_result['Seed1'] = tourney_win_result['Seed2']\n",
    "tourney_lose_result['Seed2'] = tourney_win_result['Seed1']\n",
    "tourney_lose_result['ScoreT1'] = tourney_win_result['ScoreT2']\n",
    "tourney_lose_result['ScoreT2'] = tourney_win_result['ScoreT1']\n",
    "tourney_win_result['Seed_diff'] = tourney_win_result['Seed1'] - tourney_win_result['Seed2']\n",
    "tourney_win_result['ScoreT_diff'] = tourney_win_result['ScoreT1'] - tourney_win_result['ScoreT2']\n",
    "tourney_lose_result['Seed_diff'] = tourney_lose_result['Seed1'] - tourney_lose_result['Seed2']\n",
    "tourney_lose_result['ScoreT_diff'] = tourney_lose_result['ScoreT1'] - tourney_lose_result['ScoreT2']\n",
    "tourney_win_result['result'] = 1\n",
    "tourney_lose_result['result'] = 0\n",
    "tourney_result = pd.concat((tourney_win_result, tourney_lose_result)).reset_index(drop=True)"
   ],
   "metadata": {
    "collapsed": false,
    "pycharm": {
     "name": "#%%\n"
    }
   }
  },
  {
   "cell_type": "code",
   "execution_count": 11,
   "outputs": [],
   "source": [
    "test_df = pd.read_csv(path+'/MSampleSubmissionStage1.csv')\n",
    "test_df['Season'] = test_df['ID'].map(lambda x: int(x[:4]))\n",
    "test_df['WTeamID'] = test_df['ID'].map(lambda x: int(x[5:9]))\n",
    "test_df['LTeamID'] = test_df['ID'].map(lambda x: int(x[10:14]))\n",
    "test_df = pd.merge(test_df, tourney_seed, left_on=['Season', 'WTeamID'], right_on=['Season', 'TeamID'], how='left')\n",
    "test_df.rename(columns={'Seed':'Seed1'}, inplace=True)\n",
    "test_df = test_df.drop('TeamID', axis=1)\n",
    "test_df = pd.merge(test_df, tourney_seed, left_on=['Season', 'LTeamID'], right_on=['Season', 'TeamID'], how='left')\n",
    "test_df.rename(columns={'Seed':'Seed2'}, inplace=True)\n",
    "test_df = test_df.drop('TeamID', axis=1)\n",
    "test_df = pd.merge(test_df, season_score, left_on=['Season', 'WTeamID'], right_on=['Season', 'TeamID'], how='left')\n",
    "test_df.rename(columns={'Score':'ScoreT1'}, inplace=True)\n",
    "test_df = test_df.drop('TeamID', axis=1)\n",
    "test_df = pd.merge(test_df, season_score, left_on=['Season', 'LTeamID'], right_on=['Season', 'TeamID'], how='left')\n",
    "test_df.rename(columns={'Score':'ScoreT2'}, inplace=True)\n",
    "test_df = test_df.drop('TeamID', axis=1)\n",
    "test_df['Seed1'] = test_df['Seed1'].map(lambda x: get_seed(x))\n",
    "test_df['Seed2'] = test_df['Seed2'].map(lambda x: get_seed(x))\n",
    "test_df['Seed_diff'] = test_df['Seed1'] - test_df['Seed2']\n",
    "test_df['ScoreT_diff'] = test_df['ScoreT1'] - test_df['ScoreT2']\n",
    "test_df = test_df.drop(['ID', 'Pred', 'Season', 'WTeamID', 'LTeamID'], axis=1)"
   ],
   "metadata": {
    "collapsed": false,
    "pycharm": {
     "name": "#%%\n"
    }
   }
  },
  {
   "cell_type": "code",
   "execution_count": 12,
   "outputs": [
    {
     "name": "stdout",
     "output_type": "stream",
     "text": [
      "Checking whether there is an H2O instance running at http://localhost:54321 ..... not found.\n",
      "Attempting to start a local H2O server...\n",
      "  Java Version: java version \"11.0.2\" 2019-01-15 LTS; Java(TM) SE Runtime Environment 18.9 (build 11.0.2+9-LTS); Java HotSpot(TM) 64-Bit Server VM 18.9 (build 11.0.2+9-LTS, mixed mode)\n",
      "  Starting server from /Users/fyenne/miniforge3/envs/siming/lib/python3.8/site-packages/h2o/backend/bin/h2o.jar\n",
      "  Ice root: /var/folders/3g/xmfmfdws08g7_rv6hwgr8dpw0000gn/T/tmpj98bpjpb\n",
      "  JVM stdout: /var/folders/3g/xmfmfdws08g7_rv6hwgr8dpw0000gn/T/tmpj98bpjpb/h2o_fyenne_started_from_python.out\n",
      "  JVM stderr: /var/folders/3g/xmfmfdws08g7_rv6hwgr8dpw0000gn/T/tmpj98bpjpb/h2o_fyenne_started_from_python.err\n",
      "  Server is running at http://127.0.0.1:54321\n",
      "Connecting to H2O server at http://127.0.0.1:54321 ... successful.\n",
      "Parse progress: |█████████████████████████████████████████████████████████| 100%\n"
     ]
    },
    {
     "data": {
      "text/plain": "--------------------------  ------------------------------------------------------------------\nH2O_cluster_uptime:         02 secs\nH2O_cluster_timezone:       Asia/Shanghai\nH2O_data_parsing_timezone:  UTC\nH2O_cluster_version:        3.32.0.4\nH2O_cluster_version_age:    1 month and 13 days\nH2O_cluster_name:           H2O_from_python_fyenne_n84ydj\nH2O_cluster_total_nodes:    1\nH2O_cluster_free_memory:    8 Gb\nH2O_cluster_total_cores:    8\nH2O_cluster_allowed_cores:  8\nH2O_cluster_status:         accepting new members, healthy\nH2O_connection_url:         http://127.0.0.1:54321\nH2O_connection_proxy:       {\"http\": null, \"https\": null}\nH2O_internal_security:      False\nH2O_API_Extensions:         Amazon S3, XGBoost, Algos, AutoML, Core V3, TargetEncoder, Core V4\nPython_version:             3.8.6 final\n--------------------------  ------------------------------------------------------------------",
      "text/html": "<div style=\"overflow:auto\"><table style=\"width:50%\"><tr><td>H2O_cluster_uptime:</td>\n<td>02 secs</td></tr>\n<tr><td>H2O_cluster_timezone:</td>\n<td>Asia/Shanghai</td></tr>\n<tr><td>H2O_data_parsing_timezone:</td>\n<td>UTC</td></tr>\n<tr><td>H2O_cluster_version:</td>\n<td>3.32.0.4</td></tr>\n<tr><td>H2O_cluster_version_age:</td>\n<td>1 month and 13 days </td></tr>\n<tr><td>H2O_cluster_name:</td>\n<td>H2O_from_python_fyenne_n84ydj</td></tr>\n<tr><td>H2O_cluster_total_nodes:</td>\n<td>1</td></tr>\n<tr><td>H2O_cluster_free_memory:</td>\n<td>8 Gb</td></tr>\n<tr><td>H2O_cluster_total_cores:</td>\n<td>8</td></tr>\n<tr><td>H2O_cluster_allowed_cores:</td>\n<td>8</td></tr>\n<tr><td>H2O_cluster_status:</td>\n<td>accepting new members, healthy</td></tr>\n<tr><td>H2O_connection_url:</td>\n<td>http://127.0.0.1:54321</td></tr>\n<tr><td>H2O_connection_proxy:</td>\n<td>{\"http\": null, \"https\": null}</td></tr>\n<tr><td>H2O_internal_security:</td>\n<td>False</td></tr>\n<tr><td>H2O_API_Extensions:</td>\n<td>Amazon S3, XGBoost, Algos, AutoML, Core V3, TargetEncoder, Core V4</td></tr>\n<tr><td>Python_version:</td>\n<td>3.8.6 final</td></tr></table></div>"
     },
     "metadata": {},
     "output_type": "display_data"
    }
   ],
   "source": [
    "import h2o\n",
    "h2o.init(\n",
    "  nthreads=-1,            ## -1: use all available threads\n",
    "  max_mem_size = \"8G\")  \n",
    "train_list=list(tourney_result.columns)[:-1]\n",
    "train_1=h2o.H2OFrame(tourney_result)\n",
    "train_1['result']=train_1['result'].asfactor()\n",
    "param = {\n",
    "      \"ntrees\" : 2000\n",
    "    , \"max_depth\" : 20\n",
    "    , \"learn_rate\" : 0.02\n",
    "    , \"sample_rate\" : 0.7\n",
    "    , \"col_sample_rate_per_tree\" : 0.9\n",
    "    , \"min_rows\" : 5\n",
    "    , \"seed\": 4241\n",
    "    , \"score_tree_interval\": 100\n",
    "    ,\"stopping_metric\" :\"MSE\"\n",
    "    ,\"nfolds\":8\n",
    "    ,\"fold_assignment\":\"AUTO\"\n",
    "    ,\"keep_cross_validation_predictions\" : True\n",
    "    ,\"booster\":\"dart\"\n",
    "}"
   ],
   "metadata": {
    "collapsed": false,
    "pycharm": {
     "name": "#%%\n"
    }
   }
  },
  {
   "cell_type": "code",
   "execution_count": 13,
   "outputs": [
    {
     "name": "stderr",
     "output_type": "stream",
     "text": [
      "/Users/fyenne/miniforge3/envs/siming/lib/python3.8/site-packages/h2o/estimators/estimator_base.py:200: RuntimeWarning: Stopping metric is ignored for _stopping_rounds=0.\n",
      "  warnings.warn(mesg[\"message\"], RuntimeWarning)\n"
     ]
    },
    {
     "name": "stdout",
     "output_type": "stream",
     "text": [
      "xgboost Model Build progress: |███████████████████████████████████████████| 100%\n"
     ]
    }
   ],
   "source": [
    "from h2o.estimators import H2OXGBoostEstimator\n",
    "model_xgb = H2OXGBoostEstimator(**param)\n",
    "model_xgb.train(x = train_list, y = 'result', training_frame = train_1)\n",
    "param={\n",
    "    \"ntrees\" : 1000\n",
    "    , \"max_depth\" : 20\n",
    "    , \"learn_rate\" : 0.02\n",
    "    , \"sample_rate\" : 0.7\n",
    "    , \"col_sample_rate_per_tree\" : 0.9\n",
    "    , \"min_rows\" : 5\n",
    "    , \"seed\": 4241\n",
    "    , \"score_tree_interval\": 100\n",
    "    , \"stopping_metric\" :\"MSE\"\n",
    "    , \"nfolds\":8\n",
    "    , \"fold_assignment\":\"AUTO\"\n",
    "    , \"keep_cross_validation_predictions\" : True\n",
    "\n",
    " }"
   ],
   "metadata": {
    "collapsed": false,
    "pycharm": {
     "name": "#%%\n"
    }
   }
  },
  {
   "cell_type": "code",
   "execution_count": null,
   "outputs": [],
   "source": [
    "from h2o.estimators.gbm import H2OGradientBoostingEstimator  # import gbm estimator\n",
    "model_gbm = H2OGradientBoostingEstimator(**param)\n",
    "model_gbm.train(x = train_list, y = 'result', training_frame = train_1)\n",
    "from h2o.estimators import H2OStackedEnsembleEstimator\n",
    "stack = H2OStackedEnsembleEstimator(model_id=\"ensemble11\",\n",
    "                                       training_frame=train_1,\n",
    "                                       #validation_frame=test,\n",
    "                                       base_models=[model_xgb.model_id,model_gbm.model_id],metalearner_algorithm=\"glm\")\n",
    "stack.train(x=train_list, y=\"result\", training_frame=train_1)"
   ],
   "metadata": {
    "collapsed": false,
    "pycharm": {
     "name": "#%%\n"
    }
   }
  },
  {
   "cell_type": "code",
   "execution_count": 17,
   "outputs": [
    {
     "name": "stdout",
     "output_type": "stream",
     "text": [
      "Parse progress: |█████████████████████████████████████████████████████████| 100%\n",
      "xgboost prediction progress: |████████████████████████████████████████████| 100%\n"
     ]
    }
   ],
   "source": [
    "test_1=h2o.H2OFrame(test_df)\n",
    "pred1=model_xgb.predict(test_1)\n",
    "# pred2=model_gbm.predict(test_1)\n",
    "pred_df1=pred1.as_data_frame()\n",
    "# pred_df2=pred2.as_data_frame()"
   ],
   "metadata": {
    "collapsed": false,
    "pycharm": {
     "name": "#%%\n"
    }
   }
  },
  {
   "cell_type": "code",
   "execution_count": 18,
   "metadata": {
    "execution": {
     "iopub.execute_input": "2021-03-14T22:02:20.880753Z",
     "iopub.status.busy": "2021-03-14T22:02:20.879854Z",
     "iopub.status.idle": "2021-03-14T22:02:21.015754Z",
     "shell.execute_reply": "2021-03-14T22:02:21.014777Z"
    },
    "papermill": {
     "duration": 0.197224,
     "end_time": "2021-03-14T22:02:21.015956",
     "exception": false,
     "start_time": "2021-03-14T22:02:20.818732",
     "status": "completed"
    },
    "tags": []
   },
   "outputs": [],
   "source": [
    "pred_df1.to_csv('pred_df1.csv', index=None)\n",
    "# pred_df2.to_csv('pred_df2.csv', index=None)"
   ]
  },
  {
   "cell_type": "code",
   "execution_count": 3,
   "metadata": {
    "execution": {
     "iopub.execute_input": "2021-03-14T22:02:21.121934Z",
     "iopub.status.busy": "2021-03-14T22:02:21.121321Z",
     "iopub.status.idle": "2021-03-14T22:02:21.123198Z",
     "shell.execute_reply": "2021-03-14T22:02:21.123685Z"
    },
    "papermill": {
     "duration": 0.057076,
     "end_time": "2021-03-14T22:02:21.123843",
     "exception": false,
     "start_time": "2021-03-14T22:02:21.066767",
     "status": "completed"
    },
    "tags": []
   },
   "outputs": [],
   "source": [
    "# import pandas as pd \n",
    "# import numpy as np\n",
    "\n",
    "# pred_df1 = pd.read_csv('../input/ncaam-predictions-v2/pred_df1.csv')\n",
    "# pred_df2 = pd.read_csv('../input/ncaam-predictions-v2/pred_df2.csv')\n"
   ]
  },
  {
   "cell_type": "code",
   "execution_count": null,
   "metadata": {
    "papermill": {
     "duration": 0.053527,
     "end_time": "2021-03-14T22:02:21.227258",
     "exception": false,
     "start_time": "2021-03-14T22:02:21.173731",
     "status": "completed"
    },
    "tags": []
   },
   "outputs": [],
   "source": []
  },
  {
   "cell_type": "code",
   "execution_count": 19,
   "metadata": {
    "execution": {
     "iopub.execute_input": "2021-03-14T22:02:21.331014Z",
     "iopub.status.busy": "2021-03-14T22:02:21.330411Z",
     "iopub.status.idle": "2021-03-14T22:02:21.419929Z",
     "shell.execute_reply": "2021-03-14T22:02:21.419321Z"
    },
    "papermill": {
     "duration": 0.142637,
     "end_time": "2021-03-14T22:02:21.420073",
     "exception": false,
     "start_time": "2021-03-14T22:02:21.277436",
     "status": "completed"
    },
    "tags": []
   },
   "outputs": [],
   "source": [
    "ids = pd.read_csv(path + '/MSampleSubmissionStage1.csv').ID.values\n",
    "# values = pred_df2.p1 * 0.9 + pred_df1.p1 * 0.1\n",
    "\n",
    "#--------------------------------------------\n",
    "values = pred_df1.p1\n",
    "#--------------------------------------------\n",
    "\n",
    "final_df = pd.DataFrame(columns=['ID', 'Pred'])\n",
    "final_df.ID = ids\n",
    "final_df.Pred = values\n",
    "final_df.to_csv('submission.csv', columns=['ID','Pred'], index=None)"
   ]
  },
  {
   "cell_type": "code",
   "execution_count": 5,
   "metadata": {
    "execution": {
     "iopub.execute_input": "2021-03-14T22:02:21.526593Z",
     "iopub.status.busy": "2021-03-14T22:02:21.525915Z",
     "iopub.status.idle": "2021-03-14T22:02:21.576088Z",
     "shell.execute_reply": "2021-03-14T22:02:21.576597Z"
    },
    "papermill": {
     "duration": 0.106031,
     "end_time": "2021-03-14T22:02:21.576794",
     "exception": false,
     "start_time": "2021-03-14T22:02:21.470763",
     "status": "completed"
    },
    "tags": []
   },
   "outputs": [],
   "source": [
    "final_df.to_csv('submission.csv', index=None)"
   ]
  },
  {
   "cell_type": "code",
   "execution_count": 6,
   "metadata": {
    "execution": {
     "iopub.execute_input": "2021-03-14T22:02:21.680972Z",
     "iopub.status.busy": "2021-03-14T22:02:21.680261Z",
     "iopub.status.idle": "2021-03-14T22:02:21.698675Z",
     "shell.execute_reply": "2021-03-14T22:02:21.697927Z"
    },
    "papermill": {
     "duration": 0.07136,
     "end_time": "2021-03-14T22:02:21.698821",
     "exception": false,
     "start_time": "2021-03-14T22:02:21.627461",
     "status": "completed"
    },
    "tags": []
   },
   "outputs": [
    {
     "data": {
      "text/html": [
       "<div>\n",
       "<style scoped>\n",
       "    .dataframe tbody tr th:only-of-type {\n",
       "        vertical-align: middle;\n",
       "    }\n",
       "\n",
       "    .dataframe tbody tr th {\n",
       "        vertical-align: top;\n",
       "    }\n",
       "\n",
       "    .dataframe thead th {\n",
       "        text-align: right;\n",
       "    }\n",
       "</style>\n",
       "<table border=\"1\" class=\"dataframe\">\n",
       "  <thead>\n",
       "    <tr style=\"text-align: right;\">\n",
       "      <th></th>\n",
       "      <th>ID</th>\n",
       "      <th>Pred</th>\n",
       "    </tr>\n",
       "  </thead>\n",
       "  <tbody>\n",
       "    <tr>\n",
       "      <th>0</th>\n",
       "      <td>2015_1107_1112</td>\n",
       "      <td>0.000493</td>\n",
       "    </tr>\n",
       "    <tr>\n",
       "      <th>1</th>\n",
       "      <td>2015_1107_1116</td>\n",
       "      <td>0.007706</td>\n",
       "    </tr>\n",
       "    <tr>\n",
       "      <th>2</th>\n",
       "      <td>2015_1107_1124</td>\n",
       "      <td>0.013093</td>\n",
       "    </tr>\n",
       "    <tr>\n",
       "      <th>3</th>\n",
       "      <td>2015_1107_1125</td>\n",
       "      <td>0.917094</td>\n",
       "    </tr>\n",
       "    <tr>\n",
       "      <th>4</th>\n",
       "      <td>2015_1107_1129</td>\n",
       "      <td>0.132548</td>\n",
       "    </tr>\n",
       "    <tr>\n",
       "      <th>...</th>\n",
       "      <td>...</td>\n",
       "      <td>...</td>\n",
       "    </tr>\n",
       "    <tr>\n",
       "      <th>11385</th>\n",
       "      <td>2019_1449_1459</td>\n",
       "      <td>0.669661</td>\n",
       "    </tr>\n",
       "    <tr>\n",
       "      <th>11386</th>\n",
       "      <td>2019_1449_1463</td>\n",
       "      <td>0.998062</td>\n",
       "    </tr>\n",
       "    <tr>\n",
       "      <th>11387</th>\n",
       "      <td>2019_1458_1459</td>\n",
       "      <td>0.443652</td>\n",
       "    </tr>\n",
       "    <tr>\n",
       "      <th>11388</th>\n",
       "      <td>2019_1458_1463</td>\n",
       "      <td>0.995764</td>\n",
       "    </tr>\n",
       "    <tr>\n",
       "      <th>11389</th>\n",
       "      <td>2019_1459_1463</td>\n",
       "      <td>0.993767</td>\n",
       "    </tr>\n",
       "  </tbody>\n",
       "</table>\n",
       "<p>11390 rows × 2 columns</p>\n",
       "</div>"
      ],
      "text/plain": [
       "                   ID      Pred\n",
       "0      2015_1107_1112  0.000493\n",
       "1      2015_1107_1116  0.007706\n",
       "2      2015_1107_1124  0.013093\n",
       "3      2015_1107_1125  0.917094\n",
       "4      2015_1107_1129  0.132548\n",
       "...               ...       ...\n",
       "11385  2019_1449_1459  0.669661\n",
       "11386  2019_1449_1463  0.998062\n",
       "11387  2019_1458_1459  0.443652\n",
       "11388  2019_1458_1463  0.995764\n",
       "11389  2019_1459_1463  0.993767\n",
       "\n",
       "[11390 rows x 2 columns]"
      ]
     },
     "execution_count": 6,
     "metadata": {},
     "output_type": "execute_result"
    }
   ],
   "source": [
    "final_df"
   ]
  },
  {
   "cell_type": "markdown",
   "metadata": {
    "papermill": {
     "duration": 0.050382,
     "end_time": "2021-03-14T22:02:21.800382",
     "exception": false,
     "start_time": "2021-03-14T22:02:21.750000",
     "status": "completed"
    },
    "tags": []
   },
   "source": [
    "---\n",
    "# Give this notebook an upvote!"
   ]
  },
  {
   "cell_type": "code",
   "execution_count": null,
   "outputs": [],
   "source": [
    "tourney_result"
   ],
   "metadata": {
    "collapsed": false,
    "pycharm": {
     "name": "#%%\n"
    }
   }
  }
 ],
 "metadata": {
  "kernelspec": {
   "display_name": "Python 3",
   "language": "python",
   "name": "python3"
  },
  "language_info": {
   "codemirror_mode": {
    "name": "ipython",
    "version": 3
   },
   "file_extension": ".py",
   "mimetype": "text/x-python",
   "name": "python",
   "nbconvert_exporter": "python",
   "pygments_lexer": "ipython3",
   "version": "3.7.9"
  },
  "papermill": {
   "default_parameters": {},
   "duration": 5298.981992,
   "end_time": "2021-03-14T22:02:23.164887",
   "environment_variables": {},
   "exception": null,
   "input_path": "__notebook__.ipynb",
   "output_path": "__notebook__.ipynb",
   "parameters": {},
   "start_time": "2021-03-14T20:34:04.182895",
   "version": "2.2.2"
  }
 },
 "nbformat": 4,
 "nbformat_minor": 4
}