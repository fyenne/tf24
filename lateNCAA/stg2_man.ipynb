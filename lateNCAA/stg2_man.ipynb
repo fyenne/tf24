{
 "cells": [
  {
   "cell_type": "code",
   "execution_count": 35,
   "metadata": {
    "collapsed": true
   },
   "outputs": [],
   "source": [
    "import pandas as pd\n",
    "import numpy as np\n",
    "from sklearn.linear_model import LogisticRegression\n",
    "import matplotlib.pyplot as plt\n",
    "from sklearn.utils import shuffle\n",
    "from sklearn.model_selection import GridSearchCV"
   ]
  },
  {
   "cell_type": "code",
   "execution_count": 36,
   "outputs": [],
   "source": [
    "path ='/Users/fyenne/Downloads/booooks/semester5/R_ML/Mar_NCAA/sb'"
   ],
   "metadata": {
    "collapsed": false,
    "pycharm": {
     "name": "#%%\n"
    }
   }
  },
  {
   "cell_type": "code",
   "execution_count": 37,
   "outputs": [],
   "source": [
    "tourney_result = pd.read_csv(path+'/train_m_stg2.csv')\n",
    "test_df = pd.read_csv(path+'/test_m_stg2.csv')"
   ],
   "metadata": {
    "collapsed": false,
    "pycharm": {
     "name": "#%%\n"
    }
   }
  },
  {
   "cell_type": "code",
   "execution_count": 38,
   "outputs": [],
   "source": [
    "# train_list=list(tourney_result.columns)[:-1]\n",
    "# tourney_result.columns[-1]"
   ],
   "metadata": {
    "collapsed": false,
    "pycharm": {
     "name": "#%%\n"
    }
   }
  },
  {
   "cell_type": "code",
   "execution_count": 39,
   "outputs": [],
   "source": [
    "tourney_result = tourney_result.rename(columns = {'train_label_my':'result'})"
   ],
   "metadata": {
    "collapsed": false,
    "pycharm": {
     "name": "#%%\n"
    }
   }
  },
  {
   "cell_type": "code",
   "execution_count": 40,
   "outputs": [
    {
     "name": "stdout",
     "output_type": "stream",
     "text": [
      "Checking whether there is an H2O instance running at http://localhost:54321 . connected.\n",
      "Parse progress: |█████████████████████████████████████████████████████████| 100%\n"
     ]
    },
    {
     "data": {
      "text/plain": "--------------------------  ------------------------------------------------------------------\nH2O_cluster_uptime:         25 mins 54 secs\nH2O_cluster_timezone:       Asia/Shanghai\nH2O_data_parsing_timezone:  UTC\nH2O_cluster_version:        3.32.0.4\nH2O_cluster_version_age:    1 month and 17 days\nH2O_cluster_name:           H2O_from_python_fyenne_2smjm1\nH2O_cluster_total_nodes:    1\nH2O_cluster_free_memory:    6.814 Gb\nH2O_cluster_total_cores:    8\nH2O_cluster_allowed_cores:  8\nH2O_cluster_status:         locked, healthy\nH2O_connection_url:         http://localhost:54321\nH2O_connection_proxy:       {\"http\": null, \"https\": null}\nH2O_internal_security:      False\nH2O_API_Extensions:         Amazon S3, XGBoost, Algos, AutoML, Core V3, TargetEncoder, Core V4\nPython_version:             3.8.6 final\n--------------------------  ------------------------------------------------------------------",
      "text/html": "<div style=\"overflow:auto\"><table style=\"width:50%\"><tr><td>H2O_cluster_uptime:</td>\n<td>25 mins 54 secs</td></tr>\n<tr><td>H2O_cluster_timezone:</td>\n<td>Asia/Shanghai</td></tr>\n<tr><td>H2O_data_parsing_timezone:</td>\n<td>UTC</td></tr>\n<tr><td>H2O_cluster_version:</td>\n<td>3.32.0.4</td></tr>\n<tr><td>H2O_cluster_version_age:</td>\n<td>1 month and 17 days </td></tr>\n<tr><td>H2O_cluster_name:</td>\n<td>H2O_from_python_fyenne_2smjm1</td></tr>\n<tr><td>H2O_cluster_total_nodes:</td>\n<td>1</td></tr>\n<tr><td>H2O_cluster_free_memory:</td>\n<td>6.814 Gb</td></tr>\n<tr><td>H2O_cluster_total_cores:</td>\n<td>8</td></tr>\n<tr><td>H2O_cluster_allowed_cores:</td>\n<td>8</td></tr>\n<tr><td>H2O_cluster_status:</td>\n<td>locked, healthy</td></tr>\n<tr><td>H2O_connection_url:</td>\n<td>http://localhost:54321</td></tr>\n<tr><td>H2O_connection_proxy:</td>\n<td>{\"http\": null, \"https\": null}</td></tr>\n<tr><td>H2O_internal_security:</td>\n<td>False</td></tr>\n<tr><td>H2O_API_Extensions:</td>\n<td>Amazon S3, XGBoost, Algos, AutoML, Core V3, TargetEncoder, Core V4</td></tr>\n<tr><td>Python_version:</td>\n<td>3.8.6 final</td></tr></table></div>"
     },
     "metadata": {},
     "output_type": "display_data"
    }
   ],
   "source": [
    "import h2o\n",
    "h2o.init(\n",
    "  nthreads=-1,            ## -1: use all available threads\n",
    "  max_mem_size = \"8G\")\n",
    "train_list=list(tourney_result.columns)[:-1]\n",
    "train_1=h2o.H2OFrame(tourney_result)\n",
    "train_1['result']=train_1['result'].asfactor()"
   ],
   "metadata": {
    "collapsed": false,
    "pycharm": {
     "name": "#%%\n"
    }
   }
  },
  {
   "cell_type": "code",
   "execution_count": 41,
   "outputs": [],
   "source": [
    "param = {\n",
    "      \"ntrees\" : 2000\n",
    "    , \"max_depth\" : 20\n",
    "    , \"learn_rate\" : 0.02\n",
    "    , \"sample_rate\" : 0.7\n",
    "    , \"col_sample_rate_per_tree\" : 0.9\n",
    "    , \"min_rows\" : 5\n",
    "    , \"seed\": 4240\n",
    "    , \"score_tree_interval\": 100\n",
    "    ,\"stopping_metric\" :\"MSE\"\n",
    "    ,\"nfolds\":8\n",
    "    ,\"fold_assignment\":\"AUTO\"\n",
    "    ,\"keep_cross_validation_predictions\" : True\n",
    "    # ,\"booster\":\"dart\"\n",
    "}"
   ],
   "metadata": {
    "collapsed": false,
    "pycharm": {
     "name": "#%%\n"
    }
   }
  },
  {
   "cell_type": "code",
   "execution_count": null,
   "outputs": [
    {
     "name": "stderr",
     "output_type": "stream",
     "text": [
      "/Users/fyenne/miniforge3/envs/siming/lib/python3.8/site-packages/h2o/estimators/estimator_base.py:200: RuntimeWarning: Stopping metric is ignored for _stopping_rounds=0.\n",
      "  warnings.warn(mesg[\"message\"], RuntimeWarning)\n"
     ]
    },
    {
     "name": "stdout",
     "output_type": "stream",
     "text": [
      "xgboost Model Build progress: |███████████████████████████████████"
     ]
    }
   ],
   "source": [
    "from h2o.estimators import H2OXGBoostEstimator\n",
    "model_xgb = H2OXGBoostEstimator(**param)\n",
    "model_xgb.train(x = train_list, y = 'result', training_frame = train_1)\n",
    "param={\n",
    "    \"ntrees\" : 1060\n",
    "    , \"max_depth\" : 20\n",
    "    , \"learn_rate\" : 0.02\n",
    "    , \"sample_rate\" : 0.7\n",
    "    , \"col_sample_rate_per_tree\" : 0.9\n",
    "    , \"min_rows\" : 5\n",
    "    , \"seed\": 4240\n",
    "    , \"score_tree_interval\": 100\n",
    "    , \"stopping_metric\" :\"MSE\"\n",
    "    , \"nfolds\":8\n",
    "    , \"fold_assignment\":\"AUTO\"\n",
    "    , \"keep_cross_validation_predictions\" : True\n",
    " }"
   ],
   "metadata": {
    "collapsed": false,
    "pycharm": {
     "name": "#%%\n",
     "is_executing": true
    }
   }
  },
  {
   "cell_type": "code",
   "execution_count": 34,
   "outputs": [
    {
     "name": "stderr",
     "output_type": "stream",
     "text": [
      "/Users/fyenne/miniforge3/envs/siming/lib/python3.8/site-packages/h2o/estimators/estimator_base.py:200: RuntimeWarning: Stopping metric is ignored for _stopping_rounds=0.\n",
      "  warnings.warn(mesg[\"message\"], RuntimeWarning)\n"
     ]
    },
    {
     "name": "stdout",
     "output_type": "stream",
     "text": [
      "gbm Model Build progress: |███████████████████████████████████████████████| 100%\n",
      "stackedensemble Model Build progress: | (failed)\n"
     ]
    },
    {
     "ename": "OSError",
     "evalue": "Job with key $03017f00000132d4ffffffff$_900295f736b5e6756810fc249414486 failed with an exception: water.exceptions.H2OIllegalArgumentException: Base models are inconsistent: they use random-seeded k-fold cross-validation but have different seeds.\nstacktrace: \nwater.exceptions.H2OIllegalArgumentException: Base models are inconsistent: they use random-seeded k-fold cross-validation but have different seeds.\n\tat hex.ensemble.StackedEnsembleModel.checkAndInheritModelProperties(StackedEnsembleModel.java:527)\n\tat hex.ensemble.StackedEnsemble$StackedEnsembleDriver.computeImpl(StackedEnsemble.java:335)\n\tat hex.ModelBuilder$Driver.compute2(ModelBuilder.java:243)\n\tat water.H2O$H2OCountedCompleter.compute(H2O.java:1575)\n\tat jsr166y.CountedCompleter.exec(CountedCompleter.java:468)\n\tat jsr166y.ForkJoinTask.doExec(ForkJoinTask.java:263)\n\tat jsr166y.ForkJoinPool$WorkQueue.runTask(ForkJoinPool.java:974)\n\tat jsr166y.ForkJoinPool.runWorker(ForkJoinPool.java:1477)\n\tat jsr166y.ForkJoinWorkerThread.run(ForkJoinWorkerThread.java:104)\n",
     "output_type": "error",
     "traceback": [
      "\u001B[0;31m---------------------------------------------------------------------------\u001B[0m",
      "\u001B[0;31mOSError\u001B[0m                                   Traceback (most recent call last)",
      "\u001B[0;32m<ipython-input-34-b9e14f0cc441>\u001B[0m in \u001B[0;36m<module>\u001B[0;34m\u001B[0m\n\u001B[1;32m      7\u001B[0m                                        \u001B[0;31m#validation_frame=test,\u001B[0m\u001B[0;34m\u001B[0m\u001B[0;34m\u001B[0m\u001B[0;34m\u001B[0m\u001B[0m\n\u001B[1;32m      8\u001B[0m                                        base_models=[model_xgb.model_id,model_gbm.model_id],metalearner_algorithm=\"glm\")\n\u001B[0;32m----> 9\u001B[0;31m \u001B[0mstack\u001B[0m\u001B[0;34m.\u001B[0m\u001B[0mtrain\u001B[0m\u001B[0;34m(\u001B[0m\u001B[0mx\u001B[0m\u001B[0;34m=\u001B[0m\u001B[0mtrain_list\u001B[0m\u001B[0;34m,\u001B[0m \u001B[0my\u001B[0m\u001B[0;34m=\u001B[0m\u001B[0;34m\"result\"\u001B[0m\u001B[0;34m,\u001B[0m \u001B[0mtraining_frame\u001B[0m\u001B[0;34m=\u001B[0m\u001B[0mtrain_1\u001B[0m\u001B[0;34m)\u001B[0m\u001B[0;34m\u001B[0m\u001B[0;34m\u001B[0m\u001B[0m\n\u001B[0m\u001B[1;32m     10\u001B[0m \u001B[0;34m\u001B[0m\u001B[0m\n\u001B[1;32m     11\u001B[0m \u001B[0;34m\u001B[0m\u001B[0m\n",
      "\u001B[0;32m~/miniforge3/envs/siming/lib/python3.8/site-packages/h2o/estimators/stackedensemble.py\u001B[0m in \u001B[0;36mtrain\u001B[0;34m(self, x, y, training_frame, blending_frame, verbose, **kwargs)\u001B[0m\n\u001B[1;32m    895\u001B[0m         \u001B[0mparms\u001B[0m \u001B[0;34m=\u001B[0m \u001B[0msup\u001B[0m\u001B[0;34m.\u001B[0m\u001B[0m_make_parms\u001B[0m\u001B[0;34m(\u001B[0m\u001B[0mx\u001B[0m\u001B[0;34m,\u001B[0m \u001B[0my\u001B[0m\u001B[0;34m,\u001B[0m \u001B[0mtraining_frame\u001B[0m\u001B[0;34m,\u001B[0m \u001B[0mextend_parms_fn\u001B[0m\u001B[0;34m=\u001B[0m\u001B[0mextend_parms\u001B[0m\u001B[0;34m,\u001B[0m \u001B[0;34m**\u001B[0m\u001B[0mkwargs\u001B[0m\u001B[0;34m)\u001B[0m\u001B[0;34m\u001B[0m\u001B[0;34m\u001B[0m\u001B[0m\n\u001B[1;32m    896\u001B[0m \u001B[0;34m\u001B[0m\u001B[0m\n\u001B[0;32m--> 897\u001B[0;31m         \u001B[0msup\u001B[0m\u001B[0;34m.\u001B[0m\u001B[0m_train\u001B[0m\u001B[0;34m(\u001B[0m\u001B[0mparms\u001B[0m\u001B[0;34m,\u001B[0m \u001B[0mverbose\u001B[0m\u001B[0;34m=\u001B[0m\u001B[0mverbose\u001B[0m\u001B[0;34m)\u001B[0m\u001B[0;34m\u001B[0m\u001B[0;34m\u001B[0m\u001B[0m\n\u001B[0m\u001B[1;32m    898\u001B[0m         \u001B[0;32mif\u001B[0m \u001B[0mself\u001B[0m\u001B[0;34m.\u001B[0m\u001B[0mmetalearner\u001B[0m\u001B[0;34m(\u001B[0m\u001B[0;34m)\u001B[0m \u001B[0;32mis\u001B[0m \u001B[0;32mNone\u001B[0m\u001B[0;34m:\u001B[0m\u001B[0;34m\u001B[0m\u001B[0;34m\u001B[0m\u001B[0m\n\u001B[1;32m    899\u001B[0m             raise H2OResponseError(\"Meta learner didn't get to be trained in time. \"\n",
      "\u001B[0;32m~/miniforge3/envs/siming/lib/python3.8/site-packages/h2o/estimators/estimator_base.py\u001B[0m in \u001B[0;36m_train\u001B[0;34m(self, parms, verbose)\u001B[0m\n\u001B[1;32m    205\u001B[0m             \u001B[0;32mreturn\u001B[0m\u001B[0;34m\u001B[0m\u001B[0;34m\u001B[0m\u001B[0m\n\u001B[1;32m    206\u001B[0m \u001B[0;34m\u001B[0m\u001B[0m\n\u001B[0;32m--> 207\u001B[0;31m         \u001B[0mjob\u001B[0m\u001B[0;34m.\u001B[0m\u001B[0mpoll\u001B[0m\u001B[0;34m(\u001B[0m\u001B[0mpoll_updates\u001B[0m\u001B[0;34m=\u001B[0m\u001B[0mself\u001B[0m\u001B[0;34m.\u001B[0m\u001B[0m_print_model_scoring_history\u001B[0m \u001B[0;32mif\u001B[0m \u001B[0mverbose\u001B[0m \u001B[0;32melse\u001B[0m \u001B[0;32mNone\u001B[0m\u001B[0;34m)\u001B[0m\u001B[0;34m\u001B[0m\u001B[0;34m\u001B[0m\u001B[0m\n\u001B[0m\u001B[1;32m    208\u001B[0m         \u001B[0mmodel_json\u001B[0m \u001B[0;34m=\u001B[0m \u001B[0mh2o\u001B[0m\u001B[0;34m.\u001B[0m\u001B[0mapi\u001B[0m\u001B[0;34m(\u001B[0m\u001B[0;34m\"GET /%d/Models/%s\"\u001B[0m \u001B[0;34m%\u001B[0m \u001B[0;34m(\u001B[0m\u001B[0mrest_ver\u001B[0m\u001B[0;34m,\u001B[0m \u001B[0mjob\u001B[0m\u001B[0;34m.\u001B[0m\u001B[0mdest_key\u001B[0m\u001B[0;34m)\u001B[0m\u001B[0;34m)\u001B[0m\u001B[0;34m[\u001B[0m\u001B[0;34m\"models\"\u001B[0m\u001B[0;34m]\u001B[0m\u001B[0;34m[\u001B[0m\u001B[0;36m0\u001B[0m\u001B[0;34m]\u001B[0m\u001B[0;34m\u001B[0m\u001B[0;34m\u001B[0m\u001B[0m\n\u001B[1;32m    209\u001B[0m         \u001B[0mself\u001B[0m\u001B[0;34m.\u001B[0m\u001B[0m_resolve_model\u001B[0m\u001B[0;34m(\u001B[0m\u001B[0mjob\u001B[0m\u001B[0;34m.\u001B[0m\u001B[0mdest_key\u001B[0m\u001B[0;34m,\u001B[0m \u001B[0mmodel_json\u001B[0m\u001B[0;34m)\u001B[0m\u001B[0;34m\u001B[0m\u001B[0;34m\u001B[0m\u001B[0m\n",
      "\u001B[0;32m~/miniforge3/envs/siming/lib/python3.8/site-packages/h2o/job.py\u001B[0m in \u001B[0;36mpoll\u001B[0;34m(self, poll_updates)\u001B[0m\n\u001B[1;32m     75\u001B[0m         \u001B[0;32mif\u001B[0m \u001B[0mself\u001B[0m\u001B[0;34m.\u001B[0m\u001B[0mstatus\u001B[0m \u001B[0;34m==\u001B[0m \u001B[0;34m\"FAILED\"\u001B[0m\u001B[0;34m:\u001B[0m\u001B[0;34m\u001B[0m\u001B[0;34m\u001B[0m\u001B[0m\n\u001B[1;32m     76\u001B[0m             \u001B[0;32mif\u001B[0m \u001B[0;34m(\u001B[0m\u001B[0misinstance\u001B[0m\u001B[0;34m(\u001B[0m\u001B[0mself\u001B[0m\u001B[0;34m.\u001B[0m\u001B[0mjob\u001B[0m\u001B[0;34m,\u001B[0m \u001B[0mdict\u001B[0m\u001B[0;34m)\u001B[0m\u001B[0;34m)\u001B[0m \u001B[0;32mand\u001B[0m \u001B[0;34m(\u001B[0m\u001B[0;34m\"stacktrace\"\u001B[0m \u001B[0;32min\u001B[0m \u001B[0mlist\u001B[0m\u001B[0;34m(\u001B[0m\u001B[0mself\u001B[0m\u001B[0;34m.\u001B[0m\u001B[0mjob\u001B[0m\u001B[0;34m)\u001B[0m\u001B[0;34m)\u001B[0m\u001B[0;34m:\u001B[0m\u001B[0;34m\u001B[0m\u001B[0;34m\u001B[0m\u001B[0m\n\u001B[0;32m---> 77\u001B[0;31m                 raise EnvironmentError(\"Job with key {} failed with an exception: {}\\nstacktrace: \"\n\u001B[0m\u001B[1;32m     78\u001B[0m                                        \"\\n{}\".format(self.job_key, self.exception, self.job[\"stacktrace\"]))\n\u001B[1;32m     79\u001B[0m             \u001B[0;32melse\u001B[0m\u001B[0;34m:\u001B[0m\u001B[0;34m\u001B[0m\u001B[0;34m\u001B[0m\u001B[0m\n",
      "\u001B[0;31mOSError\u001B[0m: Job with key $03017f00000132d4ffffffff$_900295f736b5e6756810fc249414486 failed with an exception: water.exceptions.H2OIllegalArgumentException: Base models are inconsistent: they use random-seeded k-fold cross-validation but have different seeds.\nstacktrace: \nwater.exceptions.H2OIllegalArgumentException: Base models are inconsistent: they use random-seeded k-fold cross-validation but have different seeds.\n\tat hex.ensemble.StackedEnsembleModel.checkAndInheritModelProperties(StackedEnsembleModel.java:527)\n\tat hex.ensemble.StackedEnsemble$StackedEnsembleDriver.computeImpl(StackedEnsemble.java:335)\n\tat hex.ModelBuilder$Driver.compute2(ModelBuilder.java:243)\n\tat water.H2O$H2OCountedCompleter.compute(H2O.java:1575)\n\tat jsr166y.CountedCompleter.exec(CountedCompleter.java:468)\n\tat jsr166y.ForkJoinTask.doExec(ForkJoinTask.java:263)\n\tat jsr166y.ForkJoinPool$WorkQueue.runTask(ForkJoinPool.java:974)\n\tat jsr166y.ForkJoinPool.runWorker(ForkJoinPool.java:1477)\n\tat jsr166y.ForkJoinWorkerThread.run(ForkJoinWorkerThread.java:104)\n"
     ]
    }
   ],
   "source": [
    "from h2o.estimators.gbm import H2OGradientBoostingEstimator  # import gbm estimator\n",
    "model_gbm = H2OGradientBoostingEstimator(**param)\n",
    "model_gbm.train(x = train_list, y = 'result', training_frame = train_1)\n",
    "from h2o.estimators import H2OStackedEnsembleEstimator\n",
    "stack = H2OStackedEnsembleEstimator(model_id=\"ensemble11\",\n",
    "                                       training_frame=train_1,\n",
    "                                       #validation_frame=test,\n",
    "                                       base_models=[model_xgb.model_id,model_gbm.model_id],metalearner_algorithm=\"glm\")\n",
    "stack.train(x=train_list, y=\"result\", training_frame=train_1)\n"
   ],
   "metadata": {
    "collapsed": false,
    "pycharm": {
     "name": "#%%\n"
    }
   }
  },
  {
   "cell_type": "code",
   "execution_count": null,
   "outputs": [],
   "source": [
    "test_1=h2o.H2OFrame(test_df)\n",
    "pred1=model_xgb.predict(test_1)\n",
    "pred2=model_gbm.predict(test_1)\n",
    "pred_df1=pred1.as_data_frame()\n",
    "pred_df2=pred2.as_data_frame()"
   ],
   "metadata": {
    "collapsed": false,
    "pycharm": {
     "name": "#%%\n"
    }
   }
  },
  {
   "cell_type": "code",
   "execution_count": null,
   "outputs": [],
   "source": [
    "ids = pd.read_csv(path + '/MSampleSubmissionStage2.csv').ID.values\n",
    "values = pred_df2.p1 * 0.7 + pred_df1.p1 * 0.3\n",
    "# values = pred_df1.p1\n",
    "\n",
    "final_df = pd.DataFrame(columns=['ID', 'Pred'])\n",
    "final_df.ID = ids\n",
    "final_df.Pred = values\n",
    "final_df.to_csv('submission_men_GBM_worse.csv', columns=['ID','Pred'], index=None)"
   ],
   "metadata": {
    "collapsed": false,
    "pycharm": {
     "name": "#%%\n"
    }
   }
  },
  {
   "cell_type": "code",
   "execution_count": 27,
   "outputs": [
    {
     "data": {
      "text/plain": "2"
     },
     "execution_count": 27,
     "metadata": {},
     "output_type": "execute_result"
    }
   ],
   "source": [
    "1+1"
   ],
   "metadata": {
    "collapsed": false,
    "pycharm": {
     "name": "#%%\n"
    }
   }
  }
 ],
 "metadata": {
  "kernelspec": {
   "display_name": "Python 3",
   "language": "python",
   "name": "python3"
  },
  "language_info": {
   "codemirror_mode": {
    "name": "ipython",
    "version": 2
   },
   "file_extension": ".py",
   "mimetype": "text/x-python",
   "name": "python",
   "nbconvert_exporter": "python",
   "pygments_lexer": "ipython2",
   "version": "2.7.6"
  }
 },
 "nbformat": 4,
 "nbformat_minor": 0
}