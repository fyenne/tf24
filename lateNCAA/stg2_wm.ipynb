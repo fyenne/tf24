{
 "cells": [
  {
   "cell_type": "code",
   "execution_count": 1,
   "metadata": {
    "collapsed": true
   },
   "outputs": [],
   "source": [
    "import pandas as pd\n",
    "import numpy as np\n",
    "from sklearn.linear_model import LogisticRegression\n",
    "import matplotlib.pyplot as plt\n",
    "from sklearn.utils import shuffle\n",
    "from sklearn.model_selection import GridSearchCV"
   ]
  },
  {
   "cell_type": "code",
   "execution_count": 2,
   "outputs": [],
   "source": [
    "path ='/Users/fyenne/Downloads/booooks/semester5/R_ML/Mar_NCAA/sb'"
   ],
   "metadata": {
    "collapsed": false,
    "pycharm": {
     "name": "#%%\n"
    }
   }
  },
  {
   "cell_type": "code",
   "execution_count": 9,
   "outputs": [],
   "source": [
    "tourney_result = pd.read_csv(path+'/train_w_stg2.csv')\n",
    "test_df = pd.read_csv(path+'/test_w_stg2.csv')"
   ],
   "metadata": {
    "collapsed": false,
    "pycharm": {
     "name": "#%%\n"
    }
   }
  },
  {
   "cell_type": "code",
   "execution_count": 22,
   "outputs": [
    {
     "data": {
      "text/plain": "      X1_WinRatio14d  X1_PointsMean  X1_PointsMedian  X1_PointsDiffMean  \\\n0           0.600000      70.531250             70.5           3.531250   \n1           0.750000      81.333333             81.0          14.966667   \n2           0.333333      80.096774             79.0           8.903226   \n3           0.500000      77.064516             73.0           8.870968   \n4           1.000000      67.793103             65.0           4.655172   \n...              ...            ...              ...                ...   \n2225        1.000000      79.030303             80.0          11.939394   \n2226        1.000000      70.485714             72.0           7.542857   \n2227        0.750000      76.727273             77.0          11.303030   \n2228        0.800000      73.939394             73.0           2.454545   \n2229        0.666667      81.375000             80.5           8.343750   \n\n      X1_FgaMean  X1_FgaMedian  X1_FgaMin  X1_FgaMax  X1_AstMean  X1_BlkMean  \\\n0      54.937500          54.5         40         77   13.812500    5.343750   \n1      62.300000          62.5         49         72   16.733333    4.900000   \n2      60.677419          61.0         43         76   16.903226    5.645161   \n3      55.451613          55.0         35         67   15.741935    3.516129   \n4      55.862069          58.0         44         67   14.206897    2.965517   \n...          ...           ...        ...        ...         ...         ...   \n2225   58.121212          58.0         47         72   17.090909    4.272727   \n2226   56.314286          57.0         40         77   13.342857    4.228571   \n2227   55.606061          56.0         42         65   13.848485    5.060606   \n2228   59.363636          59.0         45         79   13.545455    3.909091   \n2229   61.718750          63.0         52         73   13.125000    4.312500   \n\n      ...  X2_OppFgaMean  X2_OppFgaMin  Seed1  Seed2  SeedDiff  \\\n0     ...      55.500000            44      7     10        -3   \n1     ...      64.678571            52      2      1         1   \n2     ...      64.678571            52      5      1         4   \n3     ...      64.678571            52      9      1         8   \n4     ...      64.678571            52     16      1        15   \n...   ...            ...           ...    ...    ...       ...   \n2225  ...      54.147059            40      8      9        -1   \n2226  ...      57.545455            47     12      5         7   \n2227  ...      54.966667            43      2      7        -5   \n2228  ...      54.966667            43     10      7         3   \n2229  ...      63.035714            51      3     14       -11   \n\n      quality_march_T1  quality_march_T2   Rating.x   Rating.y  train_label_my  \n0             0.916482          0.958527  92.605689  88.227827             win  \n1             1.066457          1.193799  84.075015  93.380430             win  \n2             0.982925          1.193799  97.181957  93.380430            loss  \n3             1.023040          1.193799  84.727965  93.380430            loss  \n4             0.975313          1.193799  69.892386  93.380430            loss  \n...                ...               ...        ...        ...             ...  \n2225          1.021250          0.645903  74.666226  82.378832            loss  \n2226          0.900987          0.960146  87.665786  87.153435             win  \n2227          1.427841          0.717883  90.380569  75.599080             win  \n2228          1.029088          0.717883  83.327530  75.599080            loss  \n2229          1.190809          0.927612  82.773350  76.325518             win  \n\n[2230 rows x 32 columns]",
      "text/html": "<div>\n<style scoped>\n    .dataframe tbody tr th:only-of-type {\n        vertical-align: middle;\n    }\n\n    .dataframe tbody tr th {\n        vertical-align: top;\n    }\n\n    .dataframe thead th {\n        text-align: right;\n    }\n</style>\n<table border=\"1\" class=\"dataframe\">\n  <thead>\n    <tr style=\"text-align: right;\">\n      <th></th>\n      <th>X1_WinRatio14d</th>\n      <th>X1_PointsMean</th>\n      <th>X1_PointsMedian</th>\n      <th>X1_PointsDiffMean</th>\n      <th>X1_FgaMean</th>\n      <th>X1_FgaMedian</th>\n      <th>X1_FgaMin</th>\n      <th>X1_FgaMax</th>\n      <th>X1_AstMean</th>\n      <th>X1_BlkMean</th>\n      <th>...</th>\n      <th>X2_OppFgaMean</th>\n      <th>X2_OppFgaMin</th>\n      <th>Seed1</th>\n      <th>Seed2</th>\n      <th>SeedDiff</th>\n      <th>quality_march_T1</th>\n      <th>quality_march_T2</th>\n      <th>Rating.x</th>\n      <th>Rating.y</th>\n      <th>train_label_my</th>\n    </tr>\n  </thead>\n  <tbody>\n    <tr>\n      <th>0</th>\n      <td>0.600000</td>\n      <td>70.531250</td>\n      <td>70.5</td>\n      <td>3.531250</td>\n      <td>54.937500</td>\n      <td>54.5</td>\n      <td>40</td>\n      <td>77</td>\n      <td>13.812500</td>\n      <td>5.343750</td>\n      <td>...</td>\n      <td>55.500000</td>\n      <td>44</td>\n      <td>7</td>\n      <td>10</td>\n      <td>-3</td>\n      <td>0.916482</td>\n      <td>0.958527</td>\n      <td>92.605689</td>\n      <td>88.227827</td>\n      <td>win</td>\n    </tr>\n    <tr>\n      <th>1</th>\n      <td>0.750000</td>\n      <td>81.333333</td>\n      <td>81.0</td>\n      <td>14.966667</td>\n      <td>62.300000</td>\n      <td>62.5</td>\n      <td>49</td>\n      <td>72</td>\n      <td>16.733333</td>\n      <td>4.900000</td>\n      <td>...</td>\n      <td>64.678571</td>\n      <td>52</td>\n      <td>2</td>\n      <td>1</td>\n      <td>1</td>\n      <td>1.066457</td>\n      <td>1.193799</td>\n      <td>84.075015</td>\n      <td>93.380430</td>\n      <td>win</td>\n    </tr>\n    <tr>\n      <th>2</th>\n      <td>0.333333</td>\n      <td>80.096774</td>\n      <td>79.0</td>\n      <td>8.903226</td>\n      <td>60.677419</td>\n      <td>61.0</td>\n      <td>43</td>\n      <td>76</td>\n      <td>16.903226</td>\n      <td>5.645161</td>\n      <td>...</td>\n      <td>64.678571</td>\n      <td>52</td>\n      <td>5</td>\n      <td>1</td>\n      <td>4</td>\n      <td>0.982925</td>\n      <td>1.193799</td>\n      <td>97.181957</td>\n      <td>93.380430</td>\n      <td>loss</td>\n    </tr>\n    <tr>\n      <th>3</th>\n      <td>0.500000</td>\n      <td>77.064516</td>\n      <td>73.0</td>\n      <td>8.870968</td>\n      <td>55.451613</td>\n      <td>55.0</td>\n      <td>35</td>\n      <td>67</td>\n      <td>15.741935</td>\n      <td>3.516129</td>\n      <td>...</td>\n      <td>64.678571</td>\n      <td>52</td>\n      <td>9</td>\n      <td>1</td>\n      <td>8</td>\n      <td>1.023040</td>\n      <td>1.193799</td>\n      <td>84.727965</td>\n      <td>93.380430</td>\n      <td>loss</td>\n    </tr>\n    <tr>\n      <th>4</th>\n      <td>1.000000</td>\n      <td>67.793103</td>\n      <td>65.0</td>\n      <td>4.655172</td>\n      <td>55.862069</td>\n      <td>58.0</td>\n      <td>44</td>\n      <td>67</td>\n      <td>14.206897</td>\n      <td>2.965517</td>\n      <td>...</td>\n      <td>64.678571</td>\n      <td>52</td>\n      <td>16</td>\n      <td>1</td>\n      <td>15</td>\n      <td>0.975313</td>\n      <td>1.193799</td>\n      <td>69.892386</td>\n      <td>93.380430</td>\n      <td>loss</td>\n    </tr>\n    <tr>\n      <th>...</th>\n      <td>...</td>\n      <td>...</td>\n      <td>...</td>\n      <td>...</td>\n      <td>...</td>\n      <td>...</td>\n      <td>...</td>\n      <td>...</td>\n      <td>...</td>\n      <td>...</td>\n      <td>...</td>\n      <td>...</td>\n      <td>...</td>\n      <td>...</td>\n      <td>...</td>\n      <td>...</td>\n      <td>...</td>\n      <td>...</td>\n      <td>...</td>\n      <td>...</td>\n      <td>...</td>\n    </tr>\n    <tr>\n      <th>2225</th>\n      <td>1.000000</td>\n      <td>79.030303</td>\n      <td>80.0</td>\n      <td>11.939394</td>\n      <td>58.121212</td>\n      <td>58.0</td>\n      <td>47</td>\n      <td>72</td>\n      <td>17.090909</td>\n      <td>4.272727</td>\n      <td>...</td>\n      <td>54.147059</td>\n      <td>40</td>\n      <td>8</td>\n      <td>9</td>\n      <td>-1</td>\n      <td>1.021250</td>\n      <td>0.645903</td>\n      <td>74.666226</td>\n      <td>82.378832</td>\n      <td>loss</td>\n    </tr>\n    <tr>\n      <th>2226</th>\n      <td>1.000000</td>\n      <td>70.485714</td>\n      <td>72.0</td>\n      <td>7.542857</td>\n      <td>56.314286</td>\n      <td>57.0</td>\n      <td>40</td>\n      <td>77</td>\n      <td>13.342857</td>\n      <td>4.228571</td>\n      <td>...</td>\n      <td>57.545455</td>\n      <td>47</td>\n      <td>12</td>\n      <td>5</td>\n      <td>7</td>\n      <td>0.900987</td>\n      <td>0.960146</td>\n      <td>87.665786</td>\n      <td>87.153435</td>\n      <td>win</td>\n    </tr>\n    <tr>\n      <th>2227</th>\n      <td>0.750000</td>\n      <td>76.727273</td>\n      <td>77.0</td>\n      <td>11.303030</td>\n      <td>55.606061</td>\n      <td>56.0</td>\n      <td>42</td>\n      <td>65</td>\n      <td>13.848485</td>\n      <td>5.060606</td>\n      <td>...</td>\n      <td>54.966667</td>\n      <td>43</td>\n      <td>2</td>\n      <td>7</td>\n      <td>-5</td>\n      <td>1.427841</td>\n      <td>0.717883</td>\n      <td>90.380569</td>\n      <td>75.599080</td>\n      <td>win</td>\n    </tr>\n    <tr>\n      <th>2228</th>\n      <td>0.800000</td>\n      <td>73.939394</td>\n      <td>73.0</td>\n      <td>2.454545</td>\n      <td>59.363636</td>\n      <td>59.0</td>\n      <td>45</td>\n      <td>79</td>\n      <td>13.545455</td>\n      <td>3.909091</td>\n      <td>...</td>\n      <td>54.966667</td>\n      <td>43</td>\n      <td>10</td>\n      <td>7</td>\n      <td>3</td>\n      <td>1.029088</td>\n      <td>0.717883</td>\n      <td>83.327530</td>\n      <td>75.599080</td>\n      <td>loss</td>\n    </tr>\n    <tr>\n      <th>2229</th>\n      <td>0.666667</td>\n      <td>81.375000</td>\n      <td>80.5</td>\n      <td>8.343750</td>\n      <td>61.718750</td>\n      <td>63.0</td>\n      <td>52</td>\n      <td>73</td>\n      <td>13.125000</td>\n      <td>4.312500</td>\n      <td>...</td>\n      <td>63.035714</td>\n      <td>51</td>\n      <td>3</td>\n      <td>14</td>\n      <td>-11</td>\n      <td>1.190809</td>\n      <td>0.927612</td>\n      <td>82.773350</td>\n      <td>76.325518</td>\n      <td>win</td>\n    </tr>\n  </tbody>\n</table>\n<p>2230 rows × 32 columns</p>\n</div>"
     },
     "execution_count": 22,
     "metadata": {},
     "output_type": "execute_result"
    }
   ],
   "source": [
    "# train_list=list(tourney_result.columns)[:-1]\n",
    "# tourney_result.columns[-1]"
   ],
   "metadata": {
    "collapsed": false,
    "pycharm": {
     "name": "#%%\n"
    }
   }
  },
  {
   "cell_type": "code",
   "execution_count": 23,
   "outputs": [],
   "source": [
    "tourney_result = tourney_result.rename(columns = {'train_label_my':'result'})"
   ],
   "metadata": {
    "collapsed": false,
    "pycharm": {
     "name": "#%%\n"
    }
   }
  },
  {
   "cell_type": "code",
   "execution_count": 24,
   "outputs": [
    {
     "name": "stdout",
     "output_type": "stream",
     "text": [
      "Checking whether there is an H2O instance running at http://localhost:54321 . connected.\n",
      "Parse progress: |█████████████████████████████████████████████████████████| 100%\n"
     ]
    },
    {
     "data": {
      "text/plain": "--------------------------  ------------------------------------------------------------------\nH2O_cluster_uptime:         47 secs\nH2O_cluster_timezone:       Asia/Shanghai\nH2O_data_parsing_timezone:  UTC\nH2O_cluster_version:        3.32.0.4\nH2O_cluster_version_age:    1 month and 17 days\nH2O_cluster_name:           H2O_from_python_fyenne_2smjm1\nH2O_cluster_total_nodes:    1\nH2O_cluster_free_memory:    8.000 Gb\nH2O_cluster_total_cores:    8\nH2O_cluster_allowed_cores:  8\nH2O_cluster_status:         locked, healthy\nH2O_connection_url:         http://localhost:54321\nH2O_connection_proxy:       {\"http\": null, \"https\": null}\nH2O_internal_security:      False\nH2O_API_Extensions:         Amazon S3, XGBoost, Algos, AutoML, Core V3, TargetEncoder, Core V4\nPython_version:             3.8.6 final\n--------------------------  ------------------------------------------------------------------",
      "text/html": "<div style=\"overflow:auto\"><table style=\"width:50%\"><tr><td>H2O_cluster_uptime:</td>\n<td>47 secs</td></tr>\n<tr><td>H2O_cluster_timezone:</td>\n<td>Asia/Shanghai</td></tr>\n<tr><td>H2O_data_parsing_timezone:</td>\n<td>UTC</td></tr>\n<tr><td>H2O_cluster_version:</td>\n<td>3.32.0.4</td></tr>\n<tr><td>H2O_cluster_version_age:</td>\n<td>1 month and 17 days </td></tr>\n<tr><td>H2O_cluster_name:</td>\n<td>H2O_from_python_fyenne_2smjm1</td></tr>\n<tr><td>H2O_cluster_total_nodes:</td>\n<td>1</td></tr>\n<tr><td>H2O_cluster_free_memory:</td>\n<td>8.000 Gb</td></tr>\n<tr><td>H2O_cluster_total_cores:</td>\n<td>8</td></tr>\n<tr><td>H2O_cluster_allowed_cores:</td>\n<td>8</td></tr>\n<tr><td>H2O_cluster_status:</td>\n<td>locked, healthy</td></tr>\n<tr><td>H2O_connection_url:</td>\n<td>http://localhost:54321</td></tr>\n<tr><td>H2O_connection_proxy:</td>\n<td>{\"http\": null, \"https\": null}</td></tr>\n<tr><td>H2O_internal_security:</td>\n<td>False</td></tr>\n<tr><td>H2O_API_Extensions:</td>\n<td>Amazon S3, XGBoost, Algos, AutoML, Core V3, TargetEncoder, Core V4</td></tr>\n<tr><td>Python_version:</td>\n<td>3.8.6 final</td></tr></table></div>"
     },
     "metadata": {},
     "output_type": "display_data"
    }
   ],
   "source": [
    "import h2o\n",
    "h2o.init(\n",
    "  nthreads=-1,            ## -1: use all available threads\n",
    "  max_mem_size = \"8G\")\n",
    "train_list=list(tourney_result.columns)[:-1]\n",
    "train_1=h2o.H2OFrame(tourney_result)\n",
    "train_1['result']=train_1['result'].asfactor()"
   ],
   "metadata": {
    "collapsed": false,
    "pycharm": {
     "name": "#%%\n"
    }
   }
  },
  {
   "cell_type": "code",
   "execution_count": 25,
   "outputs": [],
   "source": [
    "param = {\n",
    "      \"ntrees\" : 2000\n",
    "    , \"max_depth\" : 20\n",
    "    , \"learn_rate\" : 0.02\n",
    "    , \"sample_rate\" : 0.7\n",
    "    , \"col_sample_rate_per_tree\" : 0.9\n",
    "    , \"min_rows\" : 5\n",
    "    , \"seed\": 4241\n",
    "    , \"score_tree_interval\": 100\n",
    "    ,\"stopping_metric\" :\"MSE\"\n",
    "    ,\"nfolds\":8\n",
    "    ,\"fold_assignment\":\"AUTO\"\n",
    "    ,\"keep_cross_validation_predictions\" : True\n",
    "    ,\"booster\":\"dart\"\n",
    "}"
   ],
   "metadata": {
    "collapsed": false,
    "pycharm": {
     "name": "#%%\n"
    }
   }
  },
  {
   "cell_type": "code",
   "execution_count": null,
   "outputs": [
    {
     "name": "stderr",
     "output_type": "stream",
     "text": [
      "/Users/fyenne/miniforge3/envs/siming/lib/python3.8/site-packages/h2o/estimators/estimator_base.py:200: RuntimeWarning: Stopping metric is ignored for _stopping_rounds=0.\n",
      "  warnings.warn(mesg[\"message\"], RuntimeWarning)\n"
     ]
    },
    {
     "name": "stdout",
     "output_type": "stream",
     "text": [
      "xgboost Model Build progress: |███████████████████████"
     ]
    }
   ],
   "source": [
    "from h2o.estimators import H2OXGBoostEstimator\n",
    "model_xgb = H2OXGBoostEstimator(**param)\n",
    "model_xgb.train(x = train_list, y = 'result', training_frame = train_1)\n",
    "param={\n",
    "    \"ntrees\" : 1060\n",
    "    , \"max_depth\" : 20\n",
    "    , \"learn_rate\" : 0.02\n",
    "    , \"sample_rate\" : 0.7\n",
    "    , \"col_sample_rate_per_tree\" : 0.9\n",
    "    , \"min_rows\" : 5\n",
    "    , \"seed\": 4240\n",
    "    , \"score_tree_interval\": 100\n",
    "    , \"stopping_metric\" :\"MSE\"\n",
    "    , \"nfolds\":8\n",
    "    , \"fold_assignment\":\"AUTO\"\n",
    "    , \"keep_cross_validation_predictions\" : True\n",
    " }"
   ],
   "metadata": {
    "collapsed": false,
    "pycharm": {
     "name": "#%%\n",
     "is_executing": true
    }
   }
  },
  {
   "cell_type": "code",
   "execution_count": null,
   "outputs": [],
   "source": [
    "from h2o.estimators.gbm import H2OGradientBoostingEstimator  # import gbm estimator\n",
    "model_gbm = H2OGradientBoostingEstimator(**param)\n",
    "model_gbm.train(x = train_list, y = 'result', training_frame = train_1)\n",
    "from h2o.estimators import H2OStackedEnsembleEstimator\n",
    "stack = H2OStackedEnsembleEstimator(model_id=\"ensemble11\",\n",
    "                                       training_frame=train_1,\n",
    "                                       #validation_frame=test,\n",
    "                                       base_models=[model_xgb.model_id,model_gbm.model_id],metalearner_algorithm=\"glm\")\n",
    "stack.train(x=train_list, y=\"result\", training_frame=train_1)"
   ],
   "metadata": {
    "collapsed": false,
    "pycharm": {
     "name": "#%%\n"
    }
   }
  },
  {
   "cell_type": "code",
   "execution_count": null,
   "outputs": [],
   "source": [
    "test_1=h2o.H2OFrame(test_df)\n",
    "pred1=model_xgb.predict(test_1)\n",
    "pred2=model_gbm.predict(test_1)\n",
    "pred_df1=pred1.as_data_frame()\n",
    "pred_df2=pred2.as_data_frame()"
   ],
   "metadata": {
    "collapsed": false,
    "pycharm": {
     "name": "#%%\n"
    }
   }
  },
  {
   "cell_type": "code",
   "execution_count": null,
   "outputs": [],
   "source": [
    "ids = pd.read_csv(path + '/WSampleSubmissionStage2.csv').ID.values\n",
    "values = pred_df2.p1 * 0.7 + pred_df1.p1 * 0.3\n",
    "# values = pred_df1.p1\n",
    "\n",
    "final_df = pd.DataFrame(columns=['ID', 'Pred'])\n",
    "final_df.ID = ids\n",
    "final_df.Pred = values\n",
    "final_df.to_csv('submission_women_GBM_worse.csv', columns=['ID','Pred'], index=None)"
   ],
   "metadata": {
    "collapsed": false,
    "pycharm": {
     "name": "#%%\n"
    }
   }
  }
 ],
 "metadata": {
  "kernelspec": {
   "display_name": "Python 3",
   "language": "python",
   "name": "python3"
  },
  "language_info": {
   "codemirror_mode": {
    "name": "ipython",
    "version": 2
   },
   "file_extension": ".py",
   "mimetype": "text/x-python",
   "name": "python",
   "nbconvert_exporter": "python",
   "pygments_lexer": "ipython2",
   "version": "2.7.6"
  }
 },
 "nbformat": 4,
 "nbformat_minor": 0
}