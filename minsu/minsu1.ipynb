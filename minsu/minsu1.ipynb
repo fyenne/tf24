{
 "metadata": {
  "language_info": {
   "codemirror_mode": {
    "name": "ipython",
    "version": 3
   },
   "file_extension": ".py",
   "mimetype": "text/x-python",
   "name": "python",
   "nbconvert_exporter": "python",
   "pygments_lexer": "ipython3",
   "version": "3.8.6"
  },
  "orig_nbformat": 2,
  "kernelspec": {
   "name": "python386jvsc74a57bd0ce909994499a62a89f8945d91d57c51a920a5cb8f3e61b9dc99d2a0ea5862498",
   "display_name": "Python 3.8.6 64-bit (conda)"
  },
  "metadata": {
   "interpreter": {
    "hash": "ce909994499a62a89f8945d91d57c51a920a5cb8f3e61b9dc99d2a0ea5862498"
   }
  }
 },
 "nbformat": 4,
 "nbformat_minor": 2,
 "cells": [
  {
   "cell_type": "code",
   "execution_count": 1,
   "metadata": {},
   "outputs": [],
   "source": [
    "import numpy as np # linear algebra\n",
    "import pandas as pd # data processing, CSV file I/O (e.g. pd.read_csv)\n",
    "import os\n",
    "import numpy as np\n",
    "import matplotlib.pyplot as plt\n",
    "import matplotlib.mlab as mlab\n",
    "import matplotlib as mpl\n",
    "from scipy.stats import norm\n",
    "\n",
    "# 中文乱码的处理\n",
    "plt.rcParams['font.sans-serif'] = ['Microsoft YaHei']# 设置微软雅黑字体\n",
    "plt.rcParams['axes.unicode_minus'] = False # 避免坐标轴不能正常的显示负号"
   ]
  },
  {
   "cell_type": "code",
   "execution_count": 2,
   "metadata": {},
   "outputs": [
    {
     "output_type": "stream",
     "name": "stdout",
     "text": [
      "(59288, 26) (14823, 25)\n"
     ]
    }
   ],
   "source": [
    "import pandas as pd\n",
    "from sklearn.model_selection import train_test_split\n",
    "# from xgboost import XGBRegressor\n",
    "\n",
    "# Road the data\n",
    "X_full = pd.read_csv('./data/train.csv')\n",
    "X_test_full = pd.read_csv('./data/test.csv')\n",
    "sub = pd.read_csv('./data/sub.csv')\n",
    "print(X_full.shape, X_test_full.shape)\n",
    "#$$\n"
   ]
  },
  {
   "cell_type": "code",
   "execution_count": 3,
   "metadata": {},
   "outputs": [
    {
     "output_type": "execute_result",
     "data": {
      "text/plain": [
       "Index(['数据ID', '容纳人数', '便利设施', '洗手间数量', '床的数量', '床的类型', '卧室数量', '取消条款', '所在城市',\n",
       "       '清洁费', '首次评论日期', '房主是否有个人资料图片', '房主身份是否验证', '房主回复率', '何时成为房主',\n",
       "       '是否支持随即预订', '最近评论日期', '维度', '经度', '民宿周边', '评论个数', '房产类型', '民宿评分', '房型',\n",
       "       '邮编', '价格'],\n",
       "      dtype='object')"
      ]
     },
     "metadata": {},
     "execution_count": 3
    }
   ],
   "source": [
    "# X_full.head();\n",
    "X_full.columns"
   ]
  },
  {
   "cell_type": "code",
   "execution_count": 4,
   "metadata": {},
   "outputs": [],
   "source": [
    "import re\n",
    "words = [re.findall(\"\\w+\",  str) for str in X_full.便利设施]"
   ]
  },
  {
   "cell_type": "code",
   "execution_count": 5,
   "metadata": {},
   "outputs": [],
   "source": [
    "#"
   ]
  },
  {
   "source": [
    "add new col, count for bianlisheshi\n"
   ],
   "cell_type": "markdown",
   "metadata": {}
  },
  {
   "cell_type": "code",
   "execution_count": 6,
   "metadata": {},
   "outputs": [],
   "source": [
    "X_full['new'] = 1\n",
    "for i in range(0, len(X_full)):\n",
    "    X_full.loc[i,'new'] = len((X_full.便利设施[i]).split())"
   ]
  },
  {
   "cell_type": "code",
   "execution_count": 7,
   "metadata": {},
   "outputs": [],
   "source": [
    "X_full['new_len'] = 1\n",
    "for i in range(0, len(X_full)):\n",
    "    X_full.loc[i,'new_len'] = len((X_full.便利设施[i]))"
   ]
  },
  {
   "cell_type": "code",
   "execution_count": 8,
   "metadata": {},
   "outputs": [],
   "source": [
    "#"
   ]
  },
  {
   "source": [
    "check na"
   ],
   "cell_type": "markdown",
   "metadata": {}
  },
  {
   "cell_type": "code",
   "execution_count": 9,
   "metadata": {},
   "outputs": [],
   "source": [
    "# na_index = [X_full[col].isnull().values.sum() for col in X_full.columns]\n",
    "# na_key = X_full.columns\n",
    "# na_frame = pd.DataFrame(na_index, na_key)"
   ]
  },
  {
   "source": [
    "Cat and Num split\n"
   ],
   "cell_type": "markdown",
   "metadata": {}
  },
  {
   "cell_type": "code",
   "execution_count": null,
   "metadata": {},
   "outputs": [],
   "source": []
  },
  {
   "cell_type": "code",
   "execution_count": 10,
   "metadata": {},
   "outputs": [],
   "source": [
    "X_full = X_full.drop('数据ID', axis = 1)"
   ]
  },
  {
   "cell_type": "code",
   "execution_count": 11,
   "metadata": {},
   "outputs": [],
   "source": [
    "categorical_cols = [cname for cname in X_full.columns if \n",
    "X_full[cname].dtype == 'object']\n",
    "\n",
    "# Select numerical columns\n",
    "numerical_cols = [cname for cname in X_full.columns if\n",
    "                  X_full[cname].dtype in ['float64', 'int64']]"
   ]
  },
  {
   "cell_type": "code",
   "execution_count": 12,
   "metadata": {},
   "outputs": [
    {
     "output_type": "execute_result",
     "data": {
      "text/plain": [
       "['便利设施',\n",
       " '首次评论日期',\n",
       " '房主是否有个人资料图片',\n",
       " '房主身份是否验证',\n",
       " '房主回复率',\n",
       " '何时成为房主',\n",
       " '最近评论日期',\n",
       " '民宿周边',\n",
       " '邮编']"
      ]
     },
     "metadata": {},
     "execution_count": 12
    }
   ],
   "source": [
    "categorical_cols"
   ]
  },
  {
   "cell_type": "code",
   "execution_count": 42,
   "metadata": {},
   "outputs": [],
   "source": [
    "X_full['首次评论日期'] = X_full['首次评论日期'].astype(str)\n",
    "X_full['何时成为房主'] = X_full['何时成为房主'].astype(str)\n",
    "X_full['最近评论日期'] = X_full['最近评论日期'].astype(str)"
   ]
  },
  {
   "cell_type": "code",
   "execution_count": 22,
   "metadata": {},
   "outputs": [],
   "source": [
    "# \n",
    "X_full['首次评论日期'] = [re.findall(\"^\\d{4}\\-\\d{2}\", str) for str in X_full.首次评论日期]\n",
    "X_full['何时成为房主'] = [re.findall(\"^\\d{4}\\-\\d{2}\", str) for str in X_full.何时成为房主]\n",
    "X_full['最近评论日期'] = [re.findall(\"^\\d{4}\\-\\d{2}\", str) for str in X_full.最近评论日期]"
   ]
  },
  {
   "cell_type": "code",
   "execution_count": 56,
   "metadata": {},
   "outputs": [],
   "source": [
    "X_full['首次评论日期_new'] = [i.strip(\"['']\") for i in X_full.首次评论日期.to_list()]\n",
    "X_full['何时成为房主_new'] = [i.strip(\"['']\") for i in X_full.何时成为房主.to_list()]\n",
    "X_full['最近评论日期_new'] = [i.strip(\"['']\") for i in X_full.最近评论日期.to_list()]"
   ]
  },
  {
   "cell_type": "code",
   "execution_count": 95,
   "metadata": {},
   "outputs": [],
   "source": [
    "# [isna(i) for i in X_full.房主回复率]\n",
    "X_full['房主回复率_new'] = X_full.房主回复率.isnull()"
   ]
  },
  {
   "cell_type": "code",
   "execution_count": 96,
   "metadata": {},
   "outputs": [
    {
     "output_type": "execute_result",
     "data": {
      "text/plain": [
       "0         True\n",
       "1         True\n",
       "2        False\n",
       "3         True\n",
       "4        False\n",
       "         ...  \n",
       "59283    False\n",
       "59284    False\n",
       "59285    False\n",
       "59286    False\n",
       "59287    False\n",
       "Name: 房主回复率_new, Length: 59288, dtype: bool"
      ]
     },
     "metadata": {},
     "execution_count": 96
    }
   ],
   "source": [
    "X_full['房主回复率_new']"
   ]
  },
  {
   "source": [
    " ---"
   ],
   "cell_type": "markdown",
   "metadata": {}
  },
  {
   "cell_type": "code",
   "execution_count": 13,
   "metadata": {},
   "outputs": [],
   "source": [
    "# X_full.首次评论日期 = [str(i) for i in X_full.首次评论日期]\n",
    "# X_full.首次评论日期 = (re.findall(\"^\\d{4}\\-\\d{2}\", str) for str in X_full.首次评论日期)\n"
   ]
  },
  {
   "cell_type": "code",
   "execution_count": 36,
   "metadata": {},
   "outputs": [],
   "source": [
    "# test_df['Season'] = test_df['ID'].map(lambda x: int(x[:4]))"
   ]
  },
  {
   "cell_type": "code",
   "execution_count": 38,
   "metadata": {},
   "outputs": [],
   "source": [
    "# X_full['bnenwne'] = X_full['new'].map(lambda x: str(x)[:1])"
   ]
  },
  {
   "source": [
    "#--------------------------------------------\n",
    "drop"
   ],
   "cell_type": "markdown",
   "metadata": {}
  },
  {
   "cell_type": "code",
   "execution_count": 99,
   "metadata": {},
   "outputs": [],
   "source": [
    "X_train = X_full.drop(['便利设施', '最近评论日期', '何时成为房主', '首次评论日期', '房主回复率'], axis = 1)"
   ]
  },
  {
   "cell_type": "code",
   "execution_count": 106,
   "metadata": {},
   "outputs": [],
   "source": [
    "from sklearn.preprocessing import StandardScaler, OneHotEncoder\n",
    "from sklearn.impute import SimpleImputer\n",
    "from sklearn.compose import make_column_transformer\n",
    "from sklearn.compose import ColumnTransformer\n",
    "from sklearn.pipeline import Pipeline"
   ]
  },
  {
   "cell_type": "code",
   "execution_count": 108,
   "metadata": {},
   "outputs": [
    {
     "output_type": "execute_result",
     "data": {
      "text/plain": [
       "0        64.918531\n",
       "1        54.918531\n",
       "2        73.219281\n",
       "3        64.093909\n",
       "4        68.454901\n",
       "           ...    \n",
       "59283    57.813597\n",
       "59284    62.288187\n",
       "59285    73.128830\n",
       "59286    62.854022\n",
       "59287    64.093909\n",
       "Name: 价格, Length: 59288, dtype: float64"
      ]
     },
     "metadata": {},
     "execution_count": 108
    }
   ],
   "source": [
    "y = X_train['价格']\n",
    "X_train.pop('价格')"
   ]
  },
  {
   "cell_type": "code",
   "execution_count": 112,
   "metadata": {},
   "outputs": [
    {
     "output_type": "execute_result",
     "data": {
      "text/plain": [
       "Index(['容纳人数', '洗手间数量', '床的数量', '床的类型', '卧室数量', '取消条款', '所在城市', '清洁费',\n",
       "       '房主是否有个人资料图片', '房主身份是否验证', '是否支持随即预订', '维度', '经度', '民宿周边', '评论个数',\n",
       "       '房产类型', '民宿评分', '房型', '邮编', 'new', 'new_len', '首次评论日期_new',\n",
       "       '何时成为房主_new', '最近评论日期_new', '房主回复率_new'],\n",
       "      dtype='object')"
      ]
     },
     "metadata": {},
     "execution_count": 112
    }
   ],
   "source": [
    "X_train.columns"
   ]
  },
  {
   "cell_type": "code",
   "execution_count": 113,
   "metadata": {},
   "outputs": [],
   "source": [
    "transformers_1 = SimpleImputer(strategy='most_frequent')"
   ]
  },
  {
   "cell_type": "code",
   "execution_count": 114,
   "metadata": {},
   "outputs": [],
   "source": [
    "X_train_new = transformers_1.fit_transform(X_train)"
   ]
  },
  {
   "cell_type": "code",
   "execution_count": 117,
   "metadata": {},
   "outputs": [],
   "source": [
    "X_train_new = pd.DataFrame(X_train_new)"
   ]
  },
  {
   "cell_type": "code",
   "execution_count": 120,
   "metadata": {},
   "outputs": [],
   "source": [
    "X_train_new.to_csv(\"./train_data.csv\", index=False)\n",
    "y.to_csv(\"./target.csv\", index = False)"
   ]
  },
  {
   "source": [
    "---"
   ],
   "cell_type": "markdown",
   "metadata": {}
  },
  {
   "source": [
    "cat one hot"
   ],
   "cell_type": "markdown",
   "metadata": {}
  },
  {
   "cell_type": "code",
   "execution_count": 186,
   "metadata": {},
   "outputs": [],
   "source": [
    "cat_col = [5,7,8,9,10,13,17,18,21,22,23,24]"
   ]
  },
  {
   "cell_type": "code",
   "execution_count": 187,
   "metadata": {},
   "outputs": [],
   "source": [
    "# X_train_new.columns #RangeIndex(start=0, stop=25, step=1)"
   ]
  },
  {
   "cell_type": "code",
   "execution_count": 188,
   "metadata": {},
   "outputs": [],
   "source": [
    "num_col = list(set(np.arange(0,25)) - set(cat_col))"
   ]
  },
  {
   "cell_type": "code",
   "execution_count": 189,
   "metadata": {},
   "outputs": [],
   "source": [
    "train_cat_frame = X_train_new[cat_col]"
   ]
  },
  {
   "cell_type": "code",
   "execution_count": 213,
   "metadata": {},
   "outputs": [
    {
     "output_type": "execute_result",
     "data": {
      "text/plain": [
       "      0    1    2  3    4  6          11          12  14  15     16  19   20\n",
       "0      4  1.5  3.0  4  2.0  3  34.109039  -118.27339  12  17   97.0  15  276\n",
       "1      2  1.0  1.0  4  1.0  4  40.812897  -73.919163   6   0   87.0  16  279\n",
       "2      4  1.0  2.0  4  0.0  4  40.737643  -73.953309   4   0   80.0   9  145\n",
       "3      2  1.0  1.0  4  1.0  5  37.759935 -122.420558   0   0  100.0   1    2\n",
       "4      3  1.0  1.0  4  1.0  4  40.683363   -73.94949  16   0   99.0  15  264\n",
       "...   ..  ...  ... ..  ... ..        ...         ...  ..  ..    ...  ..  ...\n",
       "59283  2  1.5  1.0  4  1.0  3  34.094867 -118.292013   1   0  100.0  14  249\n",
       "59284  1  1.0  1.0  4  1.0  3  34.150509 -118.787469   2  17   90.0  15  227\n",
       "59285  5  2.0  2.0  4  2.0  3  34.087073 -118.336914  20  17   91.0  16  249\n",
       "59286  2  1.0  1.0  4  1.0  4  40.771579  -73.957856   0   0  100.0  16  292\n",
       "59287  2  1.0  1.0  4  1.0  3  34.065592 -118.252486   3   0  100.0  27  440\n",
       "\n",
       "[59288 rows x 13 columns]"
      ],
      "text/html": "<div>\n<style scoped>\n    .dataframe tbody tr th:only-of-type {\n        vertical-align: middle;\n    }\n\n    .dataframe tbody tr th {\n        vertical-align: top;\n    }\n\n    .dataframe thead th {\n        text-align: right;\n    }\n</style>\n<table border=\"1\" class=\"dataframe\">\n  <thead>\n    <tr style=\"text-align: right;\">\n      <th></th>\n      <th>0</th>\n      <th>1</th>\n      <th>2</th>\n      <th>3</th>\n      <th>4</th>\n      <th>6</th>\n      <th>11</th>\n      <th>12</th>\n      <th>14</th>\n      <th>15</th>\n      <th>16</th>\n      <th>19</th>\n      <th>20</th>\n    </tr>\n  </thead>\n  <tbody>\n    <tr>\n      <th>0</th>\n      <td>4</td>\n      <td>1.5</td>\n      <td>3.0</td>\n      <td>4</td>\n      <td>2.0</td>\n      <td>3</td>\n      <td>34.109039</td>\n      <td>-118.27339</td>\n      <td>12</td>\n      <td>17</td>\n      <td>97.0</td>\n      <td>15</td>\n      <td>276</td>\n    </tr>\n    <tr>\n      <th>1</th>\n      <td>2</td>\n      <td>1.0</td>\n      <td>1.0</td>\n      <td>4</td>\n      <td>1.0</td>\n      <td>4</td>\n      <td>40.812897</td>\n      <td>-73.919163</td>\n      <td>6</td>\n      <td>0</td>\n      <td>87.0</td>\n      <td>16</td>\n      <td>279</td>\n    </tr>\n    <tr>\n      <th>2</th>\n      <td>4</td>\n      <td>1.0</td>\n      <td>2.0</td>\n      <td>4</td>\n      <td>0.0</td>\n      <td>4</td>\n      <td>40.737643</td>\n      <td>-73.953309</td>\n      <td>4</td>\n      <td>0</td>\n      <td>80.0</td>\n      <td>9</td>\n      <td>145</td>\n    </tr>\n    <tr>\n      <th>3</th>\n      <td>2</td>\n      <td>1.0</td>\n      <td>1.0</td>\n      <td>4</td>\n      <td>1.0</td>\n      <td>5</td>\n      <td>37.759935</td>\n      <td>-122.420558</td>\n      <td>0</td>\n      <td>0</td>\n      <td>100.0</td>\n      <td>1</td>\n      <td>2</td>\n    </tr>\n    <tr>\n      <th>4</th>\n      <td>3</td>\n      <td>1.0</td>\n      <td>1.0</td>\n      <td>4</td>\n      <td>1.0</td>\n      <td>4</td>\n      <td>40.683363</td>\n      <td>-73.94949</td>\n      <td>16</td>\n      <td>0</td>\n      <td>99.0</td>\n      <td>15</td>\n      <td>264</td>\n    </tr>\n    <tr>\n      <th>...</th>\n      <td>...</td>\n      <td>...</td>\n      <td>...</td>\n      <td>...</td>\n      <td>...</td>\n      <td>...</td>\n      <td>...</td>\n      <td>...</td>\n      <td>...</td>\n      <td>...</td>\n      <td>...</td>\n      <td>...</td>\n      <td>...</td>\n    </tr>\n    <tr>\n      <th>59283</th>\n      <td>2</td>\n      <td>1.5</td>\n      <td>1.0</td>\n      <td>4</td>\n      <td>1.0</td>\n      <td>3</td>\n      <td>34.094867</td>\n      <td>-118.292013</td>\n      <td>1</td>\n      <td>0</td>\n      <td>100.0</td>\n      <td>14</td>\n      <td>249</td>\n    </tr>\n    <tr>\n      <th>59284</th>\n      <td>1</td>\n      <td>1.0</td>\n      <td>1.0</td>\n      <td>4</td>\n      <td>1.0</td>\n      <td>3</td>\n      <td>34.150509</td>\n      <td>-118.787469</td>\n      <td>2</td>\n      <td>17</td>\n      <td>90.0</td>\n      <td>15</td>\n      <td>227</td>\n    </tr>\n    <tr>\n      <th>59285</th>\n      <td>5</td>\n      <td>2.0</td>\n      <td>2.0</td>\n      <td>4</td>\n      <td>2.0</td>\n      <td>3</td>\n      <td>34.087073</td>\n      <td>-118.336914</td>\n      <td>20</td>\n      <td>17</td>\n      <td>91.0</td>\n      <td>16</td>\n      <td>249</td>\n    </tr>\n    <tr>\n      <th>59286</th>\n      <td>2</td>\n      <td>1.0</td>\n      <td>1.0</td>\n      <td>4</td>\n      <td>1.0</td>\n      <td>4</td>\n      <td>40.771579</td>\n      <td>-73.957856</td>\n      <td>0</td>\n      <td>0</td>\n      <td>100.0</td>\n      <td>16</td>\n      <td>292</td>\n    </tr>\n    <tr>\n      <th>59287</th>\n      <td>2</td>\n      <td>1.0</td>\n      <td>1.0</td>\n      <td>4</td>\n      <td>1.0</td>\n      <td>3</td>\n      <td>34.065592</td>\n      <td>-118.252486</td>\n      <td>3</td>\n      <td>0</td>\n      <td>100.0</td>\n      <td>27</td>\n      <td>440</td>\n    </tr>\n  </tbody>\n</table>\n<p>59288 rows × 13 columns</p>\n</div>"
     },
     "metadata": {},
     "execution_count": 213
    }
   ],
   "source": [
    "X_train_new[num_col]"
   ]
  },
  {
   "cell_type": "code",
   "execution_count": 214,
   "metadata": {},
   "outputs": [
    {
     "output_type": "execute_result",
     "data": {
      "text/plain": [
       "      5  7  8  9  10                  13 17     18       21       22       23  \\\n",
       "0      0  0  t  t  0           Los Feliz  0  90027  2015-05  2015-02  2016-06   \n",
       "1      2  1  t  t  1          Mott Haven  0  10454  2016-07  2009-10  2016-07   \n",
       "2      2  1  t  f  1          Greenpoint  0  11222  2017-07  2017-06  2017-07   \n",
       "3      0  1  t  t  0    Mission District  1  94110           2013-03            \n",
       "4      1  1  t  t  0  Bedford-Stuyvesant  0  11216  2014-04  2011-07  2016-05   \n",
       "...   .. .. .. .. ..                 ... ..    ...      ...      ...      ...   \n",
       "59283  2  1  t  f  0      East Hollywood  1  90029  2016-12  2012-06  2016-12   \n",
       "59284  0  1  t  f  0        Williamsburg  1  91301  2015-05  2012-08  2016-09   \n",
       "59285  2  1  t  t  0           Hollywood  0  90038  2016-01  2012-06  2017-03   \n",
       "59286  2  1  t  t  0     Upper East Side  1  10021           2011-03            \n",
       "59287  0  0  t  t  0           Echo Park  1  90012  2016-10  2015-05  2017-02   \n",
       "\n",
       "          24  \n",
       "0       True  \n",
       "1       True  \n",
       "2      False  \n",
       "3       True  \n",
       "4      False  \n",
       "...      ...  \n",
       "59283  False  \n",
       "59284  False  \n",
       "59285  False  \n",
       "59286  False  \n",
       "59287  False  \n",
       "\n",
       "[59288 rows x 12 columns]"
      ],
      "text/html": "<div>\n<style scoped>\n    .dataframe tbody tr th:only-of-type {\n        vertical-align: middle;\n    }\n\n    .dataframe tbody tr th {\n        vertical-align: top;\n    }\n\n    .dataframe thead th {\n        text-align: right;\n    }\n</style>\n<table border=\"1\" class=\"dataframe\">\n  <thead>\n    <tr style=\"text-align: right;\">\n      <th></th>\n      <th>5</th>\n      <th>7</th>\n      <th>8</th>\n      <th>9</th>\n      <th>10</th>\n      <th>13</th>\n      <th>17</th>\n      <th>18</th>\n      <th>21</th>\n      <th>22</th>\n      <th>23</th>\n      <th>24</th>\n    </tr>\n  </thead>\n  <tbody>\n    <tr>\n      <th>0</th>\n      <td>0</td>\n      <td>0</td>\n      <td>t</td>\n      <td>t</td>\n      <td>0</td>\n      <td>Los Feliz</td>\n      <td>0</td>\n      <td>90027</td>\n      <td>2015-05</td>\n      <td>2015-02</td>\n      <td>2016-06</td>\n      <td>True</td>\n    </tr>\n    <tr>\n      <th>1</th>\n      <td>2</td>\n      <td>1</td>\n      <td>t</td>\n      <td>t</td>\n      <td>1</td>\n      <td>Mott Haven</td>\n      <td>0</td>\n      <td>10454</td>\n      <td>2016-07</td>\n      <td>2009-10</td>\n      <td>2016-07</td>\n      <td>True</td>\n    </tr>\n    <tr>\n      <th>2</th>\n      <td>2</td>\n      <td>1</td>\n      <td>t</td>\n      <td>f</td>\n      <td>1</td>\n      <td>Greenpoint</td>\n      <td>0</td>\n      <td>11222</td>\n      <td>2017-07</td>\n      <td>2017-06</td>\n      <td>2017-07</td>\n      <td>False</td>\n    </tr>\n    <tr>\n      <th>3</th>\n      <td>0</td>\n      <td>1</td>\n      <td>t</td>\n      <td>t</td>\n      <td>0</td>\n      <td>Mission District</td>\n      <td>1</td>\n      <td>94110</td>\n      <td></td>\n      <td>2013-03</td>\n      <td></td>\n      <td>True</td>\n    </tr>\n    <tr>\n      <th>4</th>\n      <td>1</td>\n      <td>1</td>\n      <td>t</td>\n      <td>t</td>\n      <td>0</td>\n      <td>Bedford-Stuyvesant</td>\n      <td>0</td>\n      <td>11216</td>\n      <td>2014-04</td>\n      <td>2011-07</td>\n      <td>2016-05</td>\n      <td>False</td>\n    </tr>\n    <tr>\n      <th>...</th>\n      <td>...</td>\n      <td>...</td>\n      <td>...</td>\n      <td>...</td>\n      <td>...</td>\n      <td>...</td>\n      <td>...</td>\n      <td>...</td>\n      <td>...</td>\n      <td>...</td>\n      <td>...</td>\n      <td>...</td>\n    </tr>\n    <tr>\n      <th>59283</th>\n      <td>2</td>\n      <td>1</td>\n      <td>t</td>\n      <td>f</td>\n      <td>0</td>\n      <td>East Hollywood</td>\n      <td>1</td>\n      <td>90029</td>\n      <td>2016-12</td>\n      <td>2012-06</td>\n      <td>2016-12</td>\n      <td>False</td>\n    </tr>\n    <tr>\n      <th>59284</th>\n      <td>0</td>\n      <td>1</td>\n      <td>t</td>\n      <td>f</td>\n      <td>0</td>\n      <td>Williamsburg</td>\n      <td>1</td>\n      <td>91301</td>\n      <td>2015-05</td>\n      <td>2012-08</td>\n      <td>2016-09</td>\n      <td>False</td>\n    </tr>\n    <tr>\n      <th>59285</th>\n      <td>2</td>\n      <td>1</td>\n      <td>t</td>\n      <td>t</td>\n      <td>0</td>\n      <td>Hollywood</td>\n      <td>0</td>\n      <td>90038</td>\n      <td>2016-01</td>\n      <td>2012-06</td>\n      <td>2017-03</td>\n      <td>False</td>\n    </tr>\n    <tr>\n      <th>59286</th>\n      <td>2</td>\n      <td>1</td>\n      <td>t</td>\n      <td>t</td>\n      <td>0</td>\n      <td>Upper East Side</td>\n      <td>1</td>\n      <td>10021</td>\n      <td></td>\n      <td>2011-03</td>\n      <td></td>\n      <td>False</td>\n    </tr>\n    <tr>\n      <th>59287</th>\n      <td>0</td>\n      <td>0</td>\n      <td>t</td>\n      <td>t</td>\n      <td>0</td>\n      <td>Echo Park</td>\n      <td>1</td>\n      <td>90012</td>\n      <td>2016-10</td>\n      <td>2015-05</td>\n      <td>2017-02</td>\n      <td>False</td>\n    </tr>\n  </tbody>\n</table>\n<p>59288 rows × 12 columns</p>\n</div>"
     },
     "metadata": {},
     "execution_count": 214
    }
   ],
   "source": [
    "train_cat_frame"
   ]
  },
  {
   "cell_type": "code",
   "execution_count": 192,
   "metadata": {},
   "outputs": [
    {
     "output_type": "execute_result",
     "data": {
      "text/plain": [
       "[0, 1, 2, 3, 4, 6, 11, 12, 14, 15, 16, 19, 20]"
      ]
     },
     "metadata": {},
     "execution_count": 192
    }
   ],
   "source": [
    "num_col"
   ]
  },
  {
   "cell_type": "code",
   "execution_count": 210,
   "metadata": {},
   "outputs": [],
   "source": [
    "train_num_frame = [X_train_new[i].astype(float) for i in num_col]"
   ]
  },
  {
   "cell_type": "code",
   "execution_count": 211,
   "metadata": {},
   "outputs": [],
   "source": [
    "train_num_frame = pd.DataFrame(train_num_frame)"
   ]
  },
  {
   "cell_type": "code",
   "execution_count": 204,
   "metadata": {},
   "outputs": [],
   "source": [
    "# train_frame_fin = train_cat_frame.append(train_num_frame,ignore_index=True)\n",
    "train_frame_fin = pd.concat([train_num_frame, train_cat_frame], axis=1)"
   ]
  },
  {
   "cell_type": "code",
   "execution_count": 206,
   "metadata": {},
   "outputs": [
    {
     "output_type": "error",
     "ename": "AttributeError",
     "evalue": "'DataFrame' object has no attribute 'dtype'",
     "traceback": [
      "\u001b[0;31m---------------------------------------------------------------------------\u001b[0m",
      "\u001b[0;31mAttributeError\u001b[0m                            Traceback (most recent call last)",
      "\u001b[0;32m<ipython-input-206-688e36b1f747>\u001b[0m in \u001b[0;36m<module>\u001b[0;34m\u001b[0m\n\u001b[0;32m----> 1\u001b[0;31m categorical_cols = [cname for cname in train_frame_fin.columns if \n\u001b[0m\u001b[1;32m      2\u001b[0m train_frame_fin[cname].dtype == 'object']\n\u001b[1;32m      3\u001b[0m \u001b[0;34m\u001b[0m\u001b[0m\n\u001b[1;32m      4\u001b[0m \u001b[0;31m# Select numerical columns\u001b[0m\u001b[0;34m\u001b[0m\u001b[0;34m\u001b[0m\u001b[0;34m\u001b[0m\u001b[0m\n\u001b[1;32m      5\u001b[0m numerical_cols = [cname for cname in train_frame_fin.columns if\n",
      "\u001b[0;32m<ipython-input-206-688e36b1f747>\u001b[0m in \u001b[0;36m<listcomp>\u001b[0;34m(.0)\u001b[0m\n\u001b[1;32m      1\u001b[0m categorical_cols = [cname for cname in train_frame_fin.columns if \n\u001b[0;32m----> 2\u001b[0;31m train_frame_fin[cname].dtype == 'object']\n\u001b[0m\u001b[1;32m      3\u001b[0m \u001b[0;34m\u001b[0m\u001b[0m\n\u001b[1;32m      4\u001b[0m \u001b[0;31m# Select numerical columns\u001b[0m\u001b[0;34m\u001b[0m\u001b[0;34m\u001b[0m\u001b[0;34m\u001b[0m\u001b[0m\n\u001b[1;32m      5\u001b[0m numerical_cols = [cname for cname in train_frame_fin.columns if\n",
      "\u001b[0;32m~/miniforge3/envs/siming/lib/python3.8/site-packages/pandas/core/generic.py\u001b[0m in \u001b[0;36m__getattr__\u001b[0;34m(self, name)\u001b[0m\n\u001b[1;32m   5463\u001b[0m             \u001b[0;32mif\u001b[0m \u001b[0mself\u001b[0m\u001b[0;34m.\u001b[0m\u001b[0m_info_axis\u001b[0m\u001b[0;34m.\u001b[0m\u001b[0m_can_hold_identifiers_and_holds_name\u001b[0m\u001b[0;34m(\u001b[0m\u001b[0mname\u001b[0m\u001b[0;34m)\u001b[0m\u001b[0;34m:\u001b[0m\u001b[0;34m\u001b[0m\u001b[0;34m\u001b[0m\u001b[0m\n\u001b[1;32m   5464\u001b[0m                 \u001b[0;32mreturn\u001b[0m \u001b[0mself\u001b[0m\u001b[0;34m[\u001b[0m\u001b[0mname\u001b[0m\u001b[0;34m]\u001b[0m\u001b[0;34m\u001b[0m\u001b[0;34m\u001b[0m\u001b[0m\n\u001b[0;32m-> 5465\u001b[0;31m             \u001b[0;32mreturn\u001b[0m \u001b[0mobject\u001b[0m\u001b[0;34m.\u001b[0m\u001b[0m__getattribute__\u001b[0m\u001b[0;34m(\u001b[0m\u001b[0mself\u001b[0m\u001b[0;34m,\u001b[0m \u001b[0mname\u001b[0m\u001b[0;34m)\u001b[0m\u001b[0;34m\u001b[0m\u001b[0;34m\u001b[0m\u001b[0m\n\u001b[0m\u001b[1;32m   5466\u001b[0m \u001b[0;34m\u001b[0m\u001b[0m\n\u001b[1;32m   5467\u001b[0m     \u001b[0;32mdef\u001b[0m \u001b[0m__setattr__\u001b[0m\u001b[0;34m(\u001b[0m\u001b[0mself\u001b[0m\u001b[0;34m,\u001b[0m \u001b[0mname\u001b[0m\u001b[0;34m:\u001b[0m \u001b[0mstr\u001b[0m\u001b[0;34m,\u001b[0m \u001b[0mvalue\u001b[0m\u001b[0;34m)\u001b[0m \u001b[0;34m->\u001b[0m \u001b[0;32mNone\u001b[0m\u001b[0;34m:\u001b[0m\u001b[0;34m\u001b[0m\u001b[0;34m\u001b[0m\u001b[0m\n",
      "\u001b[0;31mAttributeError\u001b[0m: 'DataFrame' object has no attribute 'dtype'"
     ]
    }
   ],
   "source": [
    "categorical_cols = [cname for cname in train_frame_fin.columns if \n",
    "train_frame_fin[cname].dtype == 'object']\n",
    "\n",
    "# Select numerical columns\n",
    "numerical_cols = [cname for cname in train_frame_fin.columns if\n",
    "                  train_frame_fin[cname].dtype in ['float64', 'int64']]"
   ]
  },
  {
   "cell_type": "code",
   "execution_count": 212,
   "metadata": {},
   "outputs": [
    {
     "output_type": "execute_result",
     "data": {
      "text/plain": [
       "         0           1           2           3           4           5      \\\n",
       "0     4.000000    2.000000    4.000000    2.000000    3.000000    5.000000   \n",
       "1     1.500000    1.000000    1.000000    1.000000    1.000000    1.000000   \n",
       "2     3.000000    1.000000    2.000000    1.000000    1.000000    2.000000   \n",
       "3     4.000000    4.000000    4.000000    4.000000    4.000000    4.000000   \n",
       "4     2.000000    1.000000    0.000000    1.000000    1.000000    3.000000   \n",
       "6     3.000000    4.000000    4.000000    5.000000    4.000000    4.000000   \n",
       "11   34.109039   40.812897   40.737643   37.759935   40.683363   40.714336   \n",
       "12 -118.273390  -73.919163  -73.953309 -122.420558  -73.949490  -73.960847   \n",
       "14   12.000000    6.000000    4.000000    0.000000   16.000000    4.000000   \n",
       "15   17.000000    0.000000    0.000000    0.000000    0.000000    0.000000   \n",
       "16   97.000000   87.000000   80.000000  100.000000   99.000000  100.000000   \n",
       "19   15.000000   16.000000    9.000000    1.000000   15.000000    8.000000   \n",
       "20  276.000000  279.000000  145.000000    2.000000  264.000000  166.000000   \n",
       "\n",
       "         6           7           8           9      ...       59278  \\\n",
       "0     2.000000    1.000000    3.000000    2.000000  ...    2.000000   \n",
       "1     1.000000    1.000000    1.000000    1.000000  ...    1.500000   \n",
       "2     1.000000    1.000000    1.000000    1.000000  ...    1.000000   \n",
       "3     4.000000    4.000000    4.000000    4.000000  ...    4.000000   \n",
       "4     1.000000    1.000000    1.000000    1.000000  ...    1.000000   \n",
       "6     4.000000    4.000000    0.000000    4.000000  ...    3.000000   \n",
       "11   40.756672   40.772482   42.376112   40.712308  ...   34.105658   \n",
       "12  -73.964642  -73.981084  -71.050181  -73.992568  ... -118.196030   \n",
       "14  113.000000    3.000000   32.000000   51.000000  ...    2.000000   \n",
       "15    0.000000    0.000000   11.000000    0.000000  ...   17.000000   \n",
       "16   96.000000  100.000000   92.000000   95.000000  ...  100.000000   \n",
       "19   12.000000   13.000000   13.000000   15.000000  ...   23.000000   \n",
       "20  248.000000  309.000000  252.000000  321.000000  ...  322.000000   \n",
       "\n",
       "         59279       59280       59281       59282       59283       59284  \\\n",
       "0     2.000000    2.000000    2.000000    8.000000    2.000000    1.000000   \n",
       "1     1.000000    1.000000    1.000000    2.000000    1.500000    1.000000   \n",
       "2     1.000000    1.000000    1.000000    4.000000    1.000000    1.000000   \n",
       "3     4.000000    4.000000    4.000000    4.000000    4.000000    4.000000   \n",
       "4     1.000000    0.000000    1.000000    3.000000    1.000000    1.000000   \n",
       "6     4.000000    3.000000    1.000000    3.000000    3.000000    3.000000   \n",
       "11   40.763709   34.076331   41.974979   33.340521   34.094867   34.150509   \n",
       "12  -73.985033 -118.256077  -87.665630 -118.326444 -118.292013 -118.787469   \n",
       "14   41.000000   97.000000    3.000000    3.000000    1.000000    2.000000   \n",
       "15    0.000000    0.000000   11.000000   17.000000    0.000000   17.000000   \n",
       "16   93.000000   94.000000  100.000000   93.000000  100.000000   90.000000   \n",
       "19   19.000000   17.000000   11.000000   13.000000   14.000000   15.000000   \n",
       "20  357.000000  356.000000  238.000000  265.000000  249.000000  227.000000   \n",
       "\n",
       "         59285       59286       59287  \n",
       "0     5.000000    2.000000    2.000000  \n",
       "1     2.000000    1.000000    1.000000  \n",
       "2     2.000000    1.000000    1.000000  \n",
       "3     4.000000    4.000000    4.000000  \n",
       "4     2.000000    1.000000    1.000000  \n",
       "6     3.000000    4.000000    3.000000  \n",
       "11   34.087073   40.771579   34.065592  \n",
       "12 -118.336914  -73.957856 -118.252486  \n",
       "14   20.000000    0.000000    3.000000  \n",
       "15   17.000000    0.000000    0.000000  \n",
       "16   91.000000  100.000000  100.000000  \n",
       "19   16.000000   16.000000   27.000000  \n",
       "20  249.000000  292.000000  440.000000  \n",
       "\n",
       "[13 rows x 59288 columns]"
      ],
      "text/html": "<div>\n<style scoped>\n    .dataframe tbody tr th:only-of-type {\n        vertical-align: middle;\n    }\n\n    .dataframe tbody tr th {\n        vertical-align: top;\n    }\n\n    .dataframe thead th {\n        text-align: right;\n    }\n</style>\n<table border=\"1\" class=\"dataframe\">\n  <thead>\n    <tr style=\"text-align: right;\">\n      <th></th>\n      <th>0</th>\n      <th>1</th>\n      <th>2</th>\n      <th>3</th>\n      <th>4</th>\n      <th>5</th>\n      <th>6</th>\n      <th>7</th>\n      <th>8</th>\n      <th>9</th>\n      <th>...</th>\n      <th>59278</th>\n      <th>59279</th>\n      <th>59280</th>\n      <th>59281</th>\n      <th>59282</th>\n      <th>59283</th>\n      <th>59284</th>\n      <th>59285</th>\n      <th>59286</th>\n      <th>59287</th>\n    </tr>\n  </thead>\n  <tbody>\n    <tr>\n      <th>0</th>\n      <td>4.000000</td>\n      <td>2.000000</td>\n      <td>4.000000</td>\n      <td>2.000000</td>\n      <td>3.000000</td>\n      <td>5.000000</td>\n      <td>2.000000</td>\n      <td>1.000000</td>\n      <td>3.000000</td>\n      <td>2.000000</td>\n      <td>...</td>\n      <td>2.000000</td>\n      <td>2.000000</td>\n      <td>2.000000</td>\n      <td>2.000000</td>\n      <td>8.000000</td>\n      <td>2.000000</td>\n      <td>1.000000</td>\n      <td>5.000000</td>\n      <td>2.000000</td>\n      <td>2.000000</td>\n    </tr>\n    <tr>\n      <th>1</th>\n      <td>1.500000</td>\n      <td>1.000000</td>\n      <td>1.000000</td>\n      <td>1.000000</td>\n      <td>1.000000</td>\n      <td>1.000000</td>\n      <td>1.000000</td>\n      <td>1.000000</td>\n      <td>1.000000</td>\n      <td>1.000000</td>\n      <td>...</td>\n      <td>1.500000</td>\n      <td>1.000000</td>\n      <td>1.000000</td>\n      <td>1.000000</td>\n      <td>2.000000</td>\n      <td>1.500000</td>\n      <td>1.000000</td>\n      <td>2.000000</td>\n      <td>1.000000</td>\n      <td>1.000000</td>\n    </tr>\n    <tr>\n      <th>2</th>\n      <td>3.000000</td>\n      <td>1.000000</td>\n      <td>2.000000</td>\n      <td>1.000000</td>\n      <td>1.000000</td>\n      <td>2.000000</td>\n      <td>1.000000</td>\n      <td>1.000000</td>\n      <td>1.000000</td>\n      <td>1.000000</td>\n      <td>...</td>\n      <td>1.000000</td>\n      <td>1.000000</td>\n      <td>1.000000</td>\n      <td>1.000000</td>\n      <td>4.000000</td>\n      <td>1.000000</td>\n      <td>1.000000</td>\n      <td>2.000000</td>\n      <td>1.000000</td>\n      <td>1.000000</td>\n    </tr>\n    <tr>\n      <th>3</th>\n      <td>4.000000</td>\n      <td>4.000000</td>\n      <td>4.000000</td>\n      <td>4.000000</td>\n      <td>4.000000</td>\n      <td>4.000000</td>\n      <td>4.000000</td>\n      <td>4.000000</td>\n      <td>4.000000</td>\n      <td>4.000000</td>\n      <td>...</td>\n      <td>4.000000</td>\n      <td>4.000000</td>\n      <td>4.000000</td>\n      <td>4.000000</td>\n      <td>4.000000</td>\n      <td>4.000000</td>\n      <td>4.000000</td>\n      <td>4.000000</td>\n      <td>4.000000</td>\n      <td>4.000000</td>\n    </tr>\n    <tr>\n      <th>4</th>\n      <td>2.000000</td>\n      <td>1.000000</td>\n      <td>0.000000</td>\n      <td>1.000000</td>\n      <td>1.000000</td>\n      <td>3.000000</td>\n      <td>1.000000</td>\n      <td>1.000000</td>\n      <td>1.000000</td>\n      <td>1.000000</td>\n      <td>...</td>\n      <td>1.000000</td>\n      <td>1.000000</td>\n      <td>0.000000</td>\n      <td>1.000000</td>\n      <td>3.000000</td>\n      <td>1.000000</td>\n      <td>1.000000</td>\n      <td>2.000000</td>\n      <td>1.000000</td>\n      <td>1.000000</td>\n    </tr>\n    <tr>\n      <th>6</th>\n      <td>3.000000</td>\n      <td>4.000000</td>\n      <td>4.000000</td>\n      <td>5.000000</td>\n      <td>4.000000</td>\n      <td>4.000000</td>\n      <td>4.000000</td>\n      <td>4.000000</td>\n      <td>0.000000</td>\n      <td>4.000000</td>\n      <td>...</td>\n      <td>3.000000</td>\n      <td>4.000000</td>\n      <td>3.000000</td>\n      <td>1.000000</td>\n      <td>3.000000</td>\n      <td>3.000000</td>\n      <td>3.000000</td>\n      <td>3.000000</td>\n      <td>4.000000</td>\n      <td>3.000000</td>\n    </tr>\n    <tr>\n      <th>11</th>\n      <td>34.109039</td>\n      <td>40.812897</td>\n      <td>40.737643</td>\n      <td>37.759935</td>\n      <td>40.683363</td>\n      <td>40.714336</td>\n      <td>40.756672</td>\n      <td>40.772482</td>\n      <td>42.376112</td>\n      <td>40.712308</td>\n      <td>...</td>\n      <td>34.105658</td>\n      <td>40.763709</td>\n      <td>34.076331</td>\n      <td>41.974979</td>\n      <td>33.340521</td>\n      <td>34.094867</td>\n      <td>34.150509</td>\n      <td>34.087073</td>\n      <td>40.771579</td>\n      <td>34.065592</td>\n    </tr>\n    <tr>\n      <th>12</th>\n      <td>-118.273390</td>\n      <td>-73.919163</td>\n      <td>-73.953309</td>\n      <td>-122.420558</td>\n      <td>-73.949490</td>\n      <td>-73.960847</td>\n      <td>-73.964642</td>\n      <td>-73.981084</td>\n      <td>-71.050181</td>\n      <td>-73.992568</td>\n      <td>...</td>\n      <td>-118.196030</td>\n      <td>-73.985033</td>\n      <td>-118.256077</td>\n      <td>-87.665630</td>\n      <td>-118.326444</td>\n      <td>-118.292013</td>\n      <td>-118.787469</td>\n      <td>-118.336914</td>\n      <td>-73.957856</td>\n      <td>-118.252486</td>\n    </tr>\n    <tr>\n      <th>14</th>\n      <td>12.000000</td>\n      <td>6.000000</td>\n      <td>4.000000</td>\n      <td>0.000000</td>\n      <td>16.000000</td>\n      <td>4.000000</td>\n      <td>113.000000</td>\n      <td>3.000000</td>\n      <td>32.000000</td>\n      <td>51.000000</td>\n      <td>...</td>\n      <td>2.000000</td>\n      <td>41.000000</td>\n      <td>97.000000</td>\n      <td>3.000000</td>\n      <td>3.000000</td>\n      <td>1.000000</td>\n      <td>2.000000</td>\n      <td>20.000000</td>\n      <td>0.000000</td>\n      <td>3.000000</td>\n    </tr>\n    <tr>\n      <th>15</th>\n      <td>17.000000</td>\n      <td>0.000000</td>\n      <td>0.000000</td>\n      <td>0.000000</td>\n      <td>0.000000</td>\n      <td>0.000000</td>\n      <td>0.000000</td>\n      <td>0.000000</td>\n      <td>11.000000</td>\n      <td>0.000000</td>\n      <td>...</td>\n      <td>17.000000</td>\n      <td>0.000000</td>\n      <td>0.000000</td>\n      <td>11.000000</td>\n      <td>17.000000</td>\n      <td>0.000000</td>\n      <td>17.000000</td>\n      <td>17.000000</td>\n      <td>0.000000</td>\n      <td>0.000000</td>\n    </tr>\n    <tr>\n      <th>16</th>\n      <td>97.000000</td>\n      <td>87.000000</td>\n      <td>80.000000</td>\n      <td>100.000000</td>\n      <td>99.000000</td>\n      <td>100.000000</td>\n      <td>96.000000</td>\n      <td>100.000000</td>\n      <td>92.000000</td>\n      <td>95.000000</td>\n      <td>...</td>\n      <td>100.000000</td>\n      <td>93.000000</td>\n      <td>94.000000</td>\n      <td>100.000000</td>\n      <td>93.000000</td>\n      <td>100.000000</td>\n      <td>90.000000</td>\n      <td>91.000000</td>\n      <td>100.000000</td>\n      <td>100.000000</td>\n    </tr>\n    <tr>\n      <th>19</th>\n      <td>15.000000</td>\n      <td>16.000000</td>\n      <td>9.000000</td>\n      <td>1.000000</td>\n      <td>15.000000</td>\n      <td>8.000000</td>\n      <td>12.000000</td>\n      <td>13.000000</td>\n      <td>13.000000</td>\n      <td>15.000000</td>\n      <td>...</td>\n      <td>23.000000</td>\n      <td>19.000000</td>\n      <td>17.000000</td>\n      <td>11.000000</td>\n      <td>13.000000</td>\n      <td>14.000000</td>\n      <td>15.000000</td>\n      <td>16.000000</td>\n      <td>16.000000</td>\n      <td>27.000000</td>\n    </tr>\n    <tr>\n      <th>20</th>\n      <td>276.000000</td>\n      <td>279.000000</td>\n      <td>145.000000</td>\n      <td>2.000000</td>\n      <td>264.000000</td>\n      <td>166.000000</td>\n      <td>248.000000</td>\n      <td>309.000000</td>\n      <td>252.000000</td>\n      <td>321.000000</td>\n      <td>...</td>\n      <td>322.000000</td>\n      <td>357.000000</td>\n      <td>356.000000</td>\n      <td>238.000000</td>\n      <td>265.000000</td>\n      <td>249.000000</td>\n      <td>227.000000</td>\n      <td>249.000000</td>\n      <td>292.000000</td>\n      <td>440.000000</td>\n    </tr>\n  </tbody>\n</table>\n<p>13 rows × 59288 columns</p>\n</div>"
     },
     "metadata": {},
     "execution_count": 212
    }
   ],
   "source": [
    "train_num_frame"
   ]
  },
  {
   "cell_type": "code",
   "execution_count": null,
   "metadata": {},
   "outputs": [],
   "source": [
    "\n",
    "numerical_transformer = SimpleImputer(strategy='most_frequent')\n",
    "\n",
    "# Preprocessing for categorical data\n",
    "categorical_transformer = Pipeline(steps=[\n",
    "    ('imputer', SimpleImputer(strategy='most_frequent')),\n",
    "    ('onehot', OneHotEncoder(handle_unknown='ignore'))\n",
    "])\n",
    "\n",
    "# Bundle preprocessing for numerical and categorical data\n",
    "preprocessor = ColumnTransformer(\n",
    "    transformers=[\n",
    "        ('num', numerical_transformer, numerical_cols),\n",
    "        ('cat', categorical_transformer, categorical_cols)\n",
    "    ])"
   ]
  },
  {
   "cell_type": "code",
   "execution_count": null,
   "metadata": {},
   "outputs": [],
   "source": [
    "# from sklearn.model_selection import train_test_split\n",
    "# X_train_full, X_valid_full, y_train, y_valid = \n",
    "# train_test_split(X_full, y, train_size=0.8, test_size=0.2, random_state=0)"
   ]
  },
  {
   "cell_type": "code",
   "execution_count": 122,
   "metadata": {},
   "outputs": [],
   "source": [
    "from sklearn.model_selection import cross_val_score\n",
    "from sklearn.model_selection import RandomizedSearchCV\n",
    "from sklearn.ensemble import RandomForestRegressor\n",
    "from scipy.stats import randint as sp_randint\n"
   ]
  },
  {
   "cell_type": "code",
   "execution_count": null,
   "metadata": {},
   "outputs": [],
   "source": [
    "# my_reg = RandomForestRegressor()\n",
    "# scores = -1 * cross_val_score(my_reg, \n",
    "#     X_train_new, y,\n",
    "#     cv=5, n_jobs = -1,\n",
    "#     scoring='neg_root_mean_squared_error')\n",
    "\n",
    "# print(\"MAE scores:\\n\", scores)\n",
    "# print(\"Average MAE score (across experiments):\")\n",
    "# print(scores.mean())"
   ]
  },
  {
   "cell_type": "code",
   "execution_count": null,
   "metadata": {},
   "outputs": [],
   "source": [
    "hp = {\"max_depth\": [14, 11, 9],\n",
    "              \"min_samples_split\": sp_randint(2, 11)\n",
    "            #   \"criterion\": [\"gini\", \"entropy\"],\n",
    "            #   \"bootstrap\": [True, False]\n",
    "              }\n",
    "\n",
    "# run randomized search\n",
    "n_iter_search = 10\n",
    "random_search = RandomizedSearchCV(my_reg, param_distributions=hp,\n",
    "                                   n_iter=n_iter_search, cv=5)\n",
    "\n"
   ]
  },
  {
   "cell_type": "code",
   "execution_count": null,
   "metadata": {},
   "outputs": [],
   "source": [
    " \n",
    "#% Initial Models\n",
    "# from sklearn.ensemble import RandomForestRegressor\n",
    "# import lightgbm as lgb\n",
    "\n",
    "RFReg = RandomForestRegressor(n_estimators = 10, criterion = \"mse\", max_depth = 10, n_jobs = -1, random_state = 0).fit(X_train_new, y)\n",
    "\n"
   ]
  },
  {
   "cell_type": "code",
   "execution_count": null,
   "metadata": {},
   "outputs": [],
   "source": []
  },
  {
   "source": [
    "test data"
   ],
   "cell_type": "markdown",
   "metadata": {}
  },
  {
   "cell_type": "code",
   "execution_count": null,
   "metadata": {},
   "outputs": [],
   "source": [
    "X_test_full['new'] = 1\n",
    "for i in range(0, len(X_test_full)):\n",
    "    X_test_full.loc[i,'new'] = len((X_test_full.便利设施[i]).split())"
   ]
  },
  {
   "cell_type": "code",
   "execution_count": null,
   "metadata": {},
   "outputs": [],
   "source": [
    "X_test_full['new_len'] = 1\n",
    "for i in range(0, len(X_test_full)):\n",
    "    X_test_full.loc[i,'new_len'] = len((X_test_full.便利设施[i]))"
   ]
  },
  {
   "cell_type": "code",
   "execution_count": null,
   "metadata": {},
   "outputs": [],
   "source": [
    "X_test_full = X_test_full.drop('数据ID', axis = 1)"
   ]
  },
  {
   "cell_type": "code",
   "execution_count": null,
   "metadata": {},
   "outputs": [],
   "source": [
    "categorical_cols = [cname for cname in X_test_full.columns if \n",
    "X_test_full[cname].dtype == 'object']\n",
    "\n",
    "# Select numerical columns\n",
    "numerical_cols = [cname for cname in X_test_full.columns if\n",
    "                  X_test_full[cname].dtype in ['float64', 'int64']]"
   ]
  },
  {
   "cell_type": "code",
   "execution_count": null,
   "metadata": {},
   "outputs": [],
   "source": [
    "# y = X_test_full['价格']\n",
    "# X_test_full.pop('价格')"
   ]
  },
  {
   "cell_type": "code",
   "execution_count": null,
   "metadata": {},
   "outputs": [],
   "source": [
    "X_test_new = preprocessor.transform(X_test_full)"
   ]
  },
  {
   "cell_type": "code",
   "execution_count": null,
   "metadata": {},
   "outputs": [],
   "source": [
    "predicted_ = RFReg.predict(X_test_new)"
   ]
  },
  {
   "cell_type": "code",
   "execution_count": null,
   "metadata": {},
   "outputs": [],
   "source": [
    "X_test_new"
   ]
  },
  {
   "cell_type": "code",
   "execution_count": null,
   "metadata": {},
   "outputs": [],
   "source": []
  }
 ]
}