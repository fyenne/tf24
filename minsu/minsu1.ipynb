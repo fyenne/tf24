{
 "metadata": {
  "language_info": {
   "codemirror_mode": {
    "name": "ipython",
    "version": 3
   },
   "file_extension": ".py",
   "mimetype": "text/x-python",
   "name": "python",
   "nbconvert_exporter": "python",
   "pygments_lexer": "ipython3",
   "version": "3.8.6"
  },
  "orig_nbformat": 2,
  "kernelspec": {
   "name": "python386jvsc74a57bd0ce909994499a62a89f8945d91d57c51a920a5cb8f3e61b9dc99d2a0ea5862498",
   "display_name": "Python 3.8.6 64-bit (conda)"
  },
  "metadata": {
   "interpreter": {
    "hash": "ce909994499a62a89f8945d91d57c51a920a5cb8f3e61b9dc99d2a0ea5862498"
   }
  }
 },
 "nbformat": 4,
 "nbformat_minor": 2,
 "cells": [
  {
   "cell_type": "code",
   "execution_count": 1,
   "metadata": {},
   "outputs": [],
   "source": [
    "import numpy as np # linear algebra\n",
    "import pandas as pd # data processing, CSV file I/O (e.g. pd.read_csv)\n",
    "import os\n",
    "import numpy as np\n",
    "import matplotlib.pyplot as plt\n",
    "import matplotlib.mlab as mlab\n",
    "import matplotlib as mpl\n",
    "from scipy.stats import norm\n",
    "\n",
    "# 中文乱码的处理\n",
    "plt.rcParams['font.sans-serif'] = ['Microsoft YaHei']# 设置微软雅黑字体\n",
    "plt.rcParams['axes.unicode_minus'] = False # 避免坐标轴不能正常的显示负号"
   ]
  },
  {
   "cell_type": "code",
   "execution_count": 2,
   "metadata": {},
   "outputs": [
    {
     "output_type": "stream",
     "name": "stdout",
     "text": [
      "(59288, 26) (14823, 25)\n"
     ]
    }
   ],
   "source": [
    "import pandas as pd\n",
    "from sklearn.model_selection import train_test_split\n",
    "# from xgboost import XGBRegressor\n",
    "\n",
    "# Road the data\n",
    "X_full = pd.read_csv('./data/train.csv')\n",
    "X_test_full = pd.read_csv('./data/test.csv')\n",
    "sub = pd.read_csv('./data/sub.csv')\n",
    "print(X_full.shape, X_test_full.shape)\n",
    "#$$\n"
   ]
  },
  {
   "cell_type": "code",
   "execution_count": 3,
   "metadata": {},
   "outputs": [
    {
     "output_type": "execute_result",
     "data": {
      "text/plain": [
       "Index(['数据ID', '容纳人数', '便利设施', '洗手间数量', '床的数量', '床的类型', '卧室数量', '取消条款', '所在城市',\n",
       "       '清洁费', '首次评论日期', '房主是否有个人资料图片', '房主身份是否验证', '房主回复率', '何时成为房主',\n",
       "       '是否支持随即预订', '最近评论日期', '维度', '经度', '民宿周边', '评论个数', '房产类型', '民宿评分', '房型',\n",
       "       '邮编', '价格'],\n",
       "      dtype='object')"
      ]
     },
     "metadata": {},
     "execution_count": 3
    }
   ],
   "source": [
    "# X_full.head();\n",
    "X_full.columns"
   ]
  },
  {
   "cell_type": "code",
   "execution_count": 4,
   "metadata": {},
   "outputs": [],
   "source": [
    "import re\n",
    "words = [re.findall(\"\\w+\",  str) for str in X_full.便利设施]"
   ]
  },
  {
   "cell_type": "code",
   "execution_count": 5,
   "metadata": {},
   "outputs": [],
   "source": [
    "#"
   ]
  },
  {
   "source": [
    "add new col, count for bianlisheshi\n"
   ],
   "cell_type": "markdown",
   "metadata": {}
  },
  {
   "cell_type": "code",
   "execution_count": 6,
   "metadata": {},
   "outputs": [],
   "source": [
    "X_full['new'] = 1\n",
    "for i in range(0, len(X_full)):\n",
    "    X_full.loc[i,'new'] = len((X_full.便利设施[i]).split())"
   ]
  },
  {
   "cell_type": "code",
   "execution_count": 7,
   "metadata": {},
   "outputs": [],
   "source": [
    "X_full['new_len'] = 1\n",
    "for i in range(0, len(X_full)):\n",
    "    X_full.loc[i,'new_len'] = len((X_full.便利设施[i]))"
   ]
  },
  {
   "cell_type": "code",
   "execution_count": 8,
   "metadata": {},
   "outputs": [],
   "source": [
    "#"
   ]
  },
  {
   "source": [
    "check na"
   ],
   "cell_type": "markdown",
   "metadata": {}
  },
  {
   "cell_type": "code",
   "execution_count": 9,
   "metadata": {},
   "outputs": [],
   "source": [
    "# na_index = [X_full[col].isnull().values.sum() for col in X_full.columns]\n",
    "# na_key = X_full.columns\n",
    "# na_frame = pd.DataFrame(na_index, na_key)"
   ]
  },
  {
   "source": [
    "Cat and Num split\n"
   ],
   "cell_type": "markdown",
   "metadata": {}
  },
  {
   "cell_type": "code",
   "execution_count": null,
   "metadata": {},
   "outputs": [],
   "source": []
  },
  {
   "cell_type": "code",
   "execution_count": 10,
   "metadata": {},
   "outputs": [],
   "source": [
    "X_full = X_full.drop('数据ID', axis = 1)"
   ]
  },
  {
   "cell_type": "code",
   "execution_count": 11,
   "metadata": {},
   "outputs": [],
   "source": [
    "categorical_cols = [cname for cname in X_full.columns if \n",
    "X_full[cname].dtype == 'object']\n",
    "\n",
    "# Select numerical columns\n",
    "numerical_cols = [cname for cname in X_full.columns if\n",
    "                  X_full[cname].dtype in ['float64', 'int64']]"
   ]
  },
  {
   "cell_type": "code",
   "execution_count": 12,
   "metadata": {},
   "outputs": [
    {
     "output_type": "execute_result",
     "data": {
      "text/plain": [
       "['便利设施',\n",
       " '首次评论日期',\n",
       " '房主是否有个人资料图片',\n",
       " '房主身份是否验证',\n",
       " '房主回复率',\n",
       " '何时成为房主',\n",
       " '最近评论日期',\n",
       " '民宿周边',\n",
       " '邮编']"
      ]
     },
     "metadata": {},
     "execution_count": 12
    }
   ],
   "source": [
    "categorical_cols"
   ]
  },
  {
   "cell_type": "code",
   "execution_count": 42,
   "metadata": {},
   "outputs": [],
   "source": [
    "X_full['首次评论日期'] = X_full['首次评论日期'].astype(str)\n",
    "X_full['何时成为房主'] = X_full['何时成为房主'].astype(str)\n",
    "X_full['最近评论日期'] = X_full['最近评论日期'].astype(str)"
   ]
  },
  {
   "cell_type": "code",
   "execution_count": 22,
   "metadata": {},
   "outputs": [],
   "source": [
    "# \n",
    "X_full['首次评论日期'] = [re.findall(\"^\\d{4}\\-\\d{2}\", str) for str in X_full.首次评论日期]\n",
    "X_full['何时成为房主'] = [re.findall(\"^\\d{4}\\-\\d{2}\", str) for str in X_full.何时成为房主]\n",
    "X_full['最近评论日期'] = [re.findall(\"^\\d{4}\\-\\d{2}\", str) for str in X_full.最近评论日期]"
   ]
  },
  {
   "cell_type": "code",
   "execution_count": 56,
   "metadata": {},
   "outputs": [],
   "source": [
    "X_full['首次评论日期_new'] = [i.strip(\"['']\") for i in X_full.首次评论日期.to_list()]\n",
    "X_full['何时成为房主_new'] = [i.strip(\"['']\") for i in X_full.何时成为房主.to_list()]\n",
    "X_full['最近评论日期_new'] = [i.strip(\"['']\") for i in X_full.最近评论日期.to_list()]"
   ]
  },
  {
   "cell_type": "code",
   "execution_count": 95,
   "metadata": {},
   "outputs": [],
   "source": [
    "# [isna(i) for i in X_full.房主回复率]\n",
    "X_full['房主回复率_new'] = X_full.房主回复率.isnull()"
   ]
  },
  {
   "cell_type": "code",
   "execution_count": 96,
   "metadata": {},
   "outputs": [
    {
     "output_type": "execute_result",
     "data": {
      "text/plain": [
       "0         True\n",
       "1         True\n",
       "2        False\n",
       "3         True\n",
       "4        False\n",
       "         ...  \n",
       "59283    False\n",
       "59284    False\n",
       "59285    False\n",
       "59286    False\n",
       "59287    False\n",
       "Name: 房主回复率_new, Length: 59288, dtype: bool"
      ]
     },
     "metadata": {},
     "execution_count": 96
    }
   ],
   "source": [
    "X_full['房主回复率_new']"
   ]
  },
  {
   "source": [
    " ---"
   ],
   "cell_type": "markdown",
   "metadata": {}
  },
  {
   "cell_type": "code",
   "execution_count": 13,
   "metadata": {},
   "outputs": [],
   "source": [
    "# X_full.首次评论日期 = [str(i) for i in X_full.首次评论日期]\n",
    "# X_full.首次评论日期 = (re.findall(\"^\\d{4}\\-\\d{2}\", str) for str in X_full.首次评论日期)\n"
   ]
  },
  {
   "cell_type": "code",
   "execution_count": 36,
   "metadata": {},
   "outputs": [],
   "source": [
    "# test_df['Season'] = test_df['ID'].map(lambda x: int(x[:4]))"
   ]
  },
  {
   "cell_type": "code",
   "execution_count": 38,
   "metadata": {},
   "outputs": [],
   "source": [
    "# X_full['bnenwne'] = X_full['new'].map(lambda x: str(x)[:1])"
   ]
  },
  {
   "source": [
    "#--------------------------------------------\n",
    "drop"
   ],
   "cell_type": "markdown",
   "metadata": {}
  },
  {
   "cell_type": "code",
   "execution_count": null,
   "metadata": {},
   "outputs": [],
   "source": [
    "X_full.drop(['便利设施', '最近评论日期', '何时成为房主', '首次评论日期', '房主回复率_new'])"
   ]
  },
  {
   "cell_type": "code",
   "execution_count": null,
   "metadata": {},
   "outputs": [],
   "source": [
    "from sklearn.preprocessing import StandardScaler, OneHotEncoder\n",
    "from sklearn.impute import SimpleImputer\n",
    "from sklearn.compose import make_column_transformer\n",
    "from sklearn.compose import ColumnTransformer\n",
    "from sklearn.pipeline import Pipeline"
   ]
  },
  {
   "cell_type": "code",
   "execution_count": null,
   "metadata": {},
   "outputs": [],
   "source": [
    "y = X_full['价格']\n",
    "X_full.pop('价格')"
   ]
  },
  {
   "cell_type": "code",
   "execution_count": null,
   "metadata": {},
   "outputs": [],
   "source": [
    "numerical_transformer = SimpleImputer(strategy='most_frequent')\n",
    "\n",
    "# Preprocessing for categorical data\n",
    "categorical_transformer = Pipeline(steps=[\n",
    "    ('imputer', SimpleImputer(strategy='most_frequent')),\n",
    "    ('onehot', OneHotEncoder(handle_unknown='ignore'))\n",
    "])\n",
    "\n",
    "# Bundle preprocessing for numerical and categorical data\n",
    "preprocessor = ColumnTransformer(\n",
    "    transformers=[\n",
    "        ('num', numerical_transformer, numerical_cols),\n",
    "        ('cat', categorical_transformer, categorical_cols)\n",
    "    ])"
   ]
  },
  {
   "cell_type": "code",
   "execution_count": null,
   "metadata": {},
   "outputs": [],
   "source": [
    "X_train_new = preprocessor.fit_transform(X_full)"
   ]
  },
  {
   "cell_type": "code",
   "execution_count": null,
   "metadata": {},
   "outputs": [],
   "source": [
    "X_train_new"
   ]
  },
  {
   "cell_type": "code",
   "execution_count": null,
   "metadata": {},
   "outputs": [],
   "source": [
    "# X_full.columns"
   ]
  },
  {
   "source": [
    "cat one hot"
   ],
   "cell_type": "markdown",
   "metadata": {}
  },
  {
   "cell_type": "code",
   "execution_count": null,
   "metadata": {},
   "outputs": [],
   "source": [
    "# from sklearn.model_selection import train_test_split"
   ]
  },
  {
   "cell_type": "code",
   "execution_count": null,
   "metadata": {},
   "outputs": [],
   "source": [
    "# X_train_full, X_valid_full, y_train, y_valid = \n",
    "# train_test_split(X_full, y, train_size=0.8, test_size=0.2, random_state=0)"
   ]
  },
  {
   "cell_type": "code",
   "execution_count": null,
   "metadata": {},
   "outputs": [],
   "source": [
    "from sklearn.model_selection import cross_val_score\n",
    "from sklearn.model_selection import RandomizedSearchCV\n",
    "from sklearn.ensemble import RandomForestRegressor\n",
    "from scipy.stats import randint as sp_randint\n"
   ]
  },
  {
   "cell_type": "code",
   "execution_count": null,
   "metadata": {},
   "outputs": [],
   "source": [
    "my_reg = RandomForestRegressor()\n",
    "scores = -1 * cross_val_score(my_reg, \n",
    "    X_train_new, y,\n",
    "    cv=5, n_jobs = -1,\n",
    "    scoring='neg_root_mean_squared_error')\n",
    "\n",
    "print(\"MAE scores:\\n\", scores)\n",
    "print(\"Average MAE score (across experiments):\")\n",
    "print(scores.mean())"
   ]
  },
  {
   "cell_type": "code",
   "execution_count": null,
   "metadata": {},
   "outputs": [],
   "source": [
    "hp = {\"max_depth\": [14, 11, 9],\n",
    "              \"min_samples_split\": sp_randint(2, 11)\n",
    "            #   \"criterion\": [\"gini\", \"entropy\"],\n",
    "            #   \"bootstrap\": [True, False]\n",
    "              }\n",
    "\n",
    "# run randomized search\n",
    "n_iter_search = 10\n",
    "random_search = RandomizedSearchCV(my_reg, param_distributions=hp,\n",
    "                                   n_iter=n_iter_search, cv=5)\n",
    "\n"
   ]
  },
  {
   "cell_type": "code",
   "execution_count": null,
   "metadata": {},
   "outputs": [],
   "source": [
    " \n",
    "#% Initial Models\n",
    "# from sklearn.ensemble import RandomForestRegressor\n",
    "# import lightgbm as lgb\n",
    "\n",
    "RFReg = RandomForestRegressor(n_estimators = 10, criterion = \"mse\", max_depth = 10, n_jobs = -1,random_state = 0).fit(X_train_new, y)\n",
    "\n"
   ]
  },
  {
   "cell_type": "code",
   "execution_count": null,
   "metadata": {},
   "outputs": [],
   "source": []
  },
  {
   "source": [
    "test data"
   ],
   "cell_type": "markdown",
   "metadata": {}
  },
  {
   "cell_type": "code",
   "execution_count": null,
   "metadata": {},
   "outputs": [],
   "source": [
    "X_test_full['new'] = 1\n",
    "for i in range(0, len(X_test_full)):\n",
    "    X_test_full.loc[i,'new'] = len((X_test_full.便利设施[i]).split())"
   ]
  },
  {
   "cell_type": "code",
   "execution_count": null,
   "metadata": {},
   "outputs": [],
   "source": [
    "X_test_full['new_len'] = 1\n",
    "for i in range(0, len(X_test_full)):\n",
    "    X_test_full.loc[i,'new_len'] = len((X_test_full.便利设施[i]))"
   ]
  },
  {
   "cell_type": "code",
   "execution_count": null,
   "metadata": {},
   "outputs": [],
   "source": [
    "X_test_full = X_test_full.drop('数据ID', axis = 1)"
   ]
  },
  {
   "cell_type": "code",
   "execution_count": null,
   "metadata": {},
   "outputs": [],
   "source": [
    "categorical_cols = [cname for cname in X_test_full.columns if \n",
    "X_test_full[cname].dtype == 'object']\n",
    "\n",
    "# Select numerical columns\n",
    "numerical_cols = [cname for cname in X_test_full.columns if\n",
    "                  X_test_full[cname].dtype in ['float64', 'int64']]"
   ]
  },
  {
   "cell_type": "code",
   "execution_count": null,
   "metadata": {},
   "outputs": [],
   "source": [
    "# y = X_test_full['价格']\n",
    "# X_test_full.pop('价格')"
   ]
  },
  {
   "cell_type": "code",
   "execution_count": null,
   "metadata": {},
   "outputs": [],
   "source": [
    "X_test_new = preprocessor.transform(X_test_full)"
   ]
  },
  {
   "cell_type": "code",
   "execution_count": null,
   "metadata": {},
   "outputs": [],
   "source": [
    "predicted_ = RFReg.predict(X_test_new)"
   ]
  },
  {
   "cell_type": "code",
   "execution_count": null,
   "metadata": {},
   "outputs": [],
   "source": [
    "X_test_new"
   ]
  },
  {
   "cell_type": "code",
   "execution_count": null,
   "metadata": {},
   "outputs": [],
   "source": []
  }
 ]
}