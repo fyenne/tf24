{
 "cells": [
  {
   "cell_type": "code",
   "execution_count": 1,
   "metadata": {
    "collapsed": true
   },
   "outputs": [
    {
     "name": "stdout",
     "output_type": "stream",
     "text": [
      "./data/test.csv\n",
      "./data/train.csv\n",
      "./data/sample_submission.csv\n"
     ]
    }
   ],
   "source": [
    "import os\n",
    "for dirname, _, filenames in os.walk('./data'):\n",
    "    for filename in filenames:\n",
    "        print(os.path.join(dirname, filename))"
   ]
  },
  {
   "cell_type": "code",
   "execution_count": 2,
   "outputs": [],
   "source": [
    "import pandas as pd\n",
    "import plotly.express as px\n",
    "import numpy as np"
   ],
   "metadata": {
    "collapsed": false,
    "pycharm": {
     "name": "#%%\n"
    }
   }
  },
  {
   "cell_type": "code",
   "execution_count": 3,
   "outputs": [],
   "source": [
    "import matplotlib.pyplot as plt\n",
    "import seaborn as sns"
   ],
   "metadata": {
    "collapsed": false,
    "pycharm": {
     "name": "#%%\n"
    }
   }
  },
  {
   "cell_type": "code",
   "execution_count": 4,
   "outputs": [],
   "source": [
    "# Plotting\n",
    "#import matplotlib.pyplot as plt\n",
    "\n",
    "# %matplotlib inline"
   ],
   "metadata": {
    "collapsed": false,
    "pycharm": {
     "name": "#%%\n"
    }
   }
  },
  {
   "cell_type": "code",
   "execution_count": 5,
   "outputs": [],
   "source": [
    "test = pd.read_csv(\"./data/test.csv\")\n",
    "train = pd.read_csv(\"./data/train.csv\")\n",
    "sub =  pd.read_csv(\"./data/sample_submission.csv\")"
   ],
   "metadata": {
    "collapsed": false,
    "pycharm": {
     "name": "#%%\n"
    }
   }
  },
  {
   "cell_type": "code",
   "execution_count": 6,
   "outputs": [],
   "source": [
    "rm = test.pop(\"id\")\n",
    "rm = train.pop(\"id\")"
   ],
   "metadata": {
    "collapsed": false,
    "pycharm": {
     "name": "#%%\n"
    }
   }
  },
  {
   "cell_type": "code",
   "execution_count": 7,
   "outputs": [
    {
     "data": {
      "text/plain": "  cat0 cat1 cat2 cat3 cat4 cat5 cat6 cat7 cat8 cat9  ...     cont2     cont3  \\\n0    A    I    A    B    B   BI    A    S    Q    A  ...  0.759439  0.795549   \n1    A    I    A    A    E   BI    K    W   AD    F  ...  0.386385  0.541366   \n2    A    K    A    A    E   BI    A    E   BM    L  ...  0.343255  0.616352   \n3    A    K    A    C    E   BI    A    Y   AD    F  ...  0.831147  0.807807   \n4    A    I    G    B    E   BI    C    G    Q    A  ...  0.338818  0.277308   \n\n      cont4     cont5     cont6     cont7     cont8     cont9    cont10  \\\n0  0.681917  0.621672  0.592184  0.791921  0.815254  0.965006  0.665915   \n1  0.388982  0.357778  0.600044  0.408701  0.399353  0.927406  0.493729   \n2  0.793687  0.552877  0.352113  0.388835  0.412303  0.292696  0.549452   \n3  0.800032  0.619147  0.221789  0.897617  0.633669  0.760318  0.934242   \n4  0.610578  0.128291  0.578764  0.279167  0.351103  0.357084  0.328960   \n\n   target  \n0       0  \n1       0  \n2       0  \n3       0  \n4       1  \n\n[5 rows x 31 columns]",
      "text/html": "<div>\n<style scoped>\n    .dataframe tbody tr th:only-of-type {\n        vertical-align: middle;\n    }\n\n    .dataframe tbody tr th {\n        vertical-align: top;\n    }\n\n    .dataframe thead th {\n        text-align: right;\n    }\n</style>\n<table border=\"1\" class=\"dataframe\">\n  <thead>\n    <tr style=\"text-align: right;\">\n      <th></th>\n      <th>cat0</th>\n      <th>cat1</th>\n      <th>cat2</th>\n      <th>cat3</th>\n      <th>cat4</th>\n      <th>cat5</th>\n      <th>cat6</th>\n      <th>cat7</th>\n      <th>cat8</th>\n      <th>cat9</th>\n      <th>...</th>\n      <th>cont2</th>\n      <th>cont3</th>\n      <th>cont4</th>\n      <th>cont5</th>\n      <th>cont6</th>\n      <th>cont7</th>\n      <th>cont8</th>\n      <th>cont9</th>\n      <th>cont10</th>\n      <th>target</th>\n    </tr>\n  </thead>\n  <tbody>\n    <tr>\n      <th>0</th>\n      <td>A</td>\n      <td>I</td>\n      <td>A</td>\n      <td>B</td>\n      <td>B</td>\n      <td>BI</td>\n      <td>A</td>\n      <td>S</td>\n      <td>Q</td>\n      <td>A</td>\n      <td>...</td>\n      <td>0.759439</td>\n      <td>0.795549</td>\n      <td>0.681917</td>\n      <td>0.621672</td>\n      <td>0.592184</td>\n      <td>0.791921</td>\n      <td>0.815254</td>\n      <td>0.965006</td>\n      <td>0.665915</td>\n      <td>0</td>\n    </tr>\n    <tr>\n      <th>1</th>\n      <td>A</td>\n      <td>I</td>\n      <td>A</td>\n      <td>A</td>\n      <td>E</td>\n      <td>BI</td>\n      <td>K</td>\n      <td>W</td>\n      <td>AD</td>\n      <td>F</td>\n      <td>...</td>\n      <td>0.386385</td>\n      <td>0.541366</td>\n      <td>0.388982</td>\n      <td>0.357778</td>\n      <td>0.600044</td>\n      <td>0.408701</td>\n      <td>0.399353</td>\n      <td>0.927406</td>\n      <td>0.493729</td>\n      <td>0</td>\n    </tr>\n    <tr>\n      <th>2</th>\n      <td>A</td>\n      <td>K</td>\n      <td>A</td>\n      <td>A</td>\n      <td>E</td>\n      <td>BI</td>\n      <td>A</td>\n      <td>E</td>\n      <td>BM</td>\n      <td>L</td>\n      <td>...</td>\n      <td>0.343255</td>\n      <td>0.616352</td>\n      <td>0.793687</td>\n      <td>0.552877</td>\n      <td>0.352113</td>\n      <td>0.388835</td>\n      <td>0.412303</td>\n      <td>0.292696</td>\n      <td>0.549452</td>\n      <td>0</td>\n    </tr>\n    <tr>\n      <th>3</th>\n      <td>A</td>\n      <td>K</td>\n      <td>A</td>\n      <td>C</td>\n      <td>E</td>\n      <td>BI</td>\n      <td>A</td>\n      <td>Y</td>\n      <td>AD</td>\n      <td>F</td>\n      <td>...</td>\n      <td>0.831147</td>\n      <td>0.807807</td>\n      <td>0.800032</td>\n      <td>0.619147</td>\n      <td>0.221789</td>\n      <td>0.897617</td>\n      <td>0.633669</td>\n      <td>0.760318</td>\n      <td>0.934242</td>\n      <td>0</td>\n    </tr>\n    <tr>\n      <th>4</th>\n      <td>A</td>\n      <td>I</td>\n      <td>G</td>\n      <td>B</td>\n      <td>E</td>\n      <td>BI</td>\n      <td>C</td>\n      <td>G</td>\n      <td>Q</td>\n      <td>A</td>\n      <td>...</td>\n      <td>0.338818</td>\n      <td>0.277308</td>\n      <td>0.610578</td>\n      <td>0.128291</td>\n      <td>0.578764</td>\n      <td>0.279167</td>\n      <td>0.351103</td>\n      <td>0.357084</td>\n      <td>0.328960</td>\n      <td>1</td>\n    </tr>\n  </tbody>\n</table>\n<p>5 rows × 31 columns</p>\n</div>"
     },
     "execution_count": 7,
     "metadata": {},
     "output_type": "execute_result"
    }
   ],
   "source": [
    "train.head()"
   ],
   "metadata": {
    "collapsed": false,
    "pycharm": {
     "name": "#%%\n"
    }
   }
  },
  {
   "cell_type": "code",
   "execution_count": 8,
   "outputs": [
    {
     "name": "stdout",
     "output_type": "stream",
     "text": [
      "<class 'pandas.core.frame.DataFrame'>\n",
      "RangeIndex: 300000 entries, 0 to 299999\n",
      "Data columns (total 31 columns):\n",
      " #   Column  Non-Null Count   Dtype  \n",
      "---  ------  --------------   -----  \n",
      " 0   cat0    300000 non-null  object \n",
      " 1   cat1    300000 non-null  object \n",
      " 2   cat2    300000 non-null  object \n",
      " 3   cat3    300000 non-null  object \n",
      " 4   cat4    300000 non-null  object \n",
      " 5   cat5    300000 non-null  object \n",
      " 6   cat6    300000 non-null  object \n",
      " 7   cat7    300000 non-null  object \n",
      " 8   cat8    300000 non-null  object \n",
      " 9   cat9    300000 non-null  object \n",
      " 10  cat10   300000 non-null  object \n",
      " 11  cat11   300000 non-null  object \n",
      " 12  cat12   300000 non-null  object \n",
      " 13  cat13   300000 non-null  object \n",
      " 14  cat14   300000 non-null  object \n",
      " 15  cat15   300000 non-null  object \n",
      " 16  cat16   300000 non-null  object \n",
      " 17  cat17   300000 non-null  object \n",
      " 18  cat18   300000 non-null  object \n",
      " 19  cont0   300000 non-null  float64\n",
      " 20  cont1   300000 non-null  float64\n",
      " 21  cont2   300000 non-null  float64\n",
      " 22  cont3   300000 non-null  float64\n",
      " 23  cont4   300000 non-null  float64\n",
      " 24  cont5   300000 non-null  float64\n",
      " 25  cont6   300000 non-null  float64\n",
      " 26  cont7   300000 non-null  float64\n",
      " 27  cont8   300000 non-null  float64\n",
      " 28  cont9   300000 non-null  float64\n",
      " 29  cont10  300000 non-null  float64\n",
      " 30  target  300000 non-null  int64  \n",
      "dtypes: float64(11), int64(1), object(19)\n",
      "memory usage: 71.0+ MB\n",
      "None\n"
     ]
    }
   ],
   "source": [
    "# no missing\n",
    "# missing_val_count_by_column = (train.isnull().sum())\n",
    "# print(missing_val_count_by_column[missing_val_count_by_column > 0])\n",
    "print(train.info(verbose = True,show_counts=True))"
   ],
   "metadata": {
    "collapsed": false,
    "pycharm": {
     "name": "#%%\n"
    }
   }
  },
  {
   "cell_type": "markdown",
   "source": [
    "##--------------------------------------------"
   ],
   "metadata": {
    "collapsed": false,
    "pycharm": {
     "name": "#%% md\n"
    }
   }
  },
  {
   "cell_type": "code",
   "execution_count": 9,
   "outputs": [],
   "source": [
    "# target = train[\"target\"]\n",
    "cate_name = train.select_dtypes(['object','category']).columns.to_list()\n",
    "cont_name = train.drop(['target'], axis = 1).select_dtypes(['float64','int']).columns.to_list()"
   ],
   "metadata": {
    "collapsed": false,
    "pycharm": {
     "name": "#%%\n"
    }
   }
  },
  {
   "cell_type": "markdown",
   "source": [
    "---\n",
    "\n",
    "## pre modeling data visualization"
   ],
   "metadata": {
    "collapsed": false,
    "pycharm": {
     "name": "#%% md\n"
    }
   }
  },
  {
   "cell_type": "code",
   "execution_count": 10,
   "outputs": [],
   "source": [
    "# visualization!\n",
    "def PlotMultiplePie(df,categorical_features = None,dropna = False):\n",
    "    # set a threshold of 30 unique variables, more than 50 can lead to ugly pie charts\n",
    "    threshold = 30\n",
    "    # if user did not set categorical_features\n",
    "    if categorical_features == None:\n",
    "        categorical_features = df.select_dtypes(['object','category']).columns.to_list()\n",
    "    print(\"The Categorical Features are:\",categorical_features)\n",
    "    # loop through the list of categorical_features\n",
    "    for cat_feature in categorical_features:\n",
    "        num_unique = df[cat_feature].nunique(dropna = dropna)\n",
    "        num_missing = df[cat_feature].isna().sum()\n",
    "        # prints pie chart and info if unique values below threshold\n",
    "        if num_unique <= threshold:\n",
    "            print('Pie Chart for: ', cat_feature)\n",
    "            print('Number of Unique Values: ', num_unique)\n",
    "            print('Number of Missing Values: ', num_missing)\n",
    "            # fig = px.pie(df[cat_feature].value_counts(dropna = dropna), values=cat_feature,\n",
    "            #      names = df[cat_feature].value_counts(dropna = dropna).index,title = cat_feature,template='ggplot2')\n",
    "            # fig.show()\n",
    "        else:\n",
    "            print('Pie Chart for ',cat_feature,' is unavailable due high number of Unique Values ')\n",
    "            print('Number of Unique Values: ', num_unique)\n",
    "            print('Number of Missing Values: ', num_missing)\n",
    "            print('\\n')"
   ],
   "metadata": {
    "collapsed": false,
    "pycharm": {
     "name": "#%%\n"
    }
   }
  },
  {
   "cell_type": "code",
   "execution_count": 14,
   "outputs": [],
   "source": [
    "# PlotMultiplePie(train)"
   ],
   "metadata": {
    "collapsed": false,
    "pycharm": {
     "name": "#%%\n"
    }
   }
  },
  {
   "cell_type": "code",
   "execution_count": 15,
   "outputs": [],
   "source": [
    "# continuous variables:\n",
    "#--------------------------------------------\n",
    "# for cont_feature in cont_name:\n",
    "#     plt.figure()\n",
    "#     plt.title(cont_feature)\n",
    "#     ax = sns.histplot(train[cont_feature])"
   ],
   "metadata": {
    "collapsed": false,
    "pycharm": {
     "name": "#%%\n"
    }
   }
  },
  {
   "cell_type": "code",
   "execution_count": 16,
   "outputs": [],
   "source": [
    "# dependent Variable.\n",
    "\n",
    "# plt.figure()\n",
    "# plt.title(\"target\")\n",
    "# ax = sns.histplot(train[\"target\"])\n",
    "# px.histogram(train[\"target\"])"
   ],
   "metadata": {
    "collapsed": false,
    "pycharm": {
     "name": "#%%\n"
    }
   }
  },
  {
   "cell_type": "code",
   "execution_count": 16,
   "outputs": [],
   "source": [],
   "metadata": {
    "collapsed": false,
    "pycharm": {
     "name": "#%%\n"
    }
   }
  },
  {
   "cell_type": "markdown",
   "source": [
    "---\n",
    "## tensorflow\n"
   ],
   "metadata": {
    "collapsed": false
   }
  },
  {
   "cell_type": "code",
   "execution_count": 11,
   "outputs": [],
   "source": [
    "from sklearn.preprocessing import StandardScaler, OneHotEncoder\n",
    "from sklearn.compose import make_column_transformer, make_column_selector\n",
    "from sklearn.model_selection import train_test_split\n",
    "from sklearn.model_selection import GroupShuffleSplit\n",
    "\n",
    "preprocessor = make_column_transformer(\n",
    "    (StandardScaler(),\n",
    "     make_column_selector(dtype_include = np.number)),\n",
    "    (OneHotEncoder(sparse=False),\n",
    "     make_column_selector(dtype_include = object)),\n",
    ")"
   ],
   "metadata": {
    "collapsed": false,
    "pycharm": {
     "name": "#%%\n"
    }
   }
  },
  {
   "cell_type": "code",
   "execution_count": 12,
   "outputs": [],
   "source": [
    "y = train.pop('target')\n",
    "X = train"
   ],
   "metadata": {
    "collapsed": false,
    "pycharm": {
     "name": "#%%\n"
    }
   }
  },
  {
   "cell_type": "code",
   "execution_count": 13,
   "outputs": [],
   "source": [
    "artists = X['cat10']"
   ],
   "metadata": {
    "collapsed": false,
    "pycharm": {
     "name": "#%%\n"
    }
   }
  },
  {
   "cell_type": "code",
   "execution_count": 11,
   "outputs": [],
   "source": [],
   "metadata": {
    "collapsed": false,
    "pycharm": {
     "name": "#%%\n"
    }
   }
  },
  {
   "cell_type": "code",
   "execution_count": 14,
   "outputs": [],
   "source": [
    "# 2 label encoder\n",
    "from sklearn.preprocessing import LabelEncoder\n",
    "for c in train.columns:\n",
    "    if train[c].dtype == 'object':\n",
    "        lbl = LabelEncoder()\n",
    "        lbl.fit(list(train[c].values) + list(test[c].values))\n",
    "        train[c] = lbl.transform(train[c].values)\n",
    "        test[c] = lbl.transform(test[c].values)"
   ],
   "metadata": {
    "collapsed": false,
    "pycharm": {
     "name": "#%%\n"
    }
   }
  },
  {
   "cell_type": "code",
   "execution_count": 15,
   "outputs": [],
   "source": [
    "#  GroupShuffleSplit\n",
    "def group_split(X, y, group, train_size=0.75):\n",
    "    splitter = GroupShuffleSplit(train_size=train_size)\n",
    "    train, valid = next(splitter.split(X, y, groups=group))\n",
    "    return (X.iloc[train], X.iloc[valid], y.iloc[train], y.iloc[valid])\n",
    "\n",
    "X_train, X_valid, y_train, y_valid = group_split(X, y, artists)"
   ],
   "metadata": {
    "collapsed": false,
    "pycharm": {
     "name": "#%%\n"
    }
   }
  },
  {
   "cell_type": "code",
   "execution_count": 16,
   "outputs": [],
   "source": [
    "# def loo_encode(train_df, test_df, column):\n",
    "#     loo = LeaveOneOutEncoder()\n",
    "#     new_feature = \"{}_loo\".format(column)\n",
    "#     loo.fit(train_df[column], train_df[\"target\"])\n",
    "#     train_df[new_feature] = loo.transform(train_df[column])\n",
    "#     test_df[new_feature] = loo.transform(test_df[column])\n",
    "#     return new_feature\n",
    "input_shape = [X_train.shape[1]]"
   ],
   "metadata": {
    "collapsed": false,
    "pycharm": {
     "name": "#%%\n"
    }
   }
  },
  {
   "cell_type": "code",
   "execution_count": 15,
   "outputs": [],
   "source": [
    "# X_train = preprocessor.fit_transform(X_train)\n",
    "# X_valid = preprocessor.transform(X_valid)"
   ],
   "metadata": {
    "collapsed": false,
    "pycharm": {
     "name": "#%%\n"
    }
   }
  },
  {
   "cell_type": "code",
   "execution_count": 17,
   "outputs": [],
   "source": [
    "from tensorflow import keras\n",
    "from tensorflow.keras import layers\n",
    "from tensorflow.keras.callbacks import EarlyStopping\n",
    "# import kerastuner as kt\n",
    "\n",
    "early_stopping = EarlyStopping(\n",
    "    min_delta=0.0001, # minimium amount of change to count as an improvement\n",
    "    patience=20, # how many epochs to wait before stopping\n",
    "    restore_best_weights=True,\n",
    ")"
   ],
   "metadata": {
    "collapsed": false,
    "pycharm": {
     "name": "#%%\n"
    }
   }
  },
  {
   "cell_type": "code",
   "execution_count": 18,
   "outputs": [],
   "source": [
    "def model_builder(hp):\n",
    "    model = keras.Sequential()\n",
    "  # model.add(keras.layers.Flatten(input_shape=(28, 28)))\n",
    "    layers.Dense(2048, activation='sigmoid', input_shape=input_shape),\n",
    "  # Tune the number of units in the first Dense layer\n",
    "  # Choose an optimal value between 32-512\n",
    "    hp_units  = hp.Int('units', min_value=992, max_value=1024, step=32)\n",
    "    model.add(keras.layers.Dense(units=hp_units, activation='sigmoid'))\n",
    "    model.add(keras.layers.Dropout(0.3)),\n",
    "    model.add(keras.layers.BatchNormalization()),\n",
    "\n",
    "    # hp_units2 = hp.Int('units', min_value=64 , max_value=1024, step=64)\n",
    "    model.add(keras.layers.Dense(units=1024, activation='sigmoid'))\n",
    "    model.add(keras.layers.Dropout(0.3)),\n",
    "    model.add(keras.layers.BatchNormalization()),\n",
    "\n",
    "    model.add(keras.layers.Dense(1))\n",
    "\n",
    "  # Tune the learning rate for the optimizer\n",
    "  # Choose an optimal value from 0.01, 0.001, or 0.0001\n",
    "    hp_learning_rate = hp.Choice('learning_rate', values=[1e-1, 0.15, 0.1, 0.2])\n",
    "\n",
    "    model.compile(optimizer=keras.optimizers.SGD(learning_rate=hp_learning_rate),\n",
    "                loss=keras.losses.MeanAbsoluteError(),\n",
    "                metrics=['MeanAbsoluteError'])\n",
    "# tf.keras.losses.MeanAbsoluteError\n",
    "    return model"
   ],
   "metadata": {
    "collapsed": false,
    "pycharm": {
     "name": "#%%\n"
    }
   }
  },
  {
   "cell_type": "code",
   "execution_count": 19,
   "outputs": [
    {
     "ename": "ModuleNotFoundError",
     "evalue": "No module named 'kerastuner'",
     "output_type": "error",
     "traceback": [
      "\u001B[0;31m---------------------------------------------------------------------------\u001B[0m",
      "\u001B[0;31mModuleNotFoundError\u001B[0m                       Traceback (most recent call last)",
      "\u001B[0;32m<ipython-input-19-3a1056b29164>\u001B[0m in \u001B[0;36m<module>\u001B[0;34m\u001B[0m\n\u001B[0;32m----> 1\u001B[0;31m \u001B[0;32mimport\u001B[0m \u001B[0mkerastuner\u001B[0m \u001B[0;32mas\u001B[0m \u001B[0mkt\u001B[0m\u001B[0;34m\u001B[0m\u001B[0;34m\u001B[0m\u001B[0m\n\u001B[0m\u001B[1;32m      2\u001B[0m \u001B[0;34m\u001B[0m\u001B[0m\n",
      "\u001B[0;31mModuleNotFoundError\u001B[0m: No module named 'kerastuner'"
     ]
    }
   ],
   "source": [
    "import kerastuner as kt"
   ],
   "metadata": {
    "collapsed": false,
    "pycharm": {
     "name": "#%%\n"
    }
   }
  },
  {
   "cell_type": "code",
   "execution_count": null,
   "outputs": [],
   "source": [
    "tuner = kt.Hyperband(model_builder,\n",
    "                     objective='val_mean_absolute_error',\n",
    "                     max_epochs=30,\n",
    "                     factor=4,\n",
    "                     directory='my_dir',\n",
    "                     project_name='intro_to_kt')"
   ],
   "metadata": {
    "collapsed": false,
    "pycharm": {
     "name": "#%%\n"
    }
   }
  },
  {
   "cell_type": "code",
   "execution_count": 62,
   "outputs": [
    {
     "name": "stdout",
     "output_type": "stream",
     "text": [
      "Python 3.8.6\r\n"
     ]
    }
   ],
   "source": [],
   "metadata": {
    "collapsed": false,
    "pycharm": {
     "name": "#%%\n"
    }
   }
  },
  {
   "cell_type": "code",
   "execution_count": 19,
   "outputs": [
    {
     "name": "stdout",
     "output_type": "stream",
     "text": [
      "Looking in indexes: https://mirrors.ustc.edu.cn/pypi/web/simple\r\n",
      "\u001B[31mERROR: Could not find a version that satisfies the requirement kerastuner\u001B[0m\r\n",
      "\u001B[31mERROR: No matching distribution found for kerastuner\u001B[0m\r\n"
     ]
    }
   ],
   "source": [
    "# !pip install kerastuner"
   ],
   "metadata": {
    "collapsed": false,
    "pycharm": {
     "name": "#%%\n"
    }
   }
  },
  {
   "cell_type": "code",
   "execution_count": 20,
   "outputs": [],
   "source": [
    "import tensorflow"
   ],
   "metadata": {
    "collapsed": false,
    "pycharm": {
     "name": "#%%\n"
    }
   }
  },
  {
   "cell_type": "code",
   "execution_count": 21,
   "outputs": [
    {
     "data": {
      "text/plain": "'2.4.0-rc0'"
     },
     "execution_count": 21,
     "metadata": {},
     "output_type": "execute_result"
    }
   ],
   "source": [
    "tensorflow.__version__"
   ],
   "metadata": {
    "collapsed": false,
    "pycharm": {
     "name": "#%%\n"
    }
   }
  },
  {
   "cell_type": "code",
   "execution_count": null,
   "outputs": [],
   "source": [],
   "metadata": {
    "collapsed": false,
    "pycharm": {
     "name": "#%%\n"
    }
   }
  }
 ],
 "metadata": {
  "kernelspec": {
   "display_name": "Python 3",
   "language": "python",
   "name": "python3"
  },
  "language_info": {
   "codemirror_mode": {
    "name": "ipython",
    "version": 2
   },
   "file_extension": ".py",
   "mimetype": "text/x-python",
   "name": "python",
   "nbconvert_exporter": "python",
   "pygments_lexer": "ipython2",
   "version": "2.7.6"
  }
 },
 "nbformat": 4,
 "nbformat_minor": 0
}