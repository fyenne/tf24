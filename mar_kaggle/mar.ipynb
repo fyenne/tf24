{
 "cells": [
  {
   "cell_type": "code",
   "execution_count": 42,
   "metadata": {
    "collapsed": true
   },
   "outputs": [
    {
     "name": "stdout",
     "output_type": "stream",
     "text": [
      "./data/test.csv\n",
      "./data/train.csv\n",
      "./data/sample_submission.csv\n"
     ]
    }
   ],
   "source": [
    "import os\n",
    "for dirname, _, filenames in os.walk('./data'):\n",
    "    for filename in filenames:\n",
    "        print(os.path.join(dirname, filename))"
   ]
  },
  {
   "cell_type": "code",
   "execution_count": 43,
   "outputs": [],
   "source": [
    "import numpy as np\n",
    "# Plotting\n",
    "import matplotlib.pyplot as plt\n",
    "import plotly.express as px\n",
    "import seaborn as sns\n",
    "%matplotlib inline\n",
    "import pandas as pd"
   ],
   "metadata": {
    "collapsed": false,
    "pycharm": {
     "name": "#%%\n"
    }
   }
  },
  {
   "cell_type": "code",
   "execution_count": 44,
   "outputs": [],
   "source": [
    "test = pd.read_csv(\"./data/test.csv\")\n",
    "train = pd.read_csv(\"./data/train.csv\")\n",
    "sub =  pd.read_csv(\"./data/sample_submission.csv\")"
   ],
   "metadata": {
    "collapsed": false,
    "pycharm": {
     "name": "#%%\n"
    }
   }
  },
  {
   "cell_type": "code",
   "execution_count": 45,
   "outputs": [],
   "source": [
    "rm = test.pop(\"id\")\n",
    "rm = train.pop(\"id\")"
   ],
   "metadata": {
    "collapsed": false,
    "pycharm": {
     "name": "#%%\n"
    }
   }
  },
  {
   "cell_type": "code",
   "execution_count": 46,
   "outputs": [
    {
     "data": {
      "text/plain": "  cat0 cat1 cat2 cat3 cat4 cat5 cat6 cat7 cat8 cat9  ...     cont2     cont3  \\\n0    A    I    A    B    B   BI    A    S    Q    A  ...  0.759439  0.795549   \n1    A    I    A    A    E   BI    K    W   AD    F  ...  0.386385  0.541366   \n2    A    K    A    A    E   BI    A    E   BM    L  ...  0.343255  0.616352   \n3    A    K    A    C    E   BI    A    Y   AD    F  ...  0.831147  0.807807   \n4    A    I    G    B    E   BI    C    G    Q    A  ...  0.338818  0.277308   \n\n      cont4     cont5     cont6     cont7     cont8     cont9    cont10  \\\n0  0.681917  0.621672  0.592184  0.791921  0.815254  0.965006  0.665915   \n1  0.388982  0.357778  0.600044  0.408701  0.399353  0.927406  0.493729   \n2  0.793687  0.552877  0.352113  0.388835  0.412303  0.292696  0.549452   \n3  0.800032  0.619147  0.221789  0.897617  0.633669  0.760318  0.934242   \n4  0.610578  0.128291  0.578764  0.279167  0.351103  0.357084  0.328960   \n\n   target  \n0       0  \n1       0  \n2       0  \n3       0  \n4       1  \n\n[5 rows x 31 columns]",
      "text/html": "<div>\n<style scoped>\n    .dataframe tbody tr th:only-of-type {\n        vertical-align: middle;\n    }\n\n    .dataframe tbody tr th {\n        vertical-align: top;\n    }\n\n    .dataframe thead th {\n        text-align: right;\n    }\n</style>\n<table border=\"1\" class=\"dataframe\">\n  <thead>\n    <tr style=\"text-align: right;\">\n      <th></th>\n      <th>cat0</th>\n      <th>cat1</th>\n      <th>cat2</th>\n      <th>cat3</th>\n      <th>cat4</th>\n      <th>cat5</th>\n      <th>cat6</th>\n      <th>cat7</th>\n      <th>cat8</th>\n      <th>cat9</th>\n      <th>...</th>\n      <th>cont2</th>\n      <th>cont3</th>\n      <th>cont4</th>\n      <th>cont5</th>\n      <th>cont6</th>\n      <th>cont7</th>\n      <th>cont8</th>\n      <th>cont9</th>\n      <th>cont10</th>\n      <th>target</th>\n    </tr>\n  </thead>\n  <tbody>\n    <tr>\n      <th>0</th>\n      <td>A</td>\n      <td>I</td>\n      <td>A</td>\n      <td>B</td>\n      <td>B</td>\n      <td>BI</td>\n      <td>A</td>\n      <td>S</td>\n      <td>Q</td>\n      <td>A</td>\n      <td>...</td>\n      <td>0.759439</td>\n      <td>0.795549</td>\n      <td>0.681917</td>\n      <td>0.621672</td>\n      <td>0.592184</td>\n      <td>0.791921</td>\n      <td>0.815254</td>\n      <td>0.965006</td>\n      <td>0.665915</td>\n      <td>0</td>\n    </tr>\n    <tr>\n      <th>1</th>\n      <td>A</td>\n      <td>I</td>\n      <td>A</td>\n      <td>A</td>\n      <td>E</td>\n      <td>BI</td>\n      <td>K</td>\n      <td>W</td>\n      <td>AD</td>\n      <td>F</td>\n      <td>...</td>\n      <td>0.386385</td>\n      <td>0.541366</td>\n      <td>0.388982</td>\n      <td>0.357778</td>\n      <td>0.600044</td>\n      <td>0.408701</td>\n      <td>0.399353</td>\n      <td>0.927406</td>\n      <td>0.493729</td>\n      <td>0</td>\n    </tr>\n    <tr>\n      <th>2</th>\n      <td>A</td>\n      <td>K</td>\n      <td>A</td>\n      <td>A</td>\n      <td>E</td>\n      <td>BI</td>\n      <td>A</td>\n      <td>E</td>\n      <td>BM</td>\n      <td>L</td>\n      <td>...</td>\n      <td>0.343255</td>\n      <td>0.616352</td>\n      <td>0.793687</td>\n      <td>0.552877</td>\n      <td>0.352113</td>\n      <td>0.388835</td>\n      <td>0.412303</td>\n      <td>0.292696</td>\n      <td>0.549452</td>\n      <td>0</td>\n    </tr>\n    <tr>\n      <th>3</th>\n      <td>A</td>\n      <td>K</td>\n      <td>A</td>\n      <td>C</td>\n      <td>E</td>\n      <td>BI</td>\n      <td>A</td>\n      <td>Y</td>\n      <td>AD</td>\n      <td>F</td>\n      <td>...</td>\n      <td>0.831147</td>\n      <td>0.807807</td>\n      <td>0.800032</td>\n      <td>0.619147</td>\n      <td>0.221789</td>\n      <td>0.897617</td>\n      <td>0.633669</td>\n      <td>0.760318</td>\n      <td>0.934242</td>\n      <td>0</td>\n    </tr>\n    <tr>\n      <th>4</th>\n      <td>A</td>\n      <td>I</td>\n      <td>G</td>\n      <td>B</td>\n      <td>E</td>\n      <td>BI</td>\n      <td>C</td>\n      <td>G</td>\n      <td>Q</td>\n      <td>A</td>\n      <td>...</td>\n      <td>0.338818</td>\n      <td>0.277308</td>\n      <td>0.610578</td>\n      <td>0.128291</td>\n      <td>0.578764</td>\n      <td>0.279167</td>\n      <td>0.351103</td>\n      <td>0.357084</td>\n      <td>0.328960</td>\n      <td>1</td>\n    </tr>\n  </tbody>\n</table>\n<p>5 rows × 31 columns</p>\n</div>"
     },
     "execution_count": 46,
     "metadata": {},
     "output_type": "execute_result"
    }
   ],
   "source": [
    "train.head()"
   ],
   "metadata": {
    "collapsed": false,
    "pycharm": {
     "name": "#%%\n"
    }
   }
  },
  {
   "cell_type": "code",
   "execution_count": 47,
   "outputs": [
    {
     "name": "stdout",
     "output_type": "stream",
     "text": [
      "<class 'pandas.core.frame.DataFrame'>\n",
      "RangeIndex: 300000 entries, 0 to 299999\n",
      "Data columns (total 31 columns):\n",
      " #   Column  Non-Null Count   Dtype  \n",
      "---  ------  --------------   -----  \n",
      " 0   cat0    300000 non-null  object \n",
      " 1   cat1    300000 non-null  object \n",
      " 2   cat2    300000 non-null  object \n",
      " 3   cat3    300000 non-null  object \n",
      " 4   cat4    300000 non-null  object \n",
      " 5   cat5    300000 non-null  object \n",
      " 6   cat6    300000 non-null  object \n",
      " 7   cat7    300000 non-null  object \n",
      " 8   cat8    300000 non-null  object \n",
      " 9   cat9    300000 non-null  object \n",
      " 10  cat10   300000 non-null  object \n",
      " 11  cat11   300000 non-null  object \n",
      " 12  cat12   300000 non-null  object \n",
      " 13  cat13   300000 non-null  object \n",
      " 14  cat14   300000 non-null  object \n",
      " 15  cat15   300000 non-null  object \n",
      " 16  cat16   300000 non-null  object \n",
      " 17  cat17   300000 non-null  object \n",
      " 18  cat18   300000 non-null  object \n",
      " 19  cont0   300000 non-null  float64\n",
      " 20  cont1   300000 non-null  float64\n",
      " 21  cont2   300000 non-null  float64\n",
      " 22  cont3   300000 non-null  float64\n",
      " 23  cont4   300000 non-null  float64\n",
      " 24  cont5   300000 non-null  float64\n",
      " 25  cont6   300000 non-null  float64\n",
      " 26  cont7   300000 non-null  float64\n",
      " 27  cont8   300000 non-null  float64\n",
      " 28  cont9   300000 non-null  float64\n",
      " 29  cont10  300000 non-null  float64\n",
      " 30  target  300000 non-null  int64  \n",
      "dtypes: float64(11), int64(1), object(19)\n",
      "memory usage: 71.0+ MB\n",
      "None\n"
     ]
    }
   ],
   "source": [
    "# no missing\n",
    "# missing_val_count_by_column = (train.isnull().sum())\n",
    "# print(missing_val_count_by_column[missing_val_count_by_column > 0])\n",
    "print(train.info(verbose = True,show_counts=True))"
   ],
   "metadata": {
    "collapsed": false,
    "pycharm": {
     "name": "#%%\n"
    }
   }
  },
  {
   "cell_type": "markdown",
   "source": [
    "##--------------------------------------------"
   ],
   "metadata": {
    "collapsed": false,
    "pycharm": {
     "name": "#%% md\n"
    }
   }
  },
  {
   "cell_type": "code",
   "execution_count": 48,
   "outputs": [],
   "source": [
    "# cont_features = [\n",
    "#     \"cont0\", \"cont1\", \"cont2\", \"cont3\", \"cont4\", \"cont5\", \"cont6\", \"cont7\",\n",
    "#     \"cont8\", \"cont9\", \"cont10\",\n",
    "# ]\n",
    "# cat_features = [\n",
    "#     \"cat0\", \"cat1\", \"cat2\", \"cat3\", \"cat4\", \"cat5\", \"cat6\", \"cat7\",\n",
    "#     \"cat8\", \"cat9\", \"cat10\", \"cat11\", \"cat12\", \"cat13\", \"cat14\", \"cat15\",\n",
    "#     \"cat16\", \"cat17\", \"cat18\"\n",
    "# ]\n",
    "# target = train[\"target\"]\n",
    "cate_name = train.select_dtypes(['object','category']).columns.to_list()\n",
    "cont_name = train.drop(['target'], axis = 1).select_dtypes(['float64','int']).columns.to_list()\n"
   ],
   "metadata": {
    "collapsed": false,
    "pycharm": {
     "name": "#%%\n"
    }
   }
  },
  {
   "cell_type": "markdown",
   "source": [
    "---\n",
    "\n",
    "## pre modeling data visualization"
   ],
   "metadata": {
    "collapsed": false,
    "pycharm": {
     "name": "#%% md\n"
    }
   }
  },
  {
   "cell_type": "code",
   "execution_count": 49,
   "outputs": [],
   "source": [
    "# visualization!\n",
    "def PlotMultiplePie(df,categorical_features = None,dropna = False):\n",
    "    # set a threshold of 30 unique variables, more than 50 can lead to ugly pie charts\n",
    "    threshold = 30\n",
    "    # if user did not set categorical_features\n",
    "    if categorical_features == None:\n",
    "        categorical_features = df.select_dtypes(['object','category']).columns.to_list()\n",
    "    print(\"The Categorical Features are:\",categorical_features)\n",
    "    # loop through the list of categorical_features\n",
    "    for cat_feature in categorical_features:\n",
    "        num_unique = df[cat_feature].nunique(dropna = dropna)\n",
    "        num_missing = df[cat_feature].isna().sum()\n",
    "        # prints pie chart and info if unique values below threshold\n",
    "        if num_unique <= threshold:\n",
    "            print('Pie Chart for: ', cat_feature)\n",
    "            print('Number of Unique Values: ', num_unique)\n",
    "            print('Number of Missing Values: ', num_missing)\n",
    "            # fig = px.pie(df[cat_feature].value_counts(dropna = dropna), values=cat_feature,\n",
    "            #      names = df[cat_feature].value_counts(dropna = dropna).index,title = cat_feature,template='ggplot2')\n",
    "            # fig.show()\n",
    "        else:\n",
    "            print('Pie Chart for ',cat_feature,' is unavailable due high number of Unique Values ')\n",
    "            print('Number of Unique Values: ', num_unique)\n",
    "            print('Number of Missing Values: ', num_missing)\n",
    "            print('\\n')"
   ],
   "metadata": {
    "collapsed": false,
    "pycharm": {
     "name": "#%%\n"
    }
   }
  },
  {
   "cell_type": "code",
   "execution_count": 27,
   "outputs": [],
   "source": [
    "# PlotMultiplePie(train)"
   ],
   "metadata": {
    "collapsed": false,
    "pycharm": {
     "name": "#%%\n"
    }
   }
  },
  {
   "cell_type": "code",
   "execution_count": 25,
   "outputs": [],
   "source": [
    "# continuous variables:\n",
    "#--------------------------------------------\n",
    "# for cont_feature in cont_name:\n",
    "#     plt.figure()\n",
    "#     plt.title(cont_feature)\n",
    "#     ax = sns.histplot(train[cont_feature])"
   ],
   "metadata": {
    "collapsed": false,
    "pycharm": {
     "name": "#%%\n"
    }
   }
  },
  {
   "cell_type": "code",
   "execution_count": 51,
   "outputs": [],
   "source": [
    "# dependent Variable.\n",
    "\n",
    "# plt.figure()\n",
    "# plt.title(\"target\")\n",
    "# ax = sns.histplot(train[\"target\"])\n",
    "# px.histogram(train[\"target\"])"
   ],
   "metadata": {
    "collapsed": false,
    "pycharm": {
     "name": "#%%\n"
    }
   }
  },
  {
   "cell_type": "code",
   "execution_count": 50,
   "outputs": [],
   "source": [],
   "metadata": {
    "collapsed": false,
    "pycharm": {
     "name": "#%%\n"
    }
   }
  },
  {
   "cell_type": "markdown",
   "source": [
    "---\n",
    "## tensorflow\n"
   ],
   "metadata": {
    "collapsed": false
   }
  },
  {
   "cell_type": "code",
   "execution_count": 56,
   "outputs": [],
   "source": [
    "from sklearn.preprocessing import StandardScaler, OneHotEncoder\n",
    "from sklearn.compose import make_column_transformer, make_column_selector\n",
    "from sklearn.model_selection import train_test_split\n",
    "from sklearn.model_selection import GroupShuffleSplit\n",
    "\n",
    "from tensorflow import keras\n",
    "from tensorflow.keras import layers\n",
    "from tensorflow.keras import callbacks\n",
    "\n",
    "preprocessor = make_column_transformer(\n",
    "    (StandardScaler(),\n",
    "     make_column_selector(dtype_include = np.number)),\n",
    "    (OneHotEncoder(sparse=False),\n",
    "     make_column_selector(dtype_include = object)),\n",
    ")"
   ],
   "metadata": {
    "collapsed": false,
    "pycharm": {
     "name": "#%%\n"
    }
   }
  },
  {
   "cell_type": "code",
   "execution_count": 53,
   "outputs": [],
   "source": [
    "y = train.pop('target')\n",
    "X = train"
   ],
   "metadata": {
    "collapsed": false,
    "pycharm": {
     "name": "#%%\n"
    }
   }
  },
  {
   "cell_type": "code",
   "execution_count": 66,
   "outputs": [],
   "source": [
    "artists = X['cat10']"
   ],
   "metadata": {
    "collapsed": false,
    "pycharm": {
     "name": "#%%\n"
    }
   }
  },
  {
   "cell_type": "code",
   "execution_count": 67,
   "outputs": [],
   "source": [
    "#  GroupShuffleSplit\n",
    "def group_split(X, y, group, train_size=0.75):\n",
    "    splitter = GroupShuffleSplit(train_size=train_size)\n",
    "    train, valid = next(splitter.split(X, y, groups=group))\n",
    "    return (X.iloc[train], X.iloc[valid], y.iloc[train], y.iloc[valid])\n",
    "\n",
    "X_train, X_valid, y_train, y_valid = group_split(X, y, artists)"
   ],
   "metadata": {
    "collapsed": false,
    "pycharm": {
     "name": "#%%\n"
    }
   }
  },
  {
   "cell_type": "code",
   "execution_count": null,
   "outputs": [],
   "source": [
    "# 2 label encoder\n",
    "from sklearn.preprocessing import LabelEncoder\n",
    "for c in train.columns:\n",
    "    if train[c].dtype == 'object':\n",
    "        lbl = LabelEncoder()\n",
    "        lbl.fit(list(train[c].values) + list(test[c].values))\n",
    "        train[c] = lbl.transform(train[c].values)\n",
    "        test[c] = lbl.transform(test[c].values)"
   ],
   "metadata": {
    "collapsed": false,
    "pycharm": {
     "name": "#%%\n"
    }
   }
  },
  {
   "cell_type": "code",
   "execution_count": 74,
   "outputs": [
    {
     "ename": "ModuleNotFoundError",
     "evalue": "No module named 'category_encoders'",
     "output_type": "error",
     "traceback": [
      "\u001B[0;31m---------------------------------------------------------------------------\u001B[0m",
      "\u001B[0;31mModuleNotFoundError\u001B[0m                       Traceback (most recent call last)",
      "\u001B[0;32m<ipython-input-74-9f51a183cd60>\u001B[0m in \u001B[0;36m<module>\u001B[0;34m\u001B[0m\n\u001B[0;32m----> 1\u001B[0;31m \u001B[0;32mfrom\u001B[0m \u001B[0mcategory_encoders\u001B[0m \u001B[0;32mimport\u001B[0m \u001B[0mCatBoostEncoder\u001B[0m\u001B[0;34m,\u001B[0m \u001B[0mLeaveOneOutEncoder\u001B[0m\u001B[0;34m\u001B[0m\u001B[0;34m\u001B[0m\u001B[0m\n\u001B[0m\u001B[1;32m      2\u001B[0m \u001B[0;32mfrom\u001B[0m \u001B[0msklearn\u001B[0m\u001B[0;34m.\u001B[0m\u001B[0mpreprocessing\u001B[0m \u001B[0;32mimport\u001B[0m \u001B[0mLabelEncoder\u001B[0m\u001B[0;34m\u001B[0m\u001B[0;34m\u001B[0m\u001B[0m\n\u001B[1;32m      3\u001B[0m \u001B[0;34m\u001B[0m\u001B[0m\n",
      "\u001B[0;31mModuleNotFoundError\u001B[0m: No module named 'category_encoders'"
     ]
    }
   ],
   "source": [
    "\n",
    "from category_encoders import CatBoostEncoder, LeaveOneOutEncoder\n",
    "from sklearn.preprocessing import LabelEncoder"
   ],
   "metadata": {
    "collapsed": false,
    "pycharm": {
     "name": "#%%\n"
    }
   }
  },
  {
   "cell_type": "code",
   "execution_count": null,
   "outputs": [],
   "source": [
    "def loo_encode(train_df, test_df, column):\n",
    "    loo = LeaveOneOutEncoder()\n",
    "    new_feature = \"{}_loo\".format(column)\n",
    "    loo.fit(train_df[column], train_df[\"target\"])\n",
    "    train_df[new_feature] = loo.transform(train_df[column])\n",
    "    test_df[new_feature] = loo.transform(test_df[column])\n",
    "    return new_feature"
   ],
   "metadata": {
    "collapsed": false,
    "pycharm": {
     "name": "#%%\n"
    }
   }
  },
  {
   "cell_type": "code",
   "execution_count": null,
   "outputs": [],
   "source": [
    "\n",
    "# X_train = preprocessor.fit_transform(X_train)\n",
    "# X_valid = preprocessor.transform(X_valid)"
   ],
   "metadata": {
    "collapsed": false,
    "pycharm": {
     "name": "#%%\n"
    }
   }
  },
  {
   "cell_type": "code",
   "execution_count": 39,
   "outputs": [],
   "source": [],
   "metadata": {
    "collapsed": false,
    "pycharm": {
     "name": "#%%\n"
    }
   }
  },
  {
   "cell_type": "code",
   "execution_count": 69,
   "outputs": [
    {
     "name": "stdout",
     "output_type": "stream",
     "text": [
      "Looking in indexes: https://mirrors.aliyun.com/pypi/simple/\r\n",
      "Collecting category_encoders\r\n",
      "  Downloading https://mirrors.aliyun.com/pypi/packages/44/57/fcef41c248701ee62e8325026b90c432adea35555cbc870aff9cfba23727/category_encoders-2.2.2-py2.py3-none-any.whl (80 kB)\r\n",
      "\u001B[K     |████████████████████████████████| 80 kB 2.2 MB/s eta 0:00:011\r\n",
      "\u001B[?25hCollecting patsy>=0.5.1\r\n",
      "  Downloading https://mirrors.aliyun.com/pypi/packages/ea/0c/5f61f1a3d4385d6bf83b83ea495068857ff8dfb89e74824c6e9eb63286d8/patsy-0.5.1-py2.py3-none-any.whl (231 kB)\r\n",
      "\u001B[K     |████████████████████████████████| 231 kB 1.4 MB/s eta 0:00:01\r\n",
      "\u001B[?25hCollecting statsmodels>=0.9.0\r\n",
      "  Downloading https://mirrors.aliyun.com/pypi/packages/10/26/0fd61f95667e56fd597ecca715dff3623ed1122b6f895ed2b4dfb54afc04/statsmodels-0.12.2.tar.gz (17.5 MB)\r\n",
      "\u001B[K     |████████████████████████████████| 17.5 MB 1.6 MB/s eta 0:00:01\r\n",
      "\u001B[?25h  Installing build dependencies ... \u001B[?25lerror\r\n",
      "\u001B[31m  ERROR: Command errored out with exit status -9:\r\n",
      "   command: /Users/fyenne/miniforge3/envs/tf24/bin/python3.8 /Users/fyenne/miniforge3/envs/tf24/lib/python3.8/site-packages/pip install --ignore-installed --no-user --prefix /private/var/folders/3g/xmfmfdws08g7_rv6hwgr8dpw0000gn/T/pip-build-env-3mz8m7vy/overlay --no-warn-script-location --no-binary :none: --only-binary :none: -i https://mirrors.aliyun.com/pypi/simple/ -- setuptools wheel 'cython>=0.29.14' 'numpy==1.15.4; python_version=='\"'\"'3.6'\"'\"'' 'numpy==1.15.4; python_version=='\"'\"'3.7'\"'\"'' 'numpy==1.17.5; python_version>='\"'\"'3.8'\"'\"'' 'scipy>=1.2'\r\n",
      "       cwd: None\r\n",
      "  Complete output (0 lines):\r\n",
      "  ----------------------------------------\u001B[0m\r\n",
      "\u001B[33mWARNING: Discarding https://mirrors.aliyun.com/pypi/packages/10/26/0fd61f95667e56fd597ecca715dff3623ed1122b6f895ed2b4dfb54afc04/statsmodels-0.12.2.tar.gz#sha256=8ad7a7ae7cdd929095684118e3b05836c0ccb08b6a01fe984159475d174a1b10 (from https://mirrors.aliyun.com/pypi/simple/statsmodels/) (requires-python:>=3.6). Command errored out with exit status -9: /Users/fyenne/miniforge3/envs/tf24/bin/python3.8 /Users/fyenne/miniforge3/envs/tf24/lib/python3.8/site-packages/pip install --ignore-installed --no-user --prefix /private/var/folders/3g/xmfmfdws08g7_rv6hwgr8dpw0000gn/T/pip-build-env-3mz8m7vy/overlay --no-warn-script-location --no-binary :none: --only-binary :none: -i https://mirrors.aliyun.com/pypi/simple/ -- setuptools wheel 'cython>=0.29.14' 'numpy==1.15.4; python_version=='\"'\"'3.6'\"'\"'' 'numpy==1.15.4; python_version=='\"'\"'3.7'\"'\"'' 'numpy==1.17.5; python_version>='\"'\"'3.8'\"'\"'' 'scipy>=1.2' Check the logs for full command output.\u001B[0m\r\n",
      "\u001B[?25h  Downloading https://mirrors.aliyun.com/pypi/packages/e8/0f/473915873d4fe51e94a31c0571def3ea258e8b9f68ff6cf2294c9d58e6ec/statsmodels-0.12.1.tar.gz (17.4 MB)\r\n",
      "\u001B[K     |████████████████████████████████| 17.4 MB 143 kB/s eta 0:00:01\r\n",
      "\u001B[?25h  Installing build dependencies ... \u001B[?25lerror\r\n",
      "\u001B[31m  ERROR: Command errored out with exit status -9:\r\n",
      "   command: /Users/fyenne/miniforge3/envs/tf24/bin/python3.8 /Users/fyenne/miniforge3/envs/tf24/lib/python3.8/site-packages/pip install --ignore-installed --no-user --prefix /private/var/folders/3g/xmfmfdws08g7_rv6hwgr8dpw0000gn/T/pip-build-env-ue8utuze/overlay --no-warn-script-location --no-binary :none: --only-binary :none: -i https://mirrors.aliyun.com/pypi/simple/ -- setuptools wheel 'cython>=0.29.14' 'numpy==1.15.4; python_version=='\"'\"'3.6'\"'\"'' 'numpy==1.15.4; python_version=='\"'\"'3.7'\"'\"'' 'numpy==1.17.5; python_version>='\"'\"'3.8'\"'\"'' 'scipy>=1.2'\r\n",
      "       cwd: None\r\n",
      "  Complete output (0 lines):\r\n",
      "  ----------------------------------------\u001B[0m\r\n",
      "\u001B[33mWARNING: Discarding https://mirrors.aliyun.com/pypi/packages/e8/0f/473915873d4fe51e94a31c0571def3ea258e8b9f68ff6cf2294c9d58e6ec/statsmodels-0.12.1.tar.gz#sha256=a271b4ccec190148dccda25f0cbdcbf871f408fc1394a10a7dc1af4a62b91c8e (from https://mirrors.aliyun.com/pypi/simple/statsmodels/) (requires-python:>=3.6). Command errored out with exit status -9: /Users/fyenne/miniforge3/envs/tf24/bin/python3.8 /Users/fyenne/miniforge3/envs/tf24/lib/python3.8/site-packages/pip install --ignore-installed --no-user --prefix /private/var/folders/3g/xmfmfdws08g7_rv6hwgr8dpw0000gn/T/pip-build-env-ue8utuze/overlay --no-warn-script-location --no-binary :none: --only-binary :none: -i https://mirrors.aliyun.com/pypi/simple/ -- setuptools wheel 'cython>=0.29.14' 'numpy==1.15.4; python_version=='\"'\"'3.6'\"'\"'' 'numpy==1.15.4; python_version=='\"'\"'3.7'\"'\"'' 'numpy==1.17.5; python_version>='\"'\"'3.8'\"'\"'' 'scipy>=1.2' Check the logs for full command output.\u001B[0m\r\n",
      "\u001B[?25h  Downloading https://mirrors.aliyun.com/pypi/packages/cc/40/0c30656c6922041e1623c7d5c4fd4345592a80ca050f156eb724a9be0b06/statsmodels-0.12.0.tar.gz (17.5 MB)\r\n",
      "\u001B[K     |████████████████████████████████| 17.5 MB 2.9 MB/s eta 0:00:01\r\n",
      "\u001B[?25h  Installing build dependencies ... \u001B[?25lerror\r\n",
      "\u001B[31m  ERROR: Command errored out with exit status -9:\r\n",
      "   command: /Users/fyenne/miniforge3/envs/tf24/bin/python3.8 /Users/fyenne/miniforge3/envs/tf24/lib/python3.8/site-packages/pip install --ignore-installed --no-user --prefix /private/var/folders/3g/xmfmfdws08g7_rv6hwgr8dpw0000gn/T/pip-build-env-b8s399x6/overlay --no-warn-script-location --no-binary :none: --only-binary :none: -i https://mirrors.aliyun.com/pypi/simple/ -- setuptools wheel 'cython>=0.29.14' 'numpy==1.15.4; python_version=='\"'\"'3.6'\"'\"'' 'numpy==1.15.4; python_version=='\"'\"'3.7'\"'\"'' 'numpy==1.17.5; python_version>='\"'\"'3.8'\"'\"'' 'scipy>=1.2'\r\n",
      "       cwd: None\r\n",
      "  Complete output (0 lines):\r\n",
      "  ----------------------------------------\u001B[0m\r\n",
      "\u001B[33mWARNING: Discarding https://mirrors.aliyun.com/pypi/packages/cc/40/0c30656c6922041e1623c7d5c4fd4345592a80ca050f156eb724a9be0b06/statsmodels-0.12.0.tar.gz#sha256=5c7d6707ad3112b67f564abaf1845d3c02ecc7174c2d990d539f45c37e98ad35 (from https://mirrors.aliyun.com/pypi/simple/statsmodels/) (requires-python:>=3.6). Command errored out with exit status -9: /Users/fyenne/miniforge3/envs/tf24/bin/python3.8 /Users/fyenne/miniforge3/envs/tf24/lib/python3.8/site-packages/pip install --ignore-installed --no-user --prefix /private/var/folders/3g/xmfmfdws08g7_rv6hwgr8dpw0000gn/T/pip-build-env-b8s399x6/overlay --no-warn-script-location --no-binary :none: --only-binary :none: -i https://mirrors.aliyun.com/pypi/simple/ -- setuptools wheel 'cython>=0.29.14' 'numpy==1.15.4; python_version=='\"'\"'3.6'\"'\"'' 'numpy==1.15.4; python_version=='\"'\"'3.7'\"'\"'' 'numpy==1.17.5; python_version>='\"'\"'3.8'\"'\"'' 'scipy>=1.2' Check the logs for full command output.\u001B[0m\r\n",
      "\u001B[?25h  Downloading https://mirrors.aliyun.com/pypi/packages/91/64/b3c3e73bbec1ae6bee1b6a948bfaebef9c8a9b1e90756e8e1d110c6ff810/statsmodels-0.11.1.tar.gz (15.4 MB)\r\n",
      "\u001B[K     |████████████████████████████████| 15.4 MB 1.4 MB/s eta 0:00:01\r\n",
      "\u001B[?25h  Installing build dependencies ... \u001B[?25lerror\r\n",
      "\u001B[31m  ERROR: Command errored out with exit status -9:\r\n",
      "   command: /Users/fyenne/miniforge3/envs/tf24/bin/python3.8 /Users/fyenne/miniforge3/envs/tf24/lib/python3.8/site-packages/pip install --ignore-installed --no-user --prefix /private/var/folders/3g/xmfmfdws08g7_rv6hwgr8dpw0000gn/T/pip-build-env-aagncfi9/overlay --no-warn-script-location --no-binary :none: --only-binary :none: -i https://mirrors.aliyun.com/pypi/simple/ -- setuptools wheel 'cython>=0.29.14' 'numpy==1.14.5; python_version=='\"'\"'3.5'\"'\"'' 'numpy==1.14.5; python_version=='\"'\"'3.6'\"'\"'' 'numpy==1.16.1; python_version=='\"'\"'3.7'\"'\"'' 'numpy==1.17.5; python_version>='\"'\"'3.8'\"'\"'' 'scipy>=1.0'\r\n",
      "       cwd: None\r\n",
      "  Complete output (0 lines):\r\n",
      "  ----------------------------------------\u001B[0m\r\n",
      "\u001B[33mWARNING: Discarding https://mirrors.aliyun.com/pypi/packages/91/64/b3c3e73bbec1ae6bee1b6a948bfaebef9c8a9b1e90756e8e1d110c6ff810/statsmodels-0.11.1.tar.gz#sha256=5bde3fa0a35a91b45dba7cbc28270b5b649ff1d721c89290883f6e831672d5f0 (from https://mirrors.aliyun.com/pypi/simple/statsmodels/) (requires-python:>=3.5). Command errored out with exit status -9: /Users/fyenne/miniforge3/envs/tf24/bin/python3.8 /Users/fyenne/miniforge3/envs/tf24/lib/python3.8/site-packages/pip install --ignore-installed --no-user --prefix /private/var/folders/3g/xmfmfdws08g7_rv6hwgr8dpw0000gn/T/pip-build-env-aagncfi9/overlay --no-warn-script-location --no-binary :none: --only-binary :none: -i https://mirrors.aliyun.com/pypi/simple/ -- setuptools wheel 'cython>=0.29.14' 'numpy==1.14.5; python_version=='\"'\"'3.5'\"'\"'' 'numpy==1.14.5; python_version=='\"'\"'3.6'\"'\"'' 'numpy==1.16.1; python_version=='\"'\"'3.7'\"'\"'' 'numpy==1.17.5; python_version>='\"'\"'3.8'\"'\"'' 'scipy>=1.0' Check the logs for full command output.\u001B[0m\r\n",
      "\u001B[?25h  Downloading https://mirrors.aliyun.com/pypi/packages/53/1c/b83f6a4632b502a20b0f83bc5c25ebfa03eebd00efe9b45fcdcde1a0ab40/statsmodels-0.11.0.tar.gz (15.4 MB)\r\n",
      "\u001B[K     |████████████████████████████████| 15.4 MB 805 kB/s eta 0:00:011\r\n",
      "\u001B[?25h  Installing build dependencies ... \u001B[?25lerror\r\n",
      "\u001B[31m  ERROR: Command errored out with exit status -9:\r\n",
      "   command: /Users/fyenne/miniforge3/envs/tf24/bin/python3.8 /Users/fyenne/miniforge3/envs/tf24/lib/python3.8/site-packages/pip install --ignore-installed --no-user --prefix /private/var/folders/3g/xmfmfdws08g7_rv6hwgr8dpw0000gn/T/pip-build-env-_5zagt4v/overlay --no-warn-script-location --no-binary :none: --only-binary :none: -i https://mirrors.aliyun.com/pypi/simple/ -- setuptools wheel 'cython>=0.29.14' 'numpy==1.14.5; python_version=='\"'\"'3.5'\"'\"'' 'numpy==1.14.5; python_version=='\"'\"'3.6'\"'\"'' 'numpy==1.14.5; python_version>='\"'\"'3.7'\"'\"'' 'numpy==1.17.5; python_version>='\"'\"'3.8'\"'\"'' 'scipy>=1.0'\r\n",
      "       cwd: None\r\n",
      "  Complete output (0 lines):\r\n",
      "  ----------------------------------------\u001B[0m\r\n",
      "\u001B[33mWARNING: Discarding https://mirrors.aliyun.com/pypi/packages/53/1c/b83f6a4632b502a20b0f83bc5c25ebfa03eebd00efe9b45fcdcde1a0ab40/statsmodels-0.11.0.tar.gz#sha256=0a8ee8fc091d9ef1db68f01e6e0079acc0f41671dfbac463131939ca573f8c71 (from https://mirrors.aliyun.com/pypi/simple/statsmodels/). Command errored out with exit status -9: /Users/fyenne/miniforge3/envs/tf24/bin/python3.8 /Users/fyenne/miniforge3/envs/tf24/lib/python3.8/site-packages/pip install --ignore-installed --no-user --prefix /private/var/folders/3g/xmfmfdws08g7_rv6hwgr8dpw0000gn/T/pip-build-env-_5zagt4v/overlay --no-warn-script-location --no-binary :none: --only-binary :none: -i https://mirrors.aliyun.com/pypi/simple/ -- setuptools wheel 'cython>=0.29.14' 'numpy==1.14.5; python_version=='\"'\"'3.5'\"'\"'' 'numpy==1.14.5; python_version=='\"'\"'3.6'\"'\"'' 'numpy==1.14.5; python_version>='\"'\"'3.7'\"'\"'' 'numpy==1.17.5; python_version>='\"'\"'3.8'\"'\"'' 'scipy>=1.0' Check the logs for full command output.\u001B[0m\r\n",
      "\u001B[?25h  Downloading https://mirrors.aliyun.com/pypi/packages/9c/8f/a28c4f3a4192ea38a6cee092aac1d52ef69dbc65461b5969a296ef5246d5/statsmodels-0.10.2.tar.gz (14.1 MB)\r\n",
      "\u001B[K     |████████████████████████████████| 14.1 MB 2.9 MB/s eta 0:00:01\r\n",
      "\u001B[31m    ERROR: Command errored out with exit status -9:\r\n",
      "     command: /Users/fyenne/miniforge3/envs/tf24/bin/python3.8 -c 'import sys, setuptools, tokenize; sys.argv[0] = '\"'\"'/private/var/folders/3g/xmfmfdws08g7_rv6hwgr8dpw0000gn/T/pip-install-c8v0ttn_/statsmodels_15bc8137a87d438dbd2e7c46e3a821bf/setup.py'\"'\"'; __file__='\"'\"'/private/var/folders/3g/xmfmfdws08g7_rv6hwgr8dpw0000gn/T/pip-install-c8v0ttn_/statsmodels_15bc8137a87d438dbd2e7c46e3a821bf/setup.py'\"'\"';f=getattr(tokenize, '\"'\"'open'\"'\"', open)(__file__);code=f.read().replace('\"'\"'\\r\\n'\"'\"', '\"'\"'\\n'\"'\"');f.close();exec(compile(code, __file__, '\"'\"'exec'\"'\"'))' egg_info --egg-base /private/var/folders/3g/xmfmfdws08g7_rv6hwgr8dpw0000gn/T/pip-pip-egg-info-6n91wpj2\r\n",
      "         cwd: /private/var/folders/3g/xmfmfdws08g7_rv6hwgr8dpw0000gn/T/pip-install-c8v0ttn_/statsmodels_15bc8137a87d438dbd2e7c46e3a821bf/\r\n",
      "    Complete output (0 lines):\r\n",
      "    ----------------------------------------\u001B[0m\r\n",
      "\u001B[33mWARNING: Discarding https://mirrors.aliyun.com/pypi/packages/9c/8f/a28c4f3a4192ea38a6cee092aac1d52ef69dbc65461b5969a296ef5246d5/statsmodels-0.10.2.tar.gz#sha256=9cd2194c6642a8754e85f9a6e6912cdf996bebf6ff715d3cc67f65dadfd37cc9 (from https://mirrors.aliyun.com/pypi/simple/statsmodels/). Command errored out with exit status -9: python setup.py egg_info Check the logs for full command output.\u001B[0m\r\n",
      "\u001B[?25h  Downloading https://mirrors.aliyun.com/pypi/packages/d3/7d/4f1f18ad782d6b913aeff17d553859fed40751ecf15ef698c69811e622e6/statsmodels-0.10.1.tar.gz (14.1 MB)\r\n",
      "\u001B[K     |████████████████████████████████| 14.1 MB 236 kB/s eta 0:00:01\r\n",
      "\u001B[31m    ERROR: Command errored out with exit status -9:\r\n",
      "     command: /Users/fyenne/miniforge3/envs/tf24/bin/python3.8 -c 'import sys, setuptools, tokenize; sys.argv[0] = '\"'\"'/private/var/folders/3g/xmfmfdws08g7_rv6hwgr8dpw0000gn/T/pip-install-c8v0ttn_/statsmodels_21b073638da94c5cb6416091d2f7d9f2/setup.py'\"'\"'; __file__='\"'\"'/private/var/folders/3g/xmfmfdws08g7_rv6hwgr8dpw0000gn/T/pip-install-c8v0ttn_/statsmodels_21b073638da94c5cb6416091d2f7d9f2/setup.py'\"'\"';f=getattr(tokenize, '\"'\"'open'\"'\"', open)(__file__);code=f.read().replace('\"'\"'\\r\\n'\"'\"', '\"'\"'\\n'\"'\"');f.close();exec(compile(code, __file__, '\"'\"'exec'\"'\"'))' egg_info --egg-base /private/var/folders/3g/xmfmfdws08g7_rv6hwgr8dpw0000gn/T/pip-pip-egg-info-gmvkmh_5\r\n",
      "         cwd: /private/var/folders/3g/xmfmfdws08g7_rv6hwgr8dpw0000gn/T/pip-install-c8v0ttn_/statsmodels_21b073638da94c5cb6416091d2f7d9f2/\r\n",
      "    Complete output (0 lines):\r\n",
      "    ----------------------------------------\u001B[0m\r\n",
      "\u001B[33mWARNING: Discarding https://mirrors.aliyun.com/pypi/packages/d3/7d/4f1f18ad782d6b913aeff17d553859fed40751ecf15ef698c69811e622e6/statsmodels-0.10.1.tar.gz#sha256=320659a80f916c2edf9dfbe83512d9004bb562b72eedb7d9374562038697fa10 (from https://mirrors.aliyun.com/pypi/simple/statsmodels/). Command errored out with exit status -9: python setup.py egg_info Check the logs for full command output.\u001B[0m\r\n",
      "\u001B[?25h  Downloading https://mirrors.aliyun.com/pypi/packages/ff/cd/d97aae2d2a96231288489eaeb08f91a62c48d83e345fb0ea777472fdb3d6/statsmodels-0.10.0.tar.gz (14.0 MB)\r\n",
      "\u001B[K     |████████████████████████████████| 14.0 MB 1.8 MB/s eta 0:00:01\r\n",
      "\u001B[31m    ERROR: Command errored out with exit status -9:\r\n",
      "     command: /Users/fyenne/miniforge3/envs/tf24/bin/python3.8 -c 'import sys, setuptools, tokenize; sys.argv[0] = '\"'\"'/private/var/folders/3g/xmfmfdws08g7_rv6hwgr8dpw0000gn/T/pip-install-c8v0ttn_/statsmodels_dbedc7a325aa4492a94992dc4ef4e434/setup.py'\"'\"'; __file__='\"'\"'/private/var/folders/3g/xmfmfdws08g7_rv6hwgr8dpw0000gn/T/pip-install-c8v0ttn_/statsmodels_dbedc7a325aa4492a94992dc4ef4e434/setup.py'\"'\"';f=getattr(tokenize, '\"'\"'open'\"'\"', open)(__file__);code=f.read().replace('\"'\"'\\r\\n'\"'\"', '\"'\"'\\n'\"'\"');f.close();exec(compile(code, __file__, '\"'\"'exec'\"'\"'))' egg_info --egg-base /private/var/folders/3g/xmfmfdws08g7_rv6hwgr8dpw0000gn/T/pip-pip-egg-info-j5ea7_iy\r\n",
      "         cwd: /private/var/folders/3g/xmfmfdws08g7_rv6hwgr8dpw0000gn/T/pip-install-c8v0ttn_/statsmodels_dbedc7a325aa4492a94992dc4ef4e434/\r\n",
      "    Complete output (0 lines):\r\n",
      "    ----------------------------------------\u001B[0m\r\n",
      "\u001B[33mWARNING: Discarding https://mirrors.aliyun.com/pypi/packages/ff/cd/d97aae2d2a96231288489eaeb08f91a62c48d83e345fb0ea777472fdb3d6/statsmodels-0.10.0.tar.gz#sha256=65f321640e21134fc18b312fb2f3edcfbd23ddc36831a06e2445f9f2d7c01aba (from https://mirrors.aliyun.com/pypi/simple/statsmodels/). Command errored out with exit status -9: python setup.py egg_info Check the logs for full command output.\u001B[0m\r\n",
      "\u001B[?25h  Downloading https://mirrors.aliyun.com/pypi/packages/67/68/eb3ec6ab61f97216c257edddb853cc174cd76ea44b365cf4adaedcd44482/statsmodels-0.9.0.tar.gz (12.7 MB)\r\n",
      "\u001B[K     |████████████████████████████████| 12.7 MB 2.5 MB/s eta 0:00:01\r\n",
      "\u001B[31m    ERROR: Command errored out with exit status -9:\r\n",
      "     command: /Users/fyenne/miniforge3/envs/tf24/bin/python3.8 -c 'import sys, setuptools, tokenize; sys.argv[0] = '\"'\"'/private/var/folders/3g/xmfmfdws08g7_rv6hwgr8dpw0000gn/T/pip-install-c8v0ttn_/statsmodels_1243dda9010d4ceab11f2e1b419bdd7d/setup.py'\"'\"'; __file__='\"'\"'/private/var/folders/3g/xmfmfdws08g7_rv6hwgr8dpw0000gn/T/pip-install-c8v0ttn_/statsmodels_1243dda9010d4ceab11f2e1b419bdd7d/setup.py'\"'\"';f=getattr(tokenize, '\"'\"'open'\"'\"', open)(__file__);code=f.read().replace('\"'\"'\\r\\n'\"'\"', '\"'\"'\\n'\"'\"');f.close();exec(compile(code, __file__, '\"'\"'exec'\"'\"'))' egg_info --egg-base /private/var/folders/3g/xmfmfdws08g7_rv6hwgr8dpw0000gn/T/pip-pip-egg-info-m6cx3_hp\r\n",
      "         cwd: /private/var/folders/3g/xmfmfdws08g7_rv6hwgr8dpw0000gn/T/pip-install-c8v0ttn_/statsmodels_1243dda9010d4ceab11f2e1b419bdd7d/\r\n",
      "    Complete output (0 lines):\r\n",
      "    ----------------------------------------\u001B[0m\r\n",
      "\u001B[33mWARNING: Discarding https://mirrors.aliyun.com/pypi/packages/67/68/eb3ec6ab61f97216c257edddb853cc174cd76ea44b365cf4adaedcd44482/statsmodels-0.9.0.tar.gz#sha256=6461f93a842c649922c2c9a9bc9d9c4834110b89de8c4af196a791ab8f42ba3b (from https://mirrors.aliyun.com/pypi/simple/statsmodels/). Command errored out with exit status -9: python setup.py egg_info Check the logs for full command output.\u001B[0m\r\n",
      "\u001B[?25hCollecting category_encoders\r\n",
      "  Downloading https://mirrors.aliyun.com/pypi/packages/a0/52/c54191ad3782de633ea3d6ee3bb2837bda0cf3bc97644bb6375cf14150a0/category_encoders-2.1.0-py2.py3-none-any.whl (100 kB)\r\n",
      "\u001B[K     |████████████████████████████████| 100 kB 1.4 MB/s ta 0:00:011\r\n",
      "\u001B[?25hRequirement already satisfied: scipy>=0.19.0 in /Users/fyenne/miniforge3/envs/tf24/lib/python3.8/site-packages (from category_encoders) (1.6.0)\r\n",
      "Requirement already satisfied: numpy>=1.11.3 in /Users/fyenne/miniforge3/envs/tf24/lib/python3.8/site-packages (from category_encoders) (1.20.1)\r\n",
      "Collecting statsmodels>=0.6.1\r\n",
      "  Downloading https://mirrors.aliyun.com/pypi/packages/72/16/d7e7a70fc8ca3cc0d783a66e902a7adf80a810695c357cd48bb22c82451a/statsmodels-0.8.0.tar.gz (9.5 MB)\r\n",
      "\u001B[K     |████████████████████████████████| 9.5 MB 3.7 MB/s eta 0:00:01\r\n",
      "\u001B[31m    ERROR: Command errored out with exit status -9:\r\n",
      "     command: /Users/fyenne/miniforge3/envs/tf24/bin/python3.8 -c 'import sys, setuptools, tokenize; sys.argv[0] = '\"'\"'/private/var/folders/3g/xmfmfdws08g7_rv6hwgr8dpw0000gn/T/pip-install-c8v0ttn_/statsmodels_b0a7cdf10be94d9e962ae97ae52e2db2/setup.py'\"'\"'; __file__='\"'\"'/private/var/folders/3g/xmfmfdws08g7_rv6hwgr8dpw0000gn/T/pip-install-c8v0ttn_/statsmodels_b0a7cdf10be94d9e962ae97ae52e2db2/setup.py'\"'\"';f=getattr(tokenize, '\"'\"'open'\"'\"', open)(__file__);code=f.read().replace('\"'\"'\\r\\n'\"'\"', '\"'\"'\\n'\"'\"');f.close();exec(compile(code, __file__, '\"'\"'exec'\"'\"'))' egg_info --egg-base /private/var/folders/3g/xmfmfdws08g7_rv6hwgr8dpw0000gn/T/pip-pip-egg-info-ooojnx96\r\n",
      "         cwd: /private/var/folders/3g/xmfmfdws08g7_rv6hwgr8dpw0000gn/T/pip-install-c8v0ttn_/statsmodels_b0a7cdf10be94d9e962ae97ae52e2db2/\r\n",
      "    Complete output (0 lines):\r\n",
      "    ----------------------------------------\u001B[0m\r\n",
      "\u001B[33mWARNING: Discarding https://mirrors.aliyun.com/pypi/packages/72/16/d7e7a70fc8ca3cc0d783a66e902a7adf80a810695c357cd48bb22c82451a/statsmodels-0.8.0.tar.gz#sha256=26431ab706fbae896db7870a0892743bfbb9f5c83231644692166a31d2d86048 (from https://mirrors.aliyun.com/pypi/simple/statsmodels/). Command errored out with exit status -9: python setup.py egg_info Check the logs for full command output.\u001B[0m\r\n",
      "\u001B[?25h  Downloading https://mirrors.aliyun.com/pypi/packages/e0/d2/c8ce4a29332e75c666385034b04b3f061e4c0dabe29b9060b5c411134ff7/statsmodels-0.6.1.zip (7.4 MB)\r\n",
      "\u001B[K     |████████████████████████████████| 7.4 MB 1.1 MB/s eta 0:00:01\r\n",
      "\u001B[31m    ERROR: Command errored out with exit status -9:\r\n",
      "     command: /Users/fyenne/miniforge3/envs/tf24/bin/python3.8 -c 'import sys, setuptools, tokenize; sys.argv[0] = '\"'\"'/private/var/folders/3g/xmfmfdws08g7_rv6hwgr8dpw0000gn/T/pip-install-c8v0ttn_/statsmodels_e194ca6645d444a6889c706c1eb429d2/setup.py'\"'\"'; __file__='\"'\"'/private/var/folders/3g/xmfmfdws08g7_rv6hwgr8dpw0000gn/T/pip-install-c8v0ttn_/statsmodels_e194ca6645d444a6889c706c1eb429d2/setup.py'\"'\"';f=getattr(tokenize, '\"'\"'open'\"'\"', open)(__file__);code=f.read().replace('\"'\"'\\r\\n'\"'\"', '\"'\"'\\n'\"'\"');f.close();exec(compile(code, __file__, '\"'\"'exec'\"'\"'))' egg_info --egg-base /private/var/folders/3g/xmfmfdws08g7_rv6hwgr8dpw0000gn/T/pip-pip-egg-info-bn8fnr2p\r\n",
      "         cwd: /private/var/folders/3g/xmfmfdws08g7_rv6hwgr8dpw0000gn/T/pip-install-c8v0ttn_/statsmodels_e194ca6645d444a6889c706c1eb429d2/\r\n",
      "    Complete output (0 lines):\r\n",
      "    ----------------------------------------\u001B[0m\r\n",
      "\u001B[33mWARNING: Discarding https://mirrors.aliyun.com/pypi/packages/e0/d2/c8ce4a29332e75c666385034b04b3f061e4c0dabe29b9060b5c411134ff7/statsmodels-0.6.1.zip#sha256=4313dd4cbf1ebadef3661f6efd895132b615016e9bee560b5fdfd80c74dd422f (from https://mirrors.aliyun.com/pypi/simple/statsmodels/). Command errored out with exit status -9: python setup.py egg_info Check the logs for full command output.\u001B[0m\r\n",
      "\u001B[?25h  Downloading https://mirrors.aliyun.com/pypi/packages/20/1a/0ca0de04152d1647cdcfdbf7de87298f3c6275edfb74ee1cc0b55eedc737/statsmodels-0.6.1.tar.gz (7.0 MB)\r\n",
      "\u001B[K     |████████████████████████████████| 7.0 MB 1.3 MB/s eta 0:00:01\r\n",
      "\u001B[31m    ERROR: Command errored out with exit status -9:\r\n",
      "     command: /Users/fyenne/miniforge3/envs/tf24/bin/python3.8 -c 'import sys, setuptools, tokenize; sys.argv[0] = '\"'\"'/private/var/folders/3g/xmfmfdws08g7_rv6hwgr8dpw0000gn/T/pip-install-c8v0ttn_/statsmodels_9401d0d16856413d9abd94f4bebd4b2d/setup.py'\"'\"'; __file__='\"'\"'/private/var/folders/3g/xmfmfdws08g7_rv6hwgr8dpw0000gn/T/pip-install-c8v0ttn_/statsmodels_9401d0d16856413d9abd94f4bebd4b2d/setup.py'\"'\"';f=getattr(tokenize, '\"'\"'open'\"'\"', open)(__file__);code=f.read().replace('\"'\"'\\r\\n'\"'\"', '\"'\"'\\n'\"'\"');f.close();exec(compile(code, __file__, '\"'\"'exec'\"'\"'))' egg_info --egg-base /private/var/folders/3g/xmfmfdws08g7_rv6hwgr8dpw0000gn/T/pip-pip-egg-info-qz4coklr\r\n",
      "         cwd: /private/var/folders/3g/xmfmfdws08g7_rv6hwgr8dpw0000gn/T/pip-install-c8v0ttn_/statsmodels_9401d0d16856413d9abd94f4bebd4b2d/\r\n",
      "    Complete output (0 lines):\r\n",
      "    ----------------------------------------\u001B[0m\r\n",
      "\u001B[33mWARNING: Discarding https://mirrors.aliyun.com/pypi/packages/20/1a/0ca0de04152d1647cdcfdbf7de87298f3c6275edfb74ee1cc0b55eedc737/statsmodels-0.6.1.tar.gz#sha256=be4e44374aec9e848b73e5a230dee190ac0c4519e1d40f69a5813190b13ec676 (from https://mirrors.aliyun.com/pypi/simple/statsmodels/). Command errored out with exit status -9: python setup.py egg_info Check the logs for full command output.\u001B[0m\r\n",
      "\u001B[?25hCollecting category_encoders\r\n",
      "  Downloading https://mirrors.aliyun.com/pypi/packages/6e/a1/f7a22f144f33be78afeb06bfa78478e8284a64263a3c09b1ef54e673841e/category_encoders-2.0.0-py2.py3-none-any.whl (87 kB)\r\n",
      "\u001B[K     |████████████████████████████████| 87 kB 452 kB/s eta 0:00:011\r\n",
      "\u001B[?25h  Downloading https://mirrors.aliyun.com/pypi/packages/f7/d3/82a4b85a87ece114f6d0139d643580c726efa45fa4db3b81aed38c0156c5/category_encoders-1.3.0-py2.py3-none-any.whl (61 kB)\r\n",
      "\u001B[K     |████████████████████████████████| 61 kB 1.4 MB/s eta 0:00:011\r\n",
      "\u001B[?25hRequirement already satisfied: scikit-learn>=0.17.1 in /Users/fyenne/miniforge3/envs/tf24/lib/python3.8/site-packages (from category_encoders) (0.24.1)\r\n",
      "  Downloading https://mirrors.aliyun.com/pypi/packages/a4/dd/660f7d3c8f344df3537dae1c4a96b92962ac4f470cf6fb763722cc420437/category_encoders-1.2.8-py2.py3-none-any.whl (44 kB)\r\n",
      "\u001B[K     |████████████████████████████████| 44 kB 6.8 MB/s  eta 0:00:01\r\n",
      "\u001B[?25hRequirement already satisfied: pandas>=0.15.0 in /Users/fyenne/miniforge3/envs/tf24/lib/python3.8/site-packages (from category_encoders) (1.2.1)\r\n",
      "Collecting statsmodels<=0.8.0,>=0.6.0\r\n",
      "  Downloading https://mirrors.aliyun.com/pypi/packages/61/d5/041a63aa0fc7715a6e8972d42b4e91dc7fe83bef756818b3710c4fa065a5/statsmodels-0.6.0.zip (7.3 MB)\r\n",
      "\u001B[K     |████████████████████████████████| 7.3 MB 609 kB/s eta 0:00:01\r\n",
      "\u001B[31m    ERROR: Command errored out with exit status -9:\r\n",
      "     command: /Users/fyenne/miniforge3/envs/tf24/bin/python3.8 -c 'import sys, setuptools, tokenize; sys.argv[0] = '\"'\"'/private/var/folders/3g/xmfmfdws08g7_rv6hwgr8dpw0000gn/T/pip-install-c8v0ttn_/statsmodels_cfc3e4786d1a4c9bb63f37cb770d0044/setup.py'\"'\"'; __file__='\"'\"'/private/var/folders/3g/xmfmfdws08g7_rv6hwgr8dpw0000gn/T/pip-install-c8v0ttn_/statsmodels_cfc3e4786d1a4c9bb63f37cb770d0044/setup.py'\"'\"';f=getattr(tokenize, '\"'\"'open'\"'\"', open)(__file__);code=f.read().replace('\"'\"'\\r\\n'\"'\"', '\"'\"'\\n'\"'\"');f.close();exec(compile(code, __file__, '\"'\"'exec'\"'\"'))' egg_info --egg-base /private/var/folders/3g/xmfmfdws08g7_rv6hwgr8dpw0000gn/T/pip-pip-egg-info-e9xfk_yx\r\n",
      "         cwd: /private/var/folders/3g/xmfmfdws08g7_rv6hwgr8dpw0000gn/T/pip-install-c8v0ttn_/statsmodels_cfc3e4786d1a4c9bb63f37cb770d0044/\r\n",
      "    Complete output (0 lines):\r\n",
      "    ----------------------------------------\u001B[0m\r\n",
      "\u001B[33mWARNING: Discarding https://mirrors.aliyun.com/pypi/packages/61/d5/041a63aa0fc7715a6e8972d42b4e91dc7fe83bef756818b3710c4fa065a5/statsmodels-0.6.0.zip#sha256=4c51342b358ee40a3b0543e39db3f9743e002f7346e06c7d8267b3ba1008592a (from https://mirrors.aliyun.com/pypi/simple/statsmodels/). Command errored out with exit status -9: python setup.py egg_info Check the logs for full command output.\u001B[0m\r\n",
      "\u001B[?25h  Downloading https://mirrors.aliyun.com/pypi/packages/ba/f3/91db7b6fe65df01b88655cc7d32133d0bcca758563b5816b23203959671d/statsmodels-0.6.0.tar.gz (6.9 MB)\r\n",
      "\u001B[K     |████████████████████████████████| 6.9 MB 995 kB/s eta 0:00:01\r\n",
      "\u001B[31m    ERROR: Command errored out with exit status -9:\r\n",
      "     command: /Users/fyenne/miniforge3/envs/tf24/bin/python3.8 -c 'import sys, setuptools, tokenize; sys.argv[0] = '\"'\"'/private/var/folders/3g/xmfmfdws08g7_rv6hwgr8dpw0000gn/T/pip-install-c8v0ttn_/statsmodels_494d91a9237349f5bf595eb2d7c7f483/setup.py'\"'\"'; __file__='\"'\"'/private/var/folders/3g/xmfmfdws08g7_rv6hwgr8dpw0000gn/T/pip-install-c8v0ttn_/statsmodels_494d91a9237349f5bf595eb2d7c7f483/setup.py'\"'\"';f=getattr(tokenize, '\"'\"'open'\"'\"', open)(__file__);code=f.read().replace('\"'\"'\\r\\n'\"'\"', '\"'\"'\\n'\"'\"');f.close();exec(compile(code, __file__, '\"'\"'exec'\"'\"'))' egg_info --egg-base /private/var/folders/3g/xmfmfdws08g7_rv6hwgr8dpw0000gn/T/pip-pip-egg-info-vr_gnlk_\r\n",
      "         cwd: /private/var/folders/3g/xmfmfdws08g7_rv6hwgr8dpw0000gn/T/pip-install-c8v0ttn_/statsmodels_494d91a9237349f5bf595eb2d7c7f483/\r\n",
      "    Complete output (0 lines):\r\n",
      "    ----------------------------------------\u001B[0m\r\n",
      "\u001B[33mWARNING: Discarding https://mirrors.aliyun.com/pypi/packages/ba/f3/91db7b6fe65df01b88655cc7d32133d0bcca758563b5816b23203959671d/statsmodels-0.6.0.tar.gz#sha256=266a2ded2e2fc8ce40674da313560ec1c43e7960870a2d58e4b049865eb8e79b (from https://mirrors.aliyun.com/pypi/simple/statsmodels/). Command errored out with exit status -9: python setup.py egg_info Check the logs for full command output.\u001B[0m\r\n",
      "\u001B[?25hCollecting category_encoders\r\n",
      "  Downloading https://mirrors.aliyun.com/pypi/packages/ea/19/2a897120eb9f9edcfe6b782e69626fcc7febf224c253577e953ee7dbc4b2/category_encoders-1.2.7-py2.py3-none-any.whl (44 kB)\r\n",
      "\u001B[K     |████████████████████████████████| 44 kB 2.1 MB/s eta 0:00:011\r\n",
      "\u001B[?25h  Downloading https://mirrors.aliyun.com/pypi/packages/67/10/b35c425767dffab80ebccd014c1abcad6a53fca9dc9bcd924d8739b1c01d/category_encoders-1.2.6.tar.gz (20 kB)\r\n",
      "  Downloading https://mirrors.aliyun.com/pypi/packages/87/22/f588656e50069835bc90b87867a2026885721c2e97fa3e74efb6c51c8fab/category_encoders-1.2.5.tar.gz (16 kB)\r\n",
      "  Downloading https://mirrors.aliyun.com/pypi/packages/4f/d5/e424bdb713277a3ec8cf000f0ff69cb8f95eb7a46aa11fcd958c52083d1a/category_encoders-1.2.4.tar.gz (16 kB)\r\n",
      "  Downloading https://mirrors.aliyun.com/pypi/packages/07/9e/21e96a2e54fa8b9a7967392b031af97893a7045ca025e46235b0493f2672/category_encoders-1.2.3.tar.gz (11 kB)\r\n",
      "  Downloading https://mirrors.aliyun.com/pypi/packages/32/15/2810aa5ab62ec6fb5dfb6aab556552f0a9b57159f4575108df648b3535fb/category_encoders-1.2.2.tar.gz (10 kB)\r\n",
      "  Downloading https://mirrors.aliyun.com/pypi/packages/8e/3c/fa0d3b24c6e143efb6fa0590551e3e14cf2f097ea5c5f84dd96aa25e1188/category_encoders-1.2.1.tar.gz (6.5 kB)\r\n",
      "  Downloading https://mirrors.aliyun.com/pypi/packages/dc/79/a727487faa1c0354024bd0192462f8c7e1d8a3b59119e09e101bc46249ac/category_encoders-1.2.0.tar.gz (6.5 kB)\r\n",
      "  Downloading https://mirrors.aliyun.com/pypi/packages/e9/6d/953cc89756b692693618413f30f03fa981c92210eb21c30d8d6ec4e32e89/category_encoders-1.1.2.tar.gz (5.9 kB)\r\n",
      "Building wheels for collected packages: category-encoders\r\n",
      "  Building wheel for category-encoders (setup.py) ... \u001B[?25lerror\r\n",
      "\u001B[31m  ERROR: Command errored out with exit status -9:\r\n",
      "   command: /Users/fyenne/miniforge3/envs/tf24/bin/python3.8 -u -c 'import sys, setuptools, tokenize; sys.argv[0] = '\"'\"'/private/var/folders/3g/xmfmfdws08g7_rv6hwgr8dpw0000gn/T/pip-install-c8v0ttn_/category-encoders_90fd68fc746745f8bc9ad57f99f7cc8f/setup.py'\"'\"'; __file__='\"'\"'/private/var/folders/3g/xmfmfdws08g7_rv6hwgr8dpw0000gn/T/pip-install-c8v0ttn_/category-encoders_90fd68fc746745f8bc9ad57f99f7cc8f/setup.py'\"'\"';f=getattr(tokenize, '\"'\"'open'\"'\"', open)(__file__);code=f.read().replace('\"'\"'\\r\\n'\"'\"', '\"'\"'\\n'\"'\"');f.close();exec(compile(code, __file__, '\"'\"'exec'\"'\"'))' bdist_wheel -d /private/var/folders/3g/xmfmfdws08g7_rv6hwgr8dpw0000gn/T/pip-wheel-fse6ayoz\r\n",
      "       cwd: /private/var/folders/3g/xmfmfdws08g7_rv6hwgr8dpw0000gn/T/pip-install-c8v0ttn_/category-encoders_90fd68fc746745f8bc9ad57f99f7cc8f/\r\n",
      "  Complete output (0 lines):\r\n",
      "  ----------------------------------------\u001B[0m\r\n",
      "\u001B[31m  ERROR: Failed building wheel for category-encoders\u001B[0m\r\n",
      "\u001B[?25h  Running setup.py clean for category-encoders\r\n",
      "Failed to build category-encoders\r\n",
      "Installing collected packages: category-encoders\r\n",
      "    Running setup.py install for category-encoders ... \u001B[?25l-\b \berror\r\n",
      "\u001B[31m    ERROR: Command errored out with exit status -9:\r\n",
      "     command: /Users/fyenne/miniforge3/envs/tf24/bin/python3.8 -u -c 'import sys, setuptools, tokenize; sys.argv[0] = '\"'\"'/private/var/folders/3g/xmfmfdws08g7_rv6hwgr8dpw0000gn/T/pip-install-c8v0ttn_/category-encoders_90fd68fc746745f8bc9ad57f99f7cc8f/setup.py'\"'\"'; __file__='\"'\"'/private/var/folders/3g/xmfmfdws08g7_rv6hwgr8dpw0000gn/T/pip-install-c8v0ttn_/category-encoders_90fd68fc746745f8bc9ad57f99f7cc8f/setup.py'\"'\"';f=getattr(tokenize, '\"'\"'open'\"'\"', open)(__file__);code=f.read().replace('\"'\"'\\r\\n'\"'\"', '\"'\"'\\n'\"'\"');f.close();exec(compile(code, __file__, '\"'\"'exec'\"'\"'))' install --record /private/var/folders/3g/xmfmfdws08g7_rv6hwgr8dpw0000gn/T/pip-record-m9w78oji/install-record.txt --single-version-externally-managed --compile --install-headers /Users/fyenne/miniforge3/envs/tf24/include/python3.8/category-encoders\r\n",
      "         cwd: /private/var/folders/3g/xmfmfdws08g7_rv6hwgr8dpw0000gn/T/pip-install-c8v0ttn_/category-encoders_90fd68fc746745f8bc9ad57f99f7cc8f/\r\n",
      "    Complete output (56 lines):\r\n",
      "    running install\r\n",
      "    running build\r\n",
      "    running build_py\r\n",
      "    creating build\r\n",
      "    creating build/lib\r\n",
      "    creating build/lib/source_data\r\n",
      "    copying source_data/loaders.py -> build/lib/source_data\r\n",
      "    copying source_data/__init__.py -> build/lib/source_data\r\n",
      "    creating build/lib/category_encoders\r\n",
      "    copying category_encoders/binary.py -> build/lib/category_encoders\r\n",
      "    copying category_encoders/ordinal.py -> build/lib/category_encoders\r\n",
      "    copying category_encoders/helmert.py -> build/lib/category_encoders\r\n",
      "    copying category_encoders/__init__.py -> build/lib/category_encoders\r\n",
      "    copying category_encoders/backward_difference.py -> build/lib/category_encoders\r\n",
      "    copying category_encoders/utils.py -> build/lib/category_encoders\r\n",
      "    copying category_encoders/one_hot.py -> build/lib/category_encoders\r\n",
      "    copying category_encoders/sum_coding.py -> build/lib/category_encoders\r\n",
      "    copying category_encoders/polynomial.py -> build/lib/category_encoders\r\n",
      "    copying category_encoders/hashing.py -> build/lib/category_encoders\r\n",
      "    running egg_info\r\n",
      "    writing category_encoders.egg-info/PKG-INFO\r\n",
      "    writing dependency_links to category_encoders.egg-info/dependency_links.txt\r\n",
      "    writing top-level names to category_encoders.egg-info/top_level.txt\r\n",
      "    reading manifest file 'category_encoders.egg-info/SOURCES.txt'\r\n",
      "    reading manifest template 'MANIFEST.in'\r\n",
      "    writing manifest file 'category_encoders.egg-info/SOURCES.txt'\r\n",
      "    running install_lib\r\n",
      "    creating /Users/fyenne/miniforge3/envs/tf24/lib/python3.8/site-packages/source_data\r\n",
      "    copying build/lib/source_data/loaders.py -> /Users/fyenne/miniforge3/envs/tf24/lib/python3.8/site-packages/source_data\r\n",
      "    copying build/lib/source_data/__init__.py -> /Users/fyenne/miniforge3/envs/tf24/lib/python3.8/site-packages/source_data\r\n",
      "    creating /Users/fyenne/miniforge3/envs/tf24/lib/python3.8/site-packages/category_encoders\r\n",
      "    copying build/lib/category_encoders/binary.py -> /Users/fyenne/miniforge3/envs/tf24/lib/python3.8/site-packages/category_encoders\r\n",
      "    copying build/lib/category_encoders/ordinal.py -> /Users/fyenne/miniforge3/envs/tf24/lib/python3.8/site-packages/category_encoders\r\n",
      "    copying build/lib/category_encoders/helmert.py -> /Users/fyenne/miniforge3/envs/tf24/lib/python3.8/site-packages/category_encoders\r\n",
      "    copying build/lib/category_encoders/__init__.py -> /Users/fyenne/miniforge3/envs/tf24/lib/python3.8/site-packages/category_encoders\r\n",
      "    copying build/lib/category_encoders/backward_difference.py -> /Users/fyenne/miniforge3/envs/tf24/lib/python3.8/site-packages/category_encoders\r\n",
      "    copying build/lib/category_encoders/utils.py -> /Users/fyenne/miniforge3/envs/tf24/lib/python3.8/site-packages/category_encoders\r\n",
      "    copying build/lib/category_encoders/one_hot.py -> /Users/fyenne/miniforge3/envs/tf24/lib/python3.8/site-packages/category_encoders\r\n",
      "    copying build/lib/category_encoders/sum_coding.py -> /Users/fyenne/miniforge3/envs/tf24/lib/python3.8/site-packages/category_encoders\r\n",
      "    copying build/lib/category_encoders/polynomial.py -> /Users/fyenne/miniforge3/envs/tf24/lib/python3.8/site-packages/category_encoders\r\n",
      "    copying build/lib/category_encoders/hashing.py -> /Users/fyenne/miniforge3/envs/tf24/lib/python3.8/site-packages/category_encoders\r\n",
      "    byte-compiling /Users/fyenne/miniforge3/envs/tf24/lib/python3.8/site-packages/source_data/loaders.py to loaders.cpython-38.pyc\r\n",
      "    byte-compiling /Users/fyenne/miniforge3/envs/tf24/lib/python3.8/site-packages/source_data/__init__.py to __init__.cpython-38.pyc\r\n",
      "    byte-compiling /Users/fyenne/miniforge3/envs/tf24/lib/python3.8/site-packages/category_encoders/binary.py to binary.cpython-38.pyc\r\n",
      "    byte-compiling /Users/fyenne/miniforge3/envs/tf24/lib/python3.8/site-packages/category_encoders/ordinal.py to ordinal.cpython-38.pyc\r\n",
      "    byte-compiling /Users/fyenne/miniforge3/envs/tf24/lib/python3.8/site-packages/category_encoders/helmert.py to helmert.cpython-38.pyc\r\n",
      "    byte-compiling /Users/fyenne/miniforge3/envs/tf24/lib/python3.8/site-packages/category_encoders/__init__.py to __init__.cpython-38.pyc\r\n",
      "    byte-compiling /Users/fyenne/miniforge3/envs/tf24/lib/python3.8/site-packages/category_encoders/backward_difference.py to backward_difference.cpython-38.pyc\r\n",
      "    byte-compiling /Users/fyenne/miniforge3/envs/tf24/lib/python3.8/site-packages/category_encoders/utils.py to utils.cpython-38.pyc\r\n",
      "    byte-compiling /Users/fyenne/miniforge3/envs/tf24/lib/python3.8/site-packages/category_encoders/one_hot.py to one_hot.cpython-38.pyc\r\n",
      "    byte-compiling /Users/fyenne/miniforge3/envs/tf24/lib/python3.8/site-packages/category_encoders/sum_coding.py to sum_coding.cpython-38.pyc\r\n",
      "    byte-compiling /Users/fyenne/miniforge3/envs/tf24/lib/python3.8/site-packages/category_encoders/polynomial.py to polynomial.cpython-38.pyc\r\n",
      "    byte-compiling /Users/fyenne/miniforge3/envs/tf24/lib/python3.8/site-packages/category_encoders/hashing.py to hashing.cpython-38.pyc\r\n",
      "    running install_egg_info\r\n",
      "    Copying category_encoders.egg-info to /Users/fyenne/miniforge3/envs/tf24/lib/python3.8/site-packages/category_encoders-1.1.2-py3.8.egg-info\r\n",
      "    running install_scripts\r\n",
      "    ----------------------------------------\u001B[0m\r\n",
      "\u001B[31mERROR: Command errored out with exit status -9: /Users/fyenne/miniforge3/envs/tf24/bin/python3.8 -u -c 'import sys, setuptools, tokenize; sys.argv[0] = '\"'\"'/private/var/folders/3g/xmfmfdws08g7_rv6hwgr8dpw0000gn/T/pip-install-c8v0ttn_/category-encoders_90fd68fc746745f8bc9ad57f99f7cc8f/setup.py'\"'\"'; __file__='\"'\"'/private/var/folders/3g/xmfmfdws08g7_rv6hwgr8dpw0000gn/T/pip-install-c8v0ttn_/category-encoders_90fd68fc746745f8bc9ad57f99f7cc8f/setup.py'\"'\"';f=getattr(tokenize, '\"'\"'open'\"'\"', open)(__file__);code=f.read().replace('\"'\"'\\r\\n'\"'\"', '\"'\"'\\n'\"'\"');f.close();exec(compile(code, __file__, '\"'\"'exec'\"'\"'))' install --record /private/var/folders/3g/xmfmfdws08g7_rv6hwgr8dpw0000gn/T/pip-record-m9w78oji/install-record.txt --single-version-externally-managed --compile --install-headers /Users/fyenne/miniforge3/envs/tf24/include/python3.8/category-encoders Check the logs for full command output.\u001B[0m\r\n",
      "\u001B[?25h"
     ]
    }
   ],
   "source": [
    "!pip install category_encoders"
   ],
   "metadata": {
    "collapsed": false,
    "pycharm": {
     "name": "#%%\n"
    }
   }
  },
  {
   "cell_type": "code",
   "execution_count": null,
   "outputs": [],
   "source": [],
   "metadata": {
    "collapsed": false,
    "pycharm": {
     "name": "#%%\n"
    }
   }
  },
  {
   "cell_type": "code",
   "execution_count": 73,
   "outputs": [
    {
     "data": {
      "text/plain": "222222222"
     },
     "execution_count": 73,
     "metadata": {},
     "output_type": "execute_result"
    }
   ],
   "source": [
    "111111111*2"
   ],
   "metadata": {
    "collapsed": false,
    "pycharm": {
     "name": "#%%time\n"
    }
   }
  },
  {
   "cell_type": "code",
   "execution_count": null,
   "outputs": [],
   "source": [],
   "metadata": {
    "collapsed": false,
    "pycharm": {
     "name": "#%%\n"
    }
   }
  }
 ],
 "metadata": {
  "kernelspec": {
   "display_name": "Python 3",
   "language": "python",
   "name": "python3"
  },
  "language_info": {
   "codemirror_mode": {
    "name": "ipython",
    "version": 2
   },
   "file_extension": ".py",
   "mimetype": "text/x-python",
   "name": "python",
   "nbconvert_exporter": "python",
   "pygments_lexer": "ipython2",
   "version": "2.7.6"
  }
 },
 "nbformat": 4,
 "nbformat_minor": 0
}