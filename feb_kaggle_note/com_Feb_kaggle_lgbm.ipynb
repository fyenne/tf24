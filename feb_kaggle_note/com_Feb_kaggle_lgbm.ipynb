{
 "cells": [
  {
   "cell_type": "code",
   "execution_count": 2,
   "metadata": {
    "collapsed": true
   },
   "outputs": [],
   "source": [
    "import pandas as pd\n",
    "import numpy as np\n",
    "import matplotlib.pyplot as plt\n",
    "import seaborn as sns\n"
   ]
  },
  {
   "cell_type": "code",
   "execution_count": 4,
   "outputs": [
    {
     "ename": "ModuleNotFoundError",
     "evalue": "No module named 'lightgbm'",
     "output_type": "error",
     "traceback": [
      "\u001B[0;31m---------------------------------------------------------------------------\u001B[0m",
      "\u001B[0;31mModuleNotFoundError\u001B[0m                       Traceback (most recent call last)",
      "\u001B[0;32m<ipython-input-4-03d8c9efb5a2>\u001B[0m in \u001B[0;36m<module>\u001B[0;34m\u001B[0m\n\u001B[1;32m      3\u001B[0m \u001B[0;32mfrom\u001B[0m \u001B[0msklearn\u001B[0m\u001B[0;34m.\u001B[0m\u001B[0mpreprocessing\u001B[0m \u001B[0;32mimport\u001B[0m \u001B[0mLabelEncoder\u001B[0m\u001B[0;34m\u001B[0m\u001B[0;34m\u001B[0m\u001B[0m\n\u001B[1;32m      4\u001B[0m \u001B[0;34m\u001B[0m\u001B[0m\n\u001B[0;32m----> 5\u001B[0;31m \u001B[0;32mfrom\u001B[0m \u001B[0mlightgbm\u001B[0m \u001B[0;32mimport\u001B[0m \u001B[0mLGBMRegressor\u001B[0m\u001B[0;34m\u001B[0m\u001B[0;34m\u001B[0m\u001B[0m\n\u001B[0m\u001B[1;32m      6\u001B[0m \u001B[0;34m\u001B[0m\u001B[0m\n\u001B[1;32m      7\u001B[0m \u001B[0;32mimport\u001B[0m \u001B[0moptuna\u001B[0m\u001B[0;34m\u001B[0m\u001B[0;34m\u001B[0m\u001B[0m\n",
      "\u001B[0;31mModuleNotFoundError\u001B[0m: No module named 'lightgbm'"
     ]
    }
   ],
   "source": [
    "from sklearn.model_selection import KFold, GridSearchCV, cross_validate, train_test_split\n",
    "from sklearn.metrics import mean_squared_error\n",
    "from sklearn.preprocessing import LabelEncoder\n",
    "\n",
    "from lightgbm import LGBMRegressor\n",
    "\n",
    "import optuna\n",
    "from functools import partial\n",
    "\n",
    "import warnings\n",
    "warnings.filterwarnings('ignore')"
   ],
   "metadata": {
    "collapsed": false,
    "pycharm": {
     "name": "#%%\n"
    }
   }
  },
  {
   "cell_type": "code",
   "execution_count": 3,
   "outputs": [
    {
     "name": "stdout",
     "output_type": "stream",
     "text": [
      "Looking in indexes: https://mirrors.aliyun.com/pypi/simple/\r\n",
      "Collecting lightgbm\r\n",
      "  Downloading https://mirrors.aliyun.com/pypi/packages/cf/65/368931f1f234149e14fc6075dbeb1ad8a8aebb105aa11fe8631c72c1bdcf/lightgbm-3.1.1.tar.gz (588 kB)\r\n",
      "\u001B[K     |████████████████████████████████| 588 kB 1.6 MB/s eta 0:00:01\r\n",
      "\u001B[?25hRequirement already satisfied: wheel in /Users/fyenne/miniforge3/envs/tf24/lib/python3.8/site-packages (from lightgbm) (0.36.2)\r\n",
      "Requirement already satisfied: numpy in /Users/fyenne/miniforge3/envs/tf24/lib/python3.8/site-packages (from lightgbm) (1.20.0)\r\n",
      "Requirement already satisfied: scipy in /Users/fyenne/miniforge3/envs/tf24/lib/python3.8/site-packages (from lightgbm) (1.6.0)\r\n",
      "Requirement already satisfied: scikit-learn!=0.22.0 in /Users/fyenne/miniforge3/envs/tf24/lib/python3.8/site-packages (from lightgbm) (0.24.1)\r\n",
      "Requirement already satisfied: threadpoolctl>=2.0.0 in /Users/fyenne/miniforge3/envs/tf24/lib/python3.8/site-packages (from scikit-learn!=0.22.0->lightgbm) (2.1.0)\r\n",
      "Requirement already satisfied: joblib>=0.11 in /Users/fyenne/miniforge3/envs/tf24/lib/python3.8/site-packages (from scikit-learn!=0.22.0->lightgbm) (1.0.0)\r\n",
      "Building wheels for collected packages: lightgbm\r\n",
      "  Building wheel for lightgbm (setup.py) ... \u001B[?25l-\b \berror\r\n",
      "\u001B[31m  ERROR: Command errored out with exit status 1:\r\n",
      "   command: /Users/fyenne/miniforge3/envs/tf24/bin/python3 -u -c 'import sys, setuptools, tokenize; sys.argv[0] = '\"'\"'/private/var/folders/3g/xmfmfdws08g7_rv6hwgr8dpw0000gn/T/pip-install-r017xisi/lightgbm_4cbe67dec24447758b464e1c93c05e1e/setup.py'\"'\"'; __file__='\"'\"'/private/var/folders/3g/xmfmfdws08g7_rv6hwgr8dpw0000gn/T/pip-install-r017xisi/lightgbm_4cbe67dec24447758b464e1c93c05e1e/setup.py'\"'\"';f=getattr(tokenize, '\"'\"'open'\"'\"', open)(__file__);code=f.read().replace('\"'\"'\\r\\n'\"'\"', '\"'\"'\\n'\"'\"');f.close();exec(compile(code, __file__, '\"'\"'exec'\"'\"'))' bdist_wheel -d /private/var/folders/3g/xmfmfdws08g7_rv6hwgr8dpw0000gn/T/pip-wheel-w0cg7pmf\r\n",
      "       cwd: /private/var/folders/3g/xmfmfdws08g7_rv6hwgr8dpw0000gn/T/pip-install-r017xisi/lightgbm_4cbe67dec24447758b464e1c93c05e1e/\r\n",
      "  Complete output (75 lines):\r\n",
      "  running bdist_wheel\r\n",
      "  running build\r\n",
      "  running build_py\r\n",
      "  creating build\r\n",
      "  creating build/lib\r\n",
      "  creating build/lib/lightgbm\r\n",
      "  copying lightgbm/callback.py -> build/lib/lightgbm\r\n",
      "  copying lightgbm/compat.py -> build/lib/lightgbm\r\n",
      "  copying lightgbm/plotting.py -> build/lib/lightgbm\r\n",
      "  copying lightgbm/__init__.py -> build/lib/lightgbm\r\n",
      "  copying lightgbm/engine.py -> build/lib/lightgbm\r\n",
      "  copying lightgbm/basic.py -> build/lib/lightgbm\r\n",
      "  copying lightgbm/libpath.py -> build/lib/lightgbm\r\n",
      "  copying lightgbm/sklearn.py -> build/lib/lightgbm\r\n",
      "  running egg_info\r\n",
      "  writing lightgbm.egg-info/PKG-INFO\r\n",
      "  writing dependency_links to lightgbm.egg-info/dependency_links.txt\r\n",
      "  writing requirements to lightgbm.egg-info/requires.txt\r\n",
      "  writing top-level names to lightgbm.egg-info/top_level.txt\r\n",
      "  reading manifest file 'lightgbm.egg-info/SOURCES.txt'\r\n",
      "  reading manifest template 'MANIFEST.in'\r\n",
      "  no previously-included directories found matching 'build'\r\n",
      "  warning: no files found matching '*.so' under directory 'lightgbm'\r\n",
      "  warning: no files found matching '*.so' under directory 'compile'\r\n",
      "  warning: no files found matching '*.dll' under directory 'compile/Release'\r\n",
      "  warning: no files found matching '*.dll' under directory 'compile/windows/x64/DLL'\r\n",
      "  warning: no previously-included files matching '*.py[co]' found anywhere in distribution\r\n",
      "  warning: no previously-included files found matching 'compile/compute/.git'\r\n",
      "  writing manifest file 'lightgbm.egg-info/SOURCES.txt'\r\n",
      "  copying lightgbm/VERSION.txt -> build/lib/lightgbm\r\n",
      "  installing to build/bdist.macosx-11.0-arm64/wheel\r\n",
      "  running install\r\n",
      "  INFO:LightGBM:Starting to compile the library.\r\n",
      "  INFO:LightGBM:Starting to compile with CMake.\r\n",
      "  Traceback (most recent call last):\r\n",
      "    File \"/private/var/folders/3g/xmfmfdws08g7_rv6hwgr8dpw0000gn/T/pip-install-r017xisi/lightgbm_4cbe67dec24447758b464e1c93c05e1e/setup.py\", line 106, in silent_call\r\n",
      "      output = subprocess.check_output(cmd, stderr=subprocess.STDOUT)\r\n",
      "    File \"/Users/fyenne/miniforge3/envs/tf24/lib/python3.8/subprocess.py\", line 411, in check_output\r\n",
      "      return run(*popenargs, stdout=PIPE, timeout=timeout, check=True,\r\n",
      "    File \"/Users/fyenne/miniforge3/envs/tf24/lib/python3.8/subprocess.py\", line 489, in run\r\n",
      "      with Popen(*popenargs, **kwargs) as process:\r\n",
      "    File \"/Users/fyenne/miniforge3/envs/tf24/lib/python3.8/subprocess.py\", line 854, in __init__\r\n",
      "      self._execute_child(args, executable, preexec_fn, close_fds,\r\n",
      "    File \"/Users/fyenne/miniforge3/envs/tf24/lib/python3.8/subprocess.py\", line 1702, in _execute_child\r\n",
      "      raise child_exception_type(errno_num, err_msg, err_filename)\r\n",
      "  FileNotFoundError: [Errno 2] No such file or directory: 'cmake'\r\n",
      "  \r\n",
      "  During handling of the above exception, another exception occurred:\r\n",
      "  \r\n",
      "  Traceback (most recent call last):\r\n",
      "    File \"<string>\", line 1, in <module>\r\n",
      "    File \"/private/var/folders/3g/xmfmfdws08g7_rv6hwgr8dpw0000gn/T/pip-install-r017xisi/lightgbm_4cbe67dec24447758b464e1c93c05e1e/setup.py\", line 339, in <module>\r\n",
      "      setup(name='lightgbm',\r\n",
      "    File \"/Users/fyenne/miniforge3/envs/tf24/lib/python3.8/site-packages/setuptools/__init__.py\", line 153, in setup\r\n",
      "      return distutils.core.setup(**attrs)\r\n",
      "    File \"/Users/fyenne/miniforge3/envs/tf24/lib/python3.8/distutils/core.py\", line 148, in setup\r\n",
      "      dist.run_commands()\r\n",
      "    File \"/Users/fyenne/miniforge3/envs/tf24/lib/python3.8/distutils/dist.py\", line 966, in run_commands\r\n",
      "      self.run_command(cmd)\r\n",
      "    File \"/Users/fyenne/miniforge3/envs/tf24/lib/python3.8/distutils/dist.py\", line 985, in run_command\r\n",
      "      cmd_obj.run()\r\n",
      "    File \"/Users/fyenne/miniforge3/envs/tf24/lib/python3.8/site-packages/wheel/bdist_wheel.py\", line 335, in run\r\n",
      "      self.run_command('install')\r\n",
      "    File \"/Users/fyenne/miniforge3/envs/tf24/lib/python3.8/distutils/cmd.py\", line 313, in run_command\r\n",
      "      self.distribution.run_command(command)\r\n",
      "    File \"/Users/fyenne/miniforge3/envs/tf24/lib/python3.8/distutils/dist.py\", line 985, in run_command\r\n",
      "      cmd_obj.run()\r\n",
      "    File \"/private/var/folders/3g/xmfmfdws08g7_rv6hwgr8dpw0000gn/T/pip-install-r017xisi/lightgbm_4cbe67dec24447758b464e1c93c05e1e/setup.py\", line 253, in run\r\n",
      "      compile_cpp(use_mingw=self.mingw, use_gpu=self.gpu, use_cuda=self.cuda, use_mpi=self.mpi,\r\n",
      "    File \"/private/var/folders/3g/xmfmfdws08g7_rv6hwgr8dpw0000gn/T/pip-install-r017xisi/lightgbm_4cbe67dec24447758b464e1c93c05e1e/setup.py\", line 203, in compile_cpp\r\n",
      "      silent_call(cmake_cmd, raise_error=True, error_msg='Please install CMake and all required dependencies first')\r\n",
      "    File \"/private/var/folders/3g/xmfmfdws08g7_rv6hwgr8dpw0000gn/T/pip-install-r017xisi/lightgbm_4cbe67dec24447758b464e1c93c05e1e/setup.py\", line 115, in silent_call\r\n",
      "      raise Exception(\"\\n\".join((error_msg, LOG_NOTICE)))\r\n",
      "  Exception: Please install CMake and all required dependencies first\r\n",
      "  The full version of error log was saved into /Users/fyenne/LightGBM_compilation.log\r\n",
      "  ----------------------------------------\u001B[0m\r\n",
      "\u001B[31m  ERROR: Failed building wheel for lightgbm\u001B[0m\r\n",
      "\u001B[?25h  Running setup.py clean for lightgbm\r\n",
      "Failed to build lightgbm\r\n",
      "Installing collected packages: lightgbm\r\n",
      "    Running setup.py install for lightgbm ... \u001B[?25l-\b \berror\r\n",
      "\u001B[31m    ERROR: Command errored out with exit status 1:\r\n",
      "     command: /Users/fyenne/miniforge3/envs/tf24/bin/python3 -u -c 'import sys, setuptools, tokenize; sys.argv[0] = '\"'\"'/private/var/folders/3g/xmfmfdws08g7_rv6hwgr8dpw0000gn/T/pip-install-r017xisi/lightgbm_4cbe67dec24447758b464e1c93c05e1e/setup.py'\"'\"'; __file__='\"'\"'/private/var/folders/3g/xmfmfdws08g7_rv6hwgr8dpw0000gn/T/pip-install-r017xisi/lightgbm_4cbe67dec24447758b464e1c93c05e1e/setup.py'\"'\"';f=getattr(tokenize, '\"'\"'open'\"'\"', open)(__file__);code=f.read().replace('\"'\"'\\r\\n'\"'\"', '\"'\"'\\n'\"'\"');f.close();exec(compile(code, __file__, '\"'\"'exec'\"'\"'))' install --record /private/var/folders/3g/xmfmfdws08g7_rv6hwgr8dpw0000gn/T/pip-record-r9k1648w/install-record.txt --single-version-externally-managed --compile --install-headers /Users/fyenne/miniforge3/envs/tf24/include/python3.8/lightgbm\r\n",
      "         cwd: /private/var/folders/3g/xmfmfdws08g7_rv6hwgr8dpw0000gn/T/pip-install-r017xisi/lightgbm_4cbe67dec24447758b464e1c93c05e1e/\r\n",
      "    Complete output (39 lines):\r\n",
      "    running install\r\n",
      "    removing '/private/var/folders/3g/xmfmfdws08g7_rv6hwgr8dpw0000gn/T/pip-install-r017xisi/lightgbm_4cbe67dec24447758b464e1c93c05e1e/build_cpp' (and everything under it)\r\n",
      "    INFO:LightGBM:Starting to compile the library.\r\n",
      "    INFO:LightGBM:Starting to compile with CMake.\r\n",
      "    Traceback (most recent call last):\r\n",
      "      File \"/private/var/folders/3g/xmfmfdws08g7_rv6hwgr8dpw0000gn/T/pip-install-r017xisi/lightgbm_4cbe67dec24447758b464e1c93c05e1e/setup.py\", line 106, in silent_call\r\n",
      "        output = subprocess.check_output(cmd, stderr=subprocess.STDOUT)\r\n",
      "      File \"/Users/fyenne/miniforge3/envs/tf24/lib/python3.8/subprocess.py\", line 411, in check_output\r\n",
      "        return run(*popenargs, stdout=PIPE, timeout=timeout, check=True,\r\n",
      "      File \"/Users/fyenne/miniforge3/envs/tf24/lib/python3.8/subprocess.py\", line 489, in run\r\n",
      "        with Popen(*popenargs, **kwargs) as process:\r\n",
      "      File \"/Users/fyenne/miniforge3/envs/tf24/lib/python3.8/subprocess.py\", line 854, in __init__\r\n",
      "        self._execute_child(args, executable, preexec_fn, close_fds,\r\n",
      "      File \"/Users/fyenne/miniforge3/envs/tf24/lib/python3.8/subprocess.py\", line 1702, in _execute_child\r\n",
      "        raise child_exception_type(errno_num, err_msg, err_filename)\r\n",
      "    FileNotFoundError: [Errno 2] No such file or directory: 'cmake'\r\n",
      "    \r\n",
      "    During handling of the above exception, another exception occurred:\r\n",
      "    \r\n",
      "    Traceback (most recent call last):\r\n",
      "      File \"<string>\", line 1, in <module>\r\n",
      "      File \"/private/var/folders/3g/xmfmfdws08g7_rv6hwgr8dpw0000gn/T/pip-install-r017xisi/lightgbm_4cbe67dec24447758b464e1c93c05e1e/setup.py\", line 339, in <module>\r\n",
      "        setup(name='lightgbm',\r\n",
      "      File \"/Users/fyenne/miniforge3/envs/tf24/lib/python3.8/site-packages/setuptools/__init__.py\", line 153, in setup\r\n",
      "        return distutils.core.setup(**attrs)\r\n",
      "      File \"/Users/fyenne/miniforge3/envs/tf24/lib/python3.8/distutils/core.py\", line 148, in setup\r\n",
      "        dist.run_commands()\r\n",
      "      File \"/Users/fyenne/miniforge3/envs/tf24/lib/python3.8/distutils/dist.py\", line 966, in run_commands\r\n",
      "        self.run_command(cmd)\r\n",
      "      File \"/Users/fyenne/miniforge3/envs/tf24/lib/python3.8/distutils/dist.py\", line 985, in run_command\r\n",
      "        cmd_obj.run()\r\n",
      "      File \"/private/var/folders/3g/xmfmfdws08g7_rv6hwgr8dpw0000gn/T/pip-install-r017xisi/lightgbm_4cbe67dec24447758b464e1c93c05e1e/setup.py\", line 253, in run\r\n",
      "        compile_cpp(use_mingw=self.mingw, use_gpu=self.gpu, use_cuda=self.cuda, use_mpi=self.mpi,\r\n",
      "      File \"/private/var/folders/3g/xmfmfdws08g7_rv6hwgr8dpw0000gn/T/pip-install-r017xisi/lightgbm_4cbe67dec24447758b464e1c93c05e1e/setup.py\", line 203, in compile_cpp\r\n",
      "        silent_call(cmake_cmd, raise_error=True, error_msg='Please install CMake and all required dependencies first')\r\n",
      "      File \"/private/var/folders/3g/xmfmfdws08g7_rv6hwgr8dpw0000gn/T/pip-install-r017xisi/lightgbm_4cbe67dec24447758b464e1c93c05e1e/setup.py\", line 115, in silent_call\r\n",
      "        raise Exception(\"\\n\".join((error_msg, LOG_NOTICE)))\r\n",
      "    Exception: Please install CMake and all required dependencies first\r\n",
      "    The full version of error log was saved into /Users/fyenne/LightGBM_compilation.log\r\n",
      "    ----------------------------------------\u001B[0m\r\n",
      "\u001B[31mERROR: Command errored out with exit status 1: /Users/fyenne/miniforge3/envs/tf24/bin/python3 -u -c 'import sys, setuptools, tokenize; sys.argv[0] = '\"'\"'/private/var/folders/3g/xmfmfdws08g7_rv6hwgr8dpw0000gn/T/pip-install-r017xisi/lightgbm_4cbe67dec24447758b464e1c93c05e1e/setup.py'\"'\"'; __file__='\"'\"'/private/var/folders/3g/xmfmfdws08g7_rv6hwgr8dpw0000gn/T/pip-install-r017xisi/lightgbm_4cbe67dec24447758b464e1c93c05e1e/setup.py'\"'\"';f=getattr(tokenize, '\"'\"'open'\"'\"', open)(__file__);code=f.read().replace('\"'\"'\\r\\n'\"'\"', '\"'\"'\\n'\"'\"');f.close();exec(compile(code, __file__, '\"'\"'exec'\"'\"'))' install --record /private/var/folders/3g/xmfmfdws08g7_rv6hwgr8dpw0000gn/T/pip-record-r9k1648w/install-record.txt --single-version-externally-managed --compile --install-headers /Users/fyenne/miniforge3/envs/tf24/include/python3.8/lightgbm Check the logs for full command output.\u001B[0m\r\n",
      "\u001B[?25h"
     ]
    }
   ],
   "source": [
    "# !pip install lightgbm"
   ],
   "metadata": {
    "collapsed": false,
    "pycharm": {
     "name": "#%%\n"
    }
   }
  },
  {
   "cell_type": "code",
   "execution_count": 1,
   "outputs": [],
   "source": [
    "import pandas as pd\n",
    "json_file = \"https://raw.githubusercontent.com/plotly/datasets/master/geojson-counties-fips.json\"\n",
    "df = pd.read_json(json_file)"
   ],
   "metadata": {
    "collapsed": false,
    "pycharm": {
     "name": "#%%\n"
    }
   }
  },
  {
   "cell_type": "code",
   "execution_count": 2,
   "outputs": [],
   "source": [
    "df.to_json('datajs.json')"
   ],
   "metadata": {
    "collapsed": false,
    "pycharm": {
     "name": "#%%\n"
    }
   }
  },
  {
   "cell_type": "code",
   "execution_count": null,
   "outputs": [],
   "source": [
    "import sys"
   ],
   "metadata": {
    "collapsed": false,
    "pycharm": {
     "name": "#%%\n"
    }
   }
  },
  {
   "cell_type": "code",
   "execution_count": 2,
   "outputs": [
    {
     "data": {
      "text/plain": "['/Users/fyenne/Downloads/booooks/semester5/tf24/tf24_Folder',\n '/Users/fyenne/Downloads/booooks/semester5/tf24/tf24_Folder',\n '/Users/fyenne/anaconda3/lib/python37.zip',\n '/Users/fyenne/anaconda3/lib/python3.7',\n '/Users/fyenne/anaconda3/lib/python3.7/lib-dynload',\n '',\n '/Users/fyenne/.local/lib/python3.7/site-packages',\n '/Users/fyenne/anaconda3/lib/python3.7/site-packages',\n '/Users/fyenne/anaconda3/lib/python3.7/site-packages/IPython/extensions',\n '/Users/fyenne/.ipython']"
     },
     "execution_count": 2,
     "metadata": {},
     "output_type": "execute_result"
    }
   ],
   "source": [
    "sys.path"
   ],
   "metadata": {
    "collapsed": false,
    "pycharm": {
     "name": "#%%\n"
    }
   }
  },
  {
   "cell_type": "code",
   "execution_count": 30,
   "outputs": [],
   "source": [
    "sys.path.append('/Users/fyenne/.env/lib/python3.7/site-packages')"
   ],
   "metadata": {
    "collapsed": false,
    "pycharm": {
     "name": "#%%\n"
    }
   }
  },
  {
   "cell_type": "code",
   "execution_count": 43,
   "outputs": [],
   "source": [
    "import site\n",
    "# site.addsitedir(r'/Users/fyenne/.env/lib/python3.7/site-packages')\n",
    "site.addsitedir(r'/Users/fyenne/miniforge3/envs/tf24/lib/python3.8/site-packages')"
   ],
   "metadata": {
    "collapsed": false,
    "pycharm": {
     "name": "#%%\n"
    }
   }
  },
  {
   "cell_type": "code",
   "execution_count": 31,
   "outputs": [],
   "source": [
    "import spacy"
   ],
   "metadata": {
    "collapsed": false,
    "pycharm": {
     "name": "#%%\n"
    }
   }
  },
  {
   "cell_type": "code",
   "execution_count": 32,
   "outputs": [],
   "source": [
    "nlp = spacy.load(\"en_core_web_sm\")"
   ],
   "metadata": {
    "collapsed": false,
    "pycharm": {
     "name": "#%%\n"
    }
   }
  },
  {
   "cell_type": "code",
   "execution_count": 36,
   "outputs": [],
   "source": [
    "doc = nlp(\"Tea is healthy and calming, don't you think? Yes I do\")\n"
   ],
   "metadata": {
    "collapsed": false,
    "pycharm": {
     "name": "#%%\n"
    }
   }
  },
  {
   "cell_type": "code",
   "execution_count": 37,
   "outputs": [
    {
     "name": "stdout",
     "output_type": "stream",
     "text": [
      "Tea\n",
      "is\n",
      "healthy\n",
      "and\n",
      "calming\n",
      ",\n",
      "do\n",
      "n't\n",
      "you\n",
      "think\n",
      "?\n",
      "Yes\n",
      "I\n",
      "do\n"
     ]
    }
   ],
   "source": [
    "for token in doc:\n",
    "    print(token)\n"
   ],
   "metadata": {
    "collapsed": false,
    "pycharm": {
     "name": "#%%\n"
    }
   }
  },
  {
   "cell_type": "code",
   "execution_count": 10,
   "outputs": [
    {
     "name": "stdout",
     "output_type": "stream",
     "text": [
      "Token \t\tLemma \t\tStopword\n",
      "----------------------------------------\n",
      "Tea\t\ttea\t\tFalse\n",
      "is\t\tbe\t\tTrue\n",
      "healthy\t\thealthy\t\tFalse\n",
      "and\t\tand\t\tTrue\n",
      "calming\t\tcalming\t\tFalse\n",
      ",\t\t,\t\tFalse\n",
      "do\t\tdo\t\tTrue\n",
      "n't\t\tn't\t\tTrue\n",
      "you\t\tyou\t\tTrue\n",
      "think\t\tthink\t\tFalse\n",
      "?\t\t?\t\tFalse\n"
     ]
    }
   ],
   "source": [
    "print(f\"Token \\t\\tLemma \\t\\tStopword\".format('Token', 'Lemma', 'Stopword'))\n",
    "print(\"-\"*40)\n",
    "for token in doc:\n",
    "    print(f\"{str(token)}\\t\\t{token.lemma_}\\t\\t{token.is_stop}\")"
   ],
   "metadata": {
    "collapsed": false,
    "pycharm": {
     "name": "#%%\n"
    }
   }
  },
  {
   "cell_type": "code",
   "execution_count": null,
   "outputs": [],
   "source": [
    "# The first is \"lemmatizing.\" The \"lemma\" of a word is its base form.\n",
    "# English stopwords include\n",
    "# \"the\", \"is\", \"and\", \"but\", \"not\"."
   ],
   "metadata": {
    "collapsed": false,
    "pycharm": {
     "name": "#%%\n"
    }
   }
  },
  {
   "cell_type": "code",
   "execution_count": 11,
   "outputs": [],
   "source": [
    "from spacy.matcher import PhraseMatcher\n",
    "matcher = PhraseMatcher(nlp.vocab, attr='LOWER')"
   ],
   "metadata": {
    "collapsed": false,
    "pycharm": {
     "name": "#%%\n"
    }
   }
  },
  {
   "cell_type": "code",
   "execution_count": 12,
   "outputs": [],
   "source": [
    "terms = ['Galaxy Note', 'iPhone 11', 'iPhone XS', 'Google Pixel']\n",
    "patterns = [nlp(text) for text in terms]\n",
    "matcher.add(\"TerminologyList\", patterns)\n"
   ],
   "metadata": {
    "collapsed": false,
    "pycharm": {
     "name": "#%%\n"
    }
   }
  },
  {
   "cell_type": "code",
   "execution_count": 14,
   "outputs": [
    {
     "data": {
      "text/plain": "[Galaxy Note, iPhone 11, iPhone XS, Google Pixel]"
     },
     "execution_count": 14,
     "metadata": {},
     "output_type": "execute_result"
    }
   ],
   "source": [
    "patterns"
   ],
   "metadata": {
    "collapsed": false,
    "pycharm": {
     "name": "#%%\n"
    }
   }
  },
  {
   "cell_type": "code",
   "execution_count": 15,
   "outputs": [
    {
     "name": "stdout",
     "output_type": "stream",
     "text": [
      "[(3766102292120407359, 17, 19), (3766102292120407359, 22, 24), (3766102292120407359, 30, 32), (3766102292120407359, 33, 35)]\n"
     ]
    }
   ],
   "source": [
    "text_doc = nlp(\"Glowing review overall, and some really interesting side-by-side \"\n",
    "               \"photography tests pitting the iPhone 11 Pro against the \"\n",
    "               \"Galaxy Note 10 Plus and last year’s iPhone XS and Google Pixel 3.\")\n",
    "matches = matcher(text_doc)\n",
    "print(matches)\n"
   ],
   "metadata": {
    "collapsed": false,
    "pycharm": {
     "name": "#%%\n"
    }
   }
  },
  {
   "cell_type": "code",
   "execution_count": 17,
   "outputs": [
    {
     "name": "stdout",
     "output_type": "stream",
     "text": [
      "TerminologyList Galaxy Note\n"
     ]
    }
   ],
   "source": [
    "match_id, start, end = matches[1]\n",
    "print(nlp.vocab.strings[match_id], text_doc[start:end])"
   ],
   "metadata": {
    "collapsed": false,
    "pycharm": {
     "name": "#%%\n"
    }
   }
  },
  {
   "cell_type": "code",
   "execution_count": 3,
   "outputs": [],
   "source": [
    "import pandas as pd\n",
    "X_full = pd.read_csv('./home-data-for-ml-course/train.csv', index_col='Id')\n"
   ],
   "metadata": {
    "collapsed": false,
    "pycharm": {
     "name": "#%%\n"
    }
   }
  },
  {
   "cell_type": "code",
   "execution_count": 58,
   "outputs": [],
   "source": [
    "tt = tt.rename({'MSSubClass':'什么'}, axis = 1)"
   ],
   "metadata": {
    "collapsed": false,
    "pycharm": {
     "name": "#%%\n"
    }
   }
  },
  {
   "cell_type": "code",
   "execution_count": 59,
   "outputs": [
    {
     "data": {
      "text/plain": "     什么 MSZoning  LotFrontage  LotArea\nId                                    \n1    60       RL         65.0     8450\n2    20       RL         80.0     9600\n3    60       RL         68.0    11250\n4    70       RL         60.0     9550\n5    60       RL         84.0    14260\n6    50       RL         85.0    14115\n7    20       RL         75.0    10084\n8    60       RL          NaN    10382\n9    50       RM         51.0     6120\n10  190       RL         50.0     7420\n11   20       RL         70.0    11200\n12   60       RL         85.0    11924\n13   20       RL          NaN    12968\n14   20       RL         91.0    10652\n15   20       RL          NaN    10920\n16   45       RM         51.0     6120\n17   20       RL          NaN    11241\n18   90       RL         72.0    10791\n19   20       RL         66.0    13695\n20   20       RL         70.0     7560\n21   60       RL        101.0    14215\n22   45       RM         57.0     7449\n23   20       RL         75.0     9742\n24  120       RM         44.0     4224\n25   20       RL          NaN     8246\n26   20       RL        110.0    14230\n27   20       RL         60.0     7200\n28   20       RL         98.0    11478\n29   20       RL         47.0    16321\n30   30       RM         60.0     6324\n31   70  C (all)         50.0     8500\n32   20       RL          NaN     8544\n33   20       RL         85.0    11049\n34   20       RL         70.0    10552\n35  120       RL         60.0     7313\n36   60       RL        108.0    13418\n37   20       RL        112.0    10859\n38   20       RL         74.0     8532\n39   20       RL         68.0     7922\n40   90       RL         65.0     6040",
      "text/html": "<div>\n<style scoped>\n    .dataframe tbody tr th:only-of-type {\n        vertical-align: middle;\n    }\n\n    .dataframe tbody tr th {\n        vertical-align: top;\n    }\n\n    .dataframe thead th {\n        text-align: right;\n    }\n</style>\n<table border=\"1\" class=\"dataframe\">\n  <thead>\n    <tr style=\"text-align: right;\">\n      <th></th>\n      <th>什么</th>\n      <th>MSZoning</th>\n      <th>LotFrontage</th>\n      <th>LotArea</th>\n    </tr>\n    <tr>\n      <th>Id</th>\n      <th></th>\n      <th></th>\n      <th></th>\n      <th></th>\n    </tr>\n  </thead>\n  <tbody>\n    <tr>\n      <th>1</th>\n      <td>60</td>\n      <td>RL</td>\n      <td>65.0</td>\n      <td>8450</td>\n    </tr>\n    <tr>\n      <th>2</th>\n      <td>20</td>\n      <td>RL</td>\n      <td>80.0</td>\n      <td>9600</td>\n    </tr>\n    <tr>\n      <th>3</th>\n      <td>60</td>\n      <td>RL</td>\n      <td>68.0</td>\n      <td>11250</td>\n    </tr>\n    <tr>\n      <th>4</th>\n      <td>70</td>\n      <td>RL</td>\n      <td>60.0</td>\n      <td>9550</td>\n    </tr>\n    <tr>\n      <th>5</th>\n      <td>60</td>\n      <td>RL</td>\n      <td>84.0</td>\n      <td>14260</td>\n    </tr>\n    <tr>\n      <th>6</th>\n      <td>50</td>\n      <td>RL</td>\n      <td>85.0</td>\n      <td>14115</td>\n    </tr>\n    <tr>\n      <th>7</th>\n      <td>20</td>\n      <td>RL</td>\n      <td>75.0</td>\n      <td>10084</td>\n    </tr>\n    <tr>\n      <th>8</th>\n      <td>60</td>\n      <td>RL</td>\n      <td>NaN</td>\n      <td>10382</td>\n    </tr>\n    <tr>\n      <th>9</th>\n      <td>50</td>\n      <td>RM</td>\n      <td>51.0</td>\n      <td>6120</td>\n    </tr>\n    <tr>\n      <th>10</th>\n      <td>190</td>\n      <td>RL</td>\n      <td>50.0</td>\n      <td>7420</td>\n    </tr>\n    <tr>\n      <th>11</th>\n      <td>20</td>\n      <td>RL</td>\n      <td>70.0</td>\n      <td>11200</td>\n    </tr>\n    <tr>\n      <th>12</th>\n      <td>60</td>\n      <td>RL</td>\n      <td>85.0</td>\n      <td>11924</td>\n    </tr>\n    <tr>\n      <th>13</th>\n      <td>20</td>\n      <td>RL</td>\n      <td>NaN</td>\n      <td>12968</td>\n    </tr>\n    <tr>\n      <th>14</th>\n      <td>20</td>\n      <td>RL</td>\n      <td>91.0</td>\n      <td>10652</td>\n    </tr>\n    <tr>\n      <th>15</th>\n      <td>20</td>\n      <td>RL</td>\n      <td>NaN</td>\n      <td>10920</td>\n    </tr>\n    <tr>\n      <th>16</th>\n      <td>45</td>\n      <td>RM</td>\n      <td>51.0</td>\n      <td>6120</td>\n    </tr>\n    <tr>\n      <th>17</th>\n      <td>20</td>\n      <td>RL</td>\n      <td>NaN</td>\n      <td>11241</td>\n    </tr>\n    <tr>\n      <th>18</th>\n      <td>90</td>\n      <td>RL</td>\n      <td>72.0</td>\n      <td>10791</td>\n    </tr>\n    <tr>\n      <th>19</th>\n      <td>20</td>\n      <td>RL</td>\n      <td>66.0</td>\n      <td>13695</td>\n    </tr>\n    <tr>\n      <th>20</th>\n      <td>20</td>\n      <td>RL</td>\n      <td>70.0</td>\n      <td>7560</td>\n    </tr>\n    <tr>\n      <th>21</th>\n      <td>60</td>\n      <td>RL</td>\n      <td>101.0</td>\n      <td>14215</td>\n    </tr>\n    <tr>\n      <th>22</th>\n      <td>45</td>\n      <td>RM</td>\n      <td>57.0</td>\n      <td>7449</td>\n    </tr>\n    <tr>\n      <th>23</th>\n      <td>20</td>\n      <td>RL</td>\n      <td>75.0</td>\n      <td>9742</td>\n    </tr>\n    <tr>\n      <th>24</th>\n      <td>120</td>\n      <td>RM</td>\n      <td>44.0</td>\n      <td>4224</td>\n    </tr>\n    <tr>\n      <th>25</th>\n      <td>20</td>\n      <td>RL</td>\n      <td>NaN</td>\n      <td>8246</td>\n    </tr>\n    <tr>\n      <th>26</th>\n      <td>20</td>\n      <td>RL</td>\n      <td>110.0</td>\n      <td>14230</td>\n    </tr>\n    <tr>\n      <th>27</th>\n      <td>20</td>\n      <td>RL</td>\n      <td>60.0</td>\n      <td>7200</td>\n    </tr>\n    <tr>\n      <th>28</th>\n      <td>20</td>\n      <td>RL</td>\n      <td>98.0</td>\n      <td>11478</td>\n    </tr>\n    <tr>\n      <th>29</th>\n      <td>20</td>\n      <td>RL</td>\n      <td>47.0</td>\n      <td>16321</td>\n    </tr>\n    <tr>\n      <th>30</th>\n      <td>30</td>\n      <td>RM</td>\n      <td>60.0</td>\n      <td>6324</td>\n    </tr>\n    <tr>\n      <th>31</th>\n      <td>70</td>\n      <td>C (all)</td>\n      <td>50.0</td>\n      <td>8500</td>\n    </tr>\n    <tr>\n      <th>32</th>\n      <td>20</td>\n      <td>RL</td>\n      <td>NaN</td>\n      <td>8544</td>\n    </tr>\n    <tr>\n      <th>33</th>\n      <td>20</td>\n      <td>RL</td>\n      <td>85.0</td>\n      <td>11049</td>\n    </tr>\n    <tr>\n      <th>34</th>\n      <td>20</td>\n      <td>RL</td>\n      <td>70.0</td>\n      <td>10552</td>\n    </tr>\n    <tr>\n      <th>35</th>\n      <td>120</td>\n      <td>RL</td>\n      <td>60.0</td>\n      <td>7313</td>\n    </tr>\n    <tr>\n      <th>36</th>\n      <td>60</td>\n      <td>RL</td>\n      <td>108.0</td>\n      <td>13418</td>\n    </tr>\n    <tr>\n      <th>37</th>\n      <td>20</td>\n      <td>RL</td>\n      <td>112.0</td>\n      <td>10859</td>\n    </tr>\n    <tr>\n      <th>38</th>\n      <td>20</td>\n      <td>RL</td>\n      <td>74.0</td>\n      <td>8532</td>\n    </tr>\n    <tr>\n      <th>39</th>\n      <td>20</td>\n      <td>RL</td>\n      <td>68.0</td>\n      <td>7922</td>\n    </tr>\n    <tr>\n      <th>40</th>\n      <td>90</td>\n      <td>RL</td>\n      <td>65.0</td>\n      <td>6040</td>\n    </tr>\n  </tbody>\n</table>\n</div>"
     },
     "execution_count": 59,
     "metadata": {},
     "output_type": "execute_result"
    }
   ],
   "source": [
    "tt"
   ],
   "metadata": {
    "collapsed": false,
    "pycharm": {
     "name": "#%%\n"
    }
   }
  },
  {
   "cell_type": "code",
   "execution_count": 61,
   "outputs": [],
   "source": [
    "# import openpyxl\n",
    "tt.to_excel(\"./usless.xlsx\",\n",
    "            columns=['什么', 'MSZoning'],\n",
    "            encoding='utf-8')"
   ],
   "metadata": {
    "collapsed": false,
    "pycharm": {
     "name": "#%%\n"
    }
   }
  },
  {
   "cell_type": "code",
   "execution_count": 21,
   "outputs": [
    {
     "ename": "ModuleNotFoundError",
     "evalue": "No module named 'openpyxl'",
     "output_type": "error",
     "traceback": [
      "\u001B[0;31m---------------------------------------------------------------------------\u001B[0m",
      "\u001B[0;31mModuleNotFoundError\u001B[0m                       Traceback (most recent call last)",
      "\u001B[0;32m<ipython-input-21-73b2aab27cbe>\u001B[0m in \u001B[0;36m<module>\u001B[0;34m\u001B[0m\n\u001B[0;32m----> 1\u001B[0;31m \u001B[0;32mimport\u001B[0m \u001B[0mopenpyxl\u001B[0m\u001B[0;34m\u001B[0m\u001B[0;34m\u001B[0m\u001B[0m\n\u001B[0m\u001B[1;32m      2\u001B[0m \u001B[0;34m\u001B[0m\u001B[0m\n",
      "\u001B[0;31mModuleNotFoundError\u001B[0m: No module named 'openpyxl'"
     ]
    }
   ],
   "source": [],
   "metadata": {
    "collapsed": false,
    "pycharm": {
     "name": "#%%\n"
    }
   }
  },
  {
   "cell_type": "code",
   "execution_count": null,
   "outputs": [],
   "source": [],
   "metadata": {
    "collapsed": false,
    "pycharm": {
     "name": "#%%\n"
    }
   }
  }
 ],
 "metadata": {
  "kernelspec": {
   "display_name": "Python 3",
   "language": "python",
   "name": "python3"
  },
  "language_info": {
   "codemirror_mode": {
    "name": "ipython",
    "version": 2
   },
   "file_extension": ".py",
   "mimetype": "text/x-python",
   "name": "python",
   "nbconvert_exporter": "python",
   "pygments_lexer": "ipython2",
   "version": "2.7.6"
  }
 },
 "nbformat": 4,
 "nbformat_minor": 0
}